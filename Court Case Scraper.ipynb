{
 "cells": [
  {
   "cell_type": "markdown",
   "metadata": {},
   "source": [
    "Necessary imports:"
   ]
  },
  {
   "cell_type": "code",
   "execution_count": null,
   "metadata": {},
   "outputs": [],
   "source": [
    "import csv\n",
    "import requests\n",
    "import json\n",
    "import urllib.request\n",
    "import os\n",
    "from bs4 import BeautifulSoup\n",
    "import pandas as pd\n",
    "from IPython.display import clear_output\n",
    "import matplotlib.pyplot as plt\n",
    "from threading import Thread\n",
    "from nltk.corpus import stopwords\n",
    "dutch_stopwords = stopwords.words(\"dutch\")"
   ]
  },
  {
   "cell_type": "markdown",
   "metadata": {},
   "source": [
    "# Court Case Scraper"
   ]
  },
  {
   "cell_type": "markdown",
   "metadata": {
    "heading_collapsed": true
   },
   "source": [
    "### Config"
   ]
  },
  {
   "cell_type": "code",
   "execution_count": 2,
   "metadata": {
    "hidden": true
   },
   "outputs": [],
   "source": [
    "query = 'drugs'\n",
    "base_verdicts_url = 'https://uitspraken.rechtspraak.nl/api/zoek' \n",
    "complete_case_url = 'https://uitspraken.rechtspraak.nl/inziendocument?id='\n",
    "case_count = 10000000 ## Amount of cases to retrieve. If you want max, just do an insanely high number, it stops when it fetched all cases. Backend does not accept values like 'max'.\n",
    "save_text_location = os.getcwd() + '/court case data/testdata/' # You have to have created this folder first. \n",
    "cases_df = pd.DataFrame()\n",
    "\n",
    "index = [\"id\", \"verdict_date\", \"publication_date\", \"verdict_type\", \"jurisdiction_type\"]\n",
    "\n",
    "\n",
    "files = {\n",
    "        \"StartRow\": 0,\n",
    "        \"PageSize\": case_count,\n",
    "        \"ShouldReturnHighlights\":'true',\n",
    "        \"ShouldCountFacets\":'true',\n",
    "        \"SortOrder\":\"Relevance\",\n",
    "        \"SearchTerms\":[{\"Term\":query,\"Field\":\"AlleVelden\"}],\n",
    "        \"Contentsoorten\":[],\n",
    "        \"Rechtsgebieden\":[],\n",
    "        \"Instanties\":[],\n",
    "        \"DatumPublicatie\":[],\n",
    "        \"DatumUitspraak\":[],\n",
    "        \"Advanced\":{\"PublicatieStatus\":\"AlleenGepubliceerd\"},\n",
    "        \"CorrelationId\":\"9abc658b0ce64f8786992af6965aabc4\",\n",
    "        \"Proceduresoorten\":[]\n",
    "    }\n"
   ]
  },
  {
   "cell_type": "markdown",
   "metadata": {
    "heading_collapsed": true
   },
   "source": [
    "### Old Methods"
   ]
  },
  {
   "cell_type": "markdown",
   "metadata": {
    "hidden": true
   },
   "source": [
    "Method to extract the text from the casefiles. Search the uitsprakenBaseURL with case ID to get the html file. \n",
    "Filter through the html file with BeautifulSoup and look for either class 'uitspraak' or 'conclusie' as the standard seems to switch between cases. \n",
    "Parse html file to textfile to get a clean text file. Replace \\n and commas with empty strings."
   ]
  },
  {
   "cell_type": "code",
   "execution_count": 4,
   "metadata": {
    "hidden": true
   },
   "outputs": [],
   "source": [
    "def getCaseText(caseId):\n",
    "    response = requests.get(uitsprakenBaseUrl + caseId)\n",
    "    soup = BeautifulSoup(response.text, 'html.parser')\n",
    "    soup_content = soup.find(\"div\", {\"id\": 'content'})\n",
    "    uitspraak_html = soup_content.find('div', {'class': 'uitspraak'})\n",
    "    if soup_content.find('div', {'class': 'uitspraak'}) is not None:\n",
    "        uitspraak_html = soup_content.find('div', {'class': 'uitspraak'})\n",
    "    elif soup_content.find('div', {'class': 'conclusie'}) is not None:\n",
    "        uitspraak_html =  soup_content.find('div', {'class': 'conclusie'})\n",
    "    uitspraak = uitspraak_html.get_text()\n",
    "    uitspraak = uitspraak.replace(',', '')\n",
    "    return uitspraak"
   ]
  },
  {
   "cell_type": "markdown",
   "metadata": {
    "hidden": true
   },
   "source": [
    "Method to parse each case individually. Save case attributes to cases.csv and save each case text to a .txt file in /data/ folder and name it the case ID."
   ]
  },
  {
   "cell_type": "code",
   "execution_count": 5,
   "metadata": {
    "hidden": true
   },
   "outputs": [],
   "source": [
    "def parseCaseInfo(results):\n",
    "    global cases_df\n",
    "    for case in results:\n",
    "        caseText = getCaseText(case['TitelEmphasis'])\n",
    "        parsedId = case['TitelEmphasis'].replace(':', '-') # Case id's apparentlyl use ':'. We cannot save files with ':' in the name, so we replace them with '-'.\n",
    "        f= open(save_text_location + parsedId + \".txt\",\"w+\", encoding='utf-8') # Doesn't work without encoding. \n",
    "        f.write(caseText)\n",
    "        case['Case ID'] = parsedId\n",
    "        cases_df = cases_df.append(case, ignore_index = True)\n",
    "        print('Processed case', case['Case ID'])\n",
    "    cases_df.to_csv('cases3.csv', index=False)"
   ]
  },
  {
   "cell_type": "markdown",
   "metadata": {
    "hidden": true
   },
   "source": [
    "Method to retrieve raw data from the backend. Backend url is at the top in the Config. files = complete request payload the backend expects to receive. \n"
   ]
  },
  {
   "cell_type": "code",
   "execution_count": null,
   "metadata": {
    "hidden": true
   },
   "outputs": [],
   "source": [
    "def queryUitspraak():\n",
    "    print(\"Querying\")\n",
    "    files = {\n",
    "        \"StartRow\": 0,\n",
    "        \"PageSize\": case_count,\n",
    "        \"ShouldReturnHighlights\":'true',\n",
    "        \"ShouldCountFacets\":'true',\n",
    "        \"SortOrder\":\"Relevance\",\n",
    "        \"SearchTerms\":[{\"Term\":searchQuery,\"Field\":\"AlleVelden\"}],\n",
    "        \"Contentsoorten\":[],\n",
    "        \"Rechtsgebieden\":[],\n",
    "        \"Instanties\":[],\n",
    "        \"DatumPublicatie\":[],\n",
    "        \"DatumUitspraak\":[],\n",
    "        \"Advanced\":{\"PublicatieStatus\":\"AlleenGepubliceerd\"},\n",
    "        \"CorrelationId\":\"9abc658b0ce64f8786992af6965aabc4\",\n",
    "        \"Proceduresoorten\":[]\n",
    "    }\n",
    "    try:\n",
    "        response = requests.post(baseUrl, json=files)\n",
    "        responseJSON = json.loads(response.text)\n",
    "        results = responseJSON['Results']\n",
    "        print(len(results), \"records!\")\n",
    "        parseCaseInfo(results)\n",
    "    except urllib.error.HTTPError as err:\n",
    "        print(err) \n",
    "\n",
    "queryUitspraak()"
   ]
  },
  {
   "cell_type": "markdown",
   "metadata": {
    "heading_collapsed": true
   },
   "source": [
    "### Methods"
   ]
  },
  {
   "cell_type": "markdown",
   "metadata": {
    "hidden": true
   },
   "source": [
    "Get cases from https://uitspraken.rechtspraak.nl/api/zoek.\n",
    "Returns a collection of dictionaries."
   ]
  },
  {
   "cell_type": "code",
   "execution_count": 3,
   "metadata": {
    "hidden": true
   },
   "outputs": [],
   "source": [
    "def get_cases(config):\n",
    "    try:\n",
    "        response = requests.post(base_verdicts_url, json=config)\n",
    "        responseJSON = json.loads(response.text)\n",
    "        results = responseJSON['Results']\n",
    "        print(len(results), \"records found.\")\n",
    "        return results\n",
    "    except urllib.error.HTTPError as err:\n",
    "        print(err)   "
   ]
  },
  {
   "cell_type": "markdown",
   "metadata": {
    "hidden": true
   },
   "source": [
    "Create a dataframe of all queried cases with the following columns: \n",
    "- Id\n",
    "- Verdict date\n",
    "- Publication date\n",
    "- Verdict type\n",
    "- Jurisdiction type"
   ]
  },
  {
   "cell_type": "code",
   "execution_count": 4,
   "metadata": {
    "hidden": true
   },
   "outputs": [],
   "source": [
    "def create_cases_df(cases):\n",
    "    cases_df = pd.DataFrame(columns = index)\n",
    "    cases_df = pd.DataFrame(columns = index)\n",
    "    for case in cases:\n",
    "        curr_case = pd.Series([case[\"TitelEmphasis\"].replace(\":\", \"-\"), case[\"Uitspraakdatum\"], case[\"Publicatiedatum\"], case[\"UitspraakdatumType\"], case[\"Rechtsgebieden\"]], index = index)\n",
    "        cases_df = cases_df.append(curr_case, ignore_index=True)\n",
    "    cases_df.to_csv('./court case data/testdata.csv', index=False)\n",
    "    return cases_df\n",
    "            "
   ]
  },
  {
   "cell_type": "markdown",
   "metadata": {
    "hidden": true
   },
   "source": [
    "Save the text of all cases from the dataframe to a .txt file located in /data folder. "
   ]
  },
  {
   "cell_type": "code",
   "execution_count": 5,
   "metadata": {
    "hidden": true
   },
   "outputs": [],
   "source": [
    "def save_case_text(df):\n",
    "    case_count = len(df)\n",
    "    i = 1\n",
    "    for case in df[\"id\"]:\n",
    "        try:\n",
    "            response = requests.get(complete_case_url + case.replace(\"-\", \":\"))\n",
    "            soup = BeautifulSoup(response.text, 'html.parser')\n",
    "            soup_content = soup.find(\"div\", {\"id\": 'content'})\n",
    "            uitspraak_html = soup_content.find('div', {'class': 'uitspraak'})\n",
    "            if soup_content.find('div', {'class': 'uitspraak'}) is not None:\n",
    "                uitspraak_html = soup_content.find('div', {'class': 'uitspraak'})\n",
    "            elif soup_content.find('div', {'class': 'conclusie'}) is not None:\n",
    "                uitspraak_html =  soup_content.find('div', {'class': 'conclusie'})\n",
    "            uitspraak = uitspraak_html.get_text()\n",
    "            uitspraak = uitspraak.replace(',', '')\n",
    "            parsed_id = case.replace(\":\", \"-\")\n",
    "            f= open(save_text_location + parsed_id + \".txt\",\"w+\", encoding='utf-8') # Doesn't work without encoding. \n",
    "            f.write(uitspraak)\n",
    "#             print(f\"{i}/{case_count} {parsed_id}\")\n",
    "#             clear_output(wait=True)\n",
    "#             i += 1\n",
    "        except Exception as e:\n",
    "            print(f\"Error in saving. {e}\")\n",
    "    print(\"Finished\")\n",
    "            "
   ]
  },
  {
   "cell_type": "code",
   "execution_count": null,
   "metadata": {
    "hidden": true
   },
   "outputs": [],
   "source": [
    "    "
   ]
  },
  {
   "cell_type": "markdown",
   "metadata": {
    "heading_collapsed": true
   },
   "source": [
    "### Create dataset"
   ]
  },
  {
   "cell_type": "code",
   "execution_count": 6,
   "metadata": {
    "hidden": true
   },
   "outputs": [
    {
     "name": "stdout",
     "output_type": "stream",
     "text": [
      "17968 records found.\n"
     ]
    }
   ],
   "source": [
    "cases = get_cases(files)\n",
    "cases_df = create_cases_df(cases)\n",
    "# save_case_text(cases_df)\n"
   ]
  },
  {
   "cell_type": "code",
   "execution_count": 329,
   "metadata": {
    "hidden": true
   },
   "outputs": [
    {
     "name": "stdout",
     "output_type": "stream",
     "text": [
      "Finished\n",
      "CPU times: user 6.31 s, sys: 278 ms, total: 6.59 s\n",
      "Wall time: 39.4 s\n"
     ]
    }
   ],
   "source": [
    "%%time\n",
    "save_case_text(cases_df)"
   ]
  },
  {
   "cell_type": "code",
   "execution_count": 7,
   "metadata": {
    "hidden": true
   },
   "outputs": [
    {
     "name": "stdout",
     "output_type": "stream",
     "text": [
      "5000\n",
      "5000\n",
      "Finished\n",
      "Finished\n",
      "Finished\n",
      "Finished\n",
      "finished\n",
      "CPU times: user 16min 51s, sys: 36.2 s, total: 17min 27s\n",
      "Wall time: 44min 22s\n"
     ]
    }
   ],
   "source": [
    "%%time\n",
    "cases_df_1 = cases_df[:5000]\n",
    "cases_df_2 = cases_df[5000:10000]\n",
    "cases_df_3 = cases_df[10000:15000]\n",
    "cases_df_4 = cases_df[15000:]\n",
    "\n",
    "print(len(cases_df_1))\n",
    "print(len(cases_df_2))\n",
    "\n",
    "t1 = Thread(target=save_case_text ,args=(cases_df_1,))\n",
    "t2 = Thread(target=save_case_text ,args=(cases_df_2,))\n",
    "t3 = Thread(target=save_case_text ,args=(cases_df_3,))\n",
    "t4 = Thread(target=save_case_text ,args=(cases_df_4,))\n",
    "\n",
    "\n",
    "t1.start()\n",
    "t2.start()\n",
    "t3.start()\n",
    "t4.start()\n",
    "\n",
    "t1.join()\n",
    "t2.join()\n",
    "t3.join()\n",
    "t4.join()\n",
    "print(\"finished\")"
   ]
  },
  {
   "cell_type": "markdown",
   "metadata": {
    "heading_collapsed": true
   },
   "source": [
    "### Create and clean full dataframe"
   ]
  },
  {
   "cell_type": "markdown",
   "metadata": {
    "hidden": true
   },
   "source": [
    "Create:"
   ]
  },
  {
   "cell_type": "code",
   "execution_count": 2,
   "metadata": {
    "hidden": true
   },
   "outputs": [
    {
     "name": "stdout",
     "output_type": "stream",
     "text": [
      "No file DS_Store\n"
     ]
    }
   ],
   "source": [
    "dataPath = os.getcwd() + '/court case data/testdata/'\n",
    "caseCount = len(os.listdir(dataPath))\n",
    "data = []\n",
    "try:\n",
    "    os.remove(dataPath + \".DS_Store\")\n",
    "except:\n",
    "    print(\"No file DS_Store\")\n",
    "for filename in os.listdir(dataPath):\n",
    "    f = open(os.path.join(dataPath, filename), encoding='utf-8')\n",
    "    data.append([filename.replace('.txt', ''), f.read()])\n",
    "\n",
    "verdict_df = pd.DataFrame(data, columns=[\"id\", \"case text\"])\n",
    "cases_df = pd.read_csv('./court case data/testdata.csv')\n",
    "merged_df = cases_df.join(verdict_df.set_index('id'), on='id', how='left')\n",
    "\n",
    "merged_df[\"verdict_date\"] = pd.to_datetime(merged_df[\"verdict_date\"])\n",
    "merged_df[\"publication_date\"] = pd.to_datetime(merged_df[\"publication_date\"])\n"
   ]
  },
  {
   "cell_type": "markdown",
   "metadata": {
    "hidden": true
   },
   "source": [
    "Clean:"
   ]
  },
  {
   "cell_type": "code",
   "execution_count": 3,
   "metadata": {
    "hidden": true
   },
   "outputs": [],
   "source": [
    "total_len_uncleaned = 0\n",
    "for i in range(len(merged_df)):\n",
    "    currtext = merged_df.iloc[i][\"case text\"]\n",
    "    length = len(currtext.split())\n",
    "    total_len_uncleaned += length"
   ]
  },
  {
   "cell_type": "code",
   "execution_count": 7,
   "metadata": {
    "hidden": true
   },
   "outputs": [],
   "source": [
    "cleaned_df = merged_df.copy()\n",
    "cleaned_df['case text'] = cleaned_df['case text'].apply(lambda x: ' '.join([word for word in x.split() if word not in dutch_stopwords]))\n"
   ]
  },
  {
   "cell_type": "code",
   "execution_count": 8,
   "metadata": {
    "hidden": true
   },
   "outputs": [],
   "source": [
    "total_len_cleaned = 0\n",
    "for i in range(len(cleaned_df)):\n",
    "    currtext = cleaned_df.iloc[i][\"case text\"]\n",
    "    length = len(currtext.split())\n",
    "    total_len_cleaned += length"
   ]
  },
  {
   "cell_type": "code",
   "execution_count": 9,
   "metadata": {
    "hidden": true
   },
   "outputs": [
    {
     "name": "stdout",
     "output_type": "stream",
     "text": [
      "Original count: 84851468 \n",
      " Cleaned count: 50816927 \n",
      " Difference: 34034541\n",
      "40.11% decrease\n"
     ]
    }
   ],
   "source": [
    "print(f\"Original count: {total_len_uncleaned} \\n Cleaned count: {total_len_cleaned} \\n Difference: {total_len_uncleaned - total_len_cleaned}\")\n",
    "print(f\"{round((total_len_uncleaned - total_len_cleaned) / total_len_uncleaned * 100, 2)}% decrease\")\n"
   ]
  },
  {
   "cell_type": "markdown",
   "metadata": {
    "heading_collapsed": true
   },
   "source": [
    "### "
   ]
  },
  {
   "cell_type": "code",
   "execution_count": 11,
   "metadata": {
    "hidden": true
   },
   "outputs": [
    {
     "data": {
      "text/plain": [
       "[<matplotlib.lines.Line2D at 0x7fbe1a7399d0>]"
      ]
     },
     "execution_count": 11,
     "metadata": {},
     "output_type": "execute_result"
    },
    {
     "data": {
      "image/png": "[encoded data removed]",
      "text/plain": [
       "<Figure size 432x288 with 1 Axes>"
      ]
     },
     "metadata": {
      "needs_background": "light"
     },
     "output_type": "display_data"
    }
   ],
   "source": [
    "dateplot = cleaned_df['verdict_date'].value_counts().resample('1M').sum()\n",
    "plt.plot(dateplot)"
   ]
  },
  {
   "cell_type": "markdown",
   "metadata": {
    "hidden": true
   },
   "source": [
    "Copy merged_df to cleaned_df and remove stopwords"
   ]
  },
  {
   "cell_type": "markdown",
   "metadata": {
    "heading_collapsed": true
   },
   "source": [
    "### "
   ]
  },
  {
   "cell_type": "markdown",
   "metadata": {},
   "source": [
    "# Dutch News Articles"
   ]
  },
  {
   "cell_type": "markdown",
   "metadata": {
    "heading_collapsed": true
   },
   "source": [
    "### Import Data"
   ]
  },
  {
   "cell_type": "code",
   "execution_count": 46,
   "metadata": {
    "hidden": true
   },
   "outputs": [],
   "source": [
    "nos_df = pd.read_csv('./NOS articles/dutch-news-articles.csv')\n",
    "nos_df[\"datetime\"] = pd.to_datetime(nos_df[\"datetime\"])"
   ]
  },
  {
   "cell_type": "code",
   "execution_count": 310,
   "metadata": {
    "hidden": true
   },
   "outputs": [
    {
     "name": "stdout",
     "output_type": "stream",
     "text": [
      "['Buitenland' 'Binnenland' 'Politiek' 'Economie' 'Koningshuis'\n",
      " 'Opmerkelijk' 'Tech' 'Cultuur & Media' 'Regionaal nieuws']\n"
     ]
    }
   ],
   "source": [
    "print(nos_df[\"category\"].unique())"
   ]
  },
  {
   "cell_type": "code",
   "execution_count": 308,
   "metadata": {
    "hidden": true
   },
   "outputs": [
    {
     "data": {
      "text/plain": [
       "[<matplotlib.lines.Line2D at 0x7ffc5242e280>]"
      ]
     },
     "execution_count": 308,
     "metadata": {},
     "output_type": "execute_result"
    },
    {
     "data": {
      "image/png": "[encoded data removed]",
      "text/plain": [
       "<Figure size 432x288 with 1 Axes>"
      ]
     },
     "metadata": {
      "needs_background": "light"
     },
     "output_type": "display_data"
    }
   ],
   "source": [
    "nos_date_plot = nos_df[\"datetime\"].value_counts().resample(\"1M\").sum()\n",
    "plt.plot(nos_date_plot)"
   ]
  },
  {
   "cell_type": "markdown",
   "metadata": {
    "heading_collapsed": true
   },
   "source": [
    "### Clean data"
   ]
  },
  {
   "cell_type": "code",
   "execution_count": 15,
   "metadata": {
    "hidden": true
   },
   "outputs": [
    {
     "name": "stdout",
     "output_type": "stream",
     "text": [
      "237344 articles\n",
      "58947842\n"
     ]
    }
   ],
   "source": [
    "print(f\"{len(nos_df)} articles\")\n",
    "\n",
    "word_count = 0\n",
    "for i in range(len(nos_df)):\n",
    "    curr = nos_df.iloc[i]\n",
    "    word_count += len(curr[\"content\"].split())\n",
    "print(word_count)\n"
   ]
  },
  {
   "cell_type": "code",
   "execution_count": 16,
   "metadata": {
    "hidden": true
   },
   "outputs": [],
   "source": [
    "cleaned_nos_df = nos_df.copy()\n",
    "cleaned_nos_df['content'] = cleaned_nos_df['content'].apply(lambda x: ' '.join([word for word in x.split() if word not in dutch_stopwords]))\n"
   ]
  },
  {
   "cell_type": "code",
   "execution_count": 19,
   "metadata": {
    "hidden": true
   },
   "outputs": [
    {
     "name": "stdout",
     "output_type": "stream",
     "text": [
      "34967964\n"
     ]
    }
   ],
   "source": [
    "cleaned_word_count = 0\n",
    "for i in range(len(cleaned_nos_df)):\n",
    "    curr = cleaned_nos_df.iloc[i]\n",
    "    cleaned_word_count += len(curr[\"content\"].split())\n",
    "print(cleaned_word_count)"
   ]
  },
  {
   "cell_type": "code",
   "execution_count": 20,
   "metadata": {
    "hidden": true
   },
   "outputs": [
    {
     "name": "stdout",
     "output_type": "stream",
     "text": [
      "Original count: 93915806 \n",
      " Cleaned count: 34967964 \n",
      " Difference: 58947842\n",
      "62.77% decrease\n"
     ]
    }
   ],
   "source": [
    "print(f\"Original count: {word_count} \\n Cleaned count: {cleaned_word_count} \\n Difference: {word_count - cleaned_word_count}\")\n",
    "print(f\"{round((word_count - cleaned_word_count) / word_count * 100, 2)}% decrease\")\n"
   ]
  },
  {
   "cell_type": "code",
   "execution_count": 33,
   "metadata": {
    "hidden": true
   },
   "outputs": [
    {
     "name": "stdout",
     "output_type": "stream",
     "text": [
      "Original NOS dataframe contains 237344 articles.\n",
      "New drug NOS dataframe contains 6503 articles.\n",
      "New trafficking NOS dataframe contains 1396 articles.\n"
     ]
    }
   ],
   "source": [
    "print(f\"Original NOS dataframe contains {len(cleaned_nos_df)} articles.\")\n",
    "\n",
    "nos_drugs_df = pd.DataFrame()\n",
    "drugs_words = [\"drugs\", \"narcotica\", \"verdovende middelen\"]\n",
    "\n",
    "for i in range(len(cleaned_nos_df)):\n",
    "    curr = cleaned_nos_df.iloc[i]\n",
    "    if any(x in curr[\"content\"] for x in drugs_words):\n",
    "        nos_drugs_df = nos_drugs_df.append(curr)\n",
    "    \n",
    "print(f\"New drug NOS dataframe contains {len(nos_drugs_df)} articles.\")\n",
    "\n",
    "nos_trafficking_df = pd.DataFrame()\n",
    "trafficking_words = [\"smokkel\", \"transport\", \"invoer\", \"import\", \"export\", \"uitvoer\"]\n",
    "\n",
    "for i in range(len(nos_drugs_df)):\n",
    "    curr = nos_drugs_df.iloc[i]\n",
    "    if any(x in curr[\"content\"] for x in trafficking_words):\n",
    "        nos_trafficking_df = nos_trafficking_df.append(curr)\n",
    "    \n",
    "print(f\"New trafficking NOS dataframe contains {len(nos_trafficking_df)} articles.\")"
   ]
  },
  {
   "cell_type": "code",
   "execution_count": 45,
   "metadata": {
    "hidden": true
   },
   "outputs": [
    {
     "data": {
      "text/plain": [
       "[<matplotlib.lines.Line2D at 0x7fef42de4610>]"
      ]
     },
     "execution_count": 45,
     "metadata": {},
     "output_type": "execute_result"
    },
    {
     "data": {
      "image/png": "[encoded data removed]",
      "text/plain": [
       "<Figure size 432x288 with 1 Axes>"
      ]
     },
     "metadata": {
      "needs_background": "light"
     },
     "output_type": "display_data"
    }
   ],
   "source": [
    "nos_drugs_plot = nos_drugs_df[\"datetime\"].value_counts().resample(\"1M\").sum()\n",
    "plt.title(\"Drug related NOS articles\")\n",
    "plt.plot(nos_drugs_plot)"
   ]
  },
  {
   "cell_type": "code",
   "execution_count": 44,
   "metadata": {
    "hidden": true
   },
   "outputs": [
    {
     "data": {
      "text/plain": [
       "[<matplotlib.lines.Line2D at 0x7fef37a979d0>]"
      ]
     },
     "execution_count": 44,
     "metadata": {},
     "output_type": "execute_result"
    },
    {
     "data": {
      "image/png": "[encoded data removed]",
      "text/plain": [
       "<Figure size 432x288 with 1 Axes>"
      ]
     },
     "metadata": {
      "needs_background": "light"
     },
     "output_type": "display_data"
    }
   ],
   "source": [
    "nos_trafficking_plot = nos_trafficking_df[\"datetime\"].value_counts().resample(\"1M\").sum()\n",
    "plt.title(\"Drug trafficking related NOS articles\")\n",
    "plt.plot(nos_trafficking_plot)"
   ]
  },
  {
   "cell_type": "code",
   "execution_count": null,
   "metadata": {
    "hidden": true
   },
   "outputs": [],
   "source": []
  },
  {
   "cell_type": "markdown",
   "metadata": {},
   "source": [
    "# "
   ]
  },
  {
   "cell_type": "code",
   "execution_count": null,
   "metadata": {},
   "outputs": [],
   "source": []
  },
  {
   "cell_type": "code",
   "execution_count": null,
   "metadata": {},
   "outputs": [],
   "source": []
  },
  {
   "cell_type": "code",
   "execution_count": null,
   "metadata": {},
   "outputs": [],
   "source": []
  },
  {
   "cell_type": "code",
   "execution_count": null,
   "metadata": {},
   "outputs": [],
   "source": []
  }
 ],
 "metadata": {
  "kernelspec": {
   "display_name": "Python 3",
   "language": "python",
   "name": "python3"
  },
  "language_info": {
   "codemirror_mode": {
    "name": "ipython",
    "version": 3
   },
   "file_extension": ".py",
   "mimetype": "text/x-python",
   "name": "python",
   "nbconvert_exporter": "python",
   "pygments_lexer": "ipython3",
   "version": "3.8.5"
  }
 },
 "nbformat": 4,
 "nbformat_minor": 4
}
