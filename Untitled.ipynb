{
 "cells": [
  {
   "cell_type": "code",
   "execution_count": 2,
   "id": "02bac869",
   "metadata": {},
   "outputs": [],
   "source": [
    "import pandas as pd\n",
    "import pickle"
   ]
  },
  {
   "cell_type": "code",
   "execution_count": 3,
   "id": "889403fd",
   "metadata": {},
   "outputs": [
    {
     "data": {
      "text/plain": [
       "(2528, 4)"
      ]
     },
     "execution_count": 3,
     "metadata": {},
     "output_type": "execute_result"
    }
   ],
   "source": [
    "trafficking_df = pd.read_pickle('saves/trafficking_df.pkl')\n",
    "trafficking_df.shape"
   ]
  },
  {
   "cell_type": "code",
   "execution_count": null,
   "id": "ad0c0c9e",
   "metadata": {},
   "outputs": [],
   "source": []
  },
  {
   "cell_type": "code",
   "execution_count": 8,
   "id": "349f5a83",
   "metadata": {},
   "outputs": [
    {
     "data": {
      "text/plain": [
       "['Dit feit heeft betrekking op een geslaagde invoer van 900 gram cocaïne vanuit Argentinië door een persoon genaamd [naam 6].']"
      ]
     },
     "execution_count": 8,
     "metadata": {},
     "output_type": "execute_result"
    }
   ],
   "source": [
    "trafficking_df.iloc[6]['relevant_chunks']"
   ]
  },
  {
   "cell_type": "code",
   "execution_count": 12,
   "id": "73bd76ca",
   "metadata": {},
   "outputs": [
    {
     "data": {
      "text/html": [
       "<div>\n",
       "<style scoped>\n",
       "    .dataframe tbody tr th:only-of-type {\n",
       "        vertical-align: middle;\n",
       "    }\n",
       "\n",
       "    .dataframe tbody tr th {\n",
       "        vertical-align: top;\n",
       "    }\n",
       "\n",
       "    .dataframe thead th {\n",
       "        text-align: right;\n",
       "    }\n",
       "</style>\n",
       "<table border=\"1\" class=\"dataframe\">\n",
       "  <thead>\n",
       "    <tr style=\"text-align: right;\">\n",
       "      <th></th>\n",
       "      <th>ecli</th>\n",
       "      <th>text</th>\n",
       "    </tr>\n",
       "  </thead>\n",
       "  <tbody>\n",
       "    <tr>\n",
       "      <th>0</th>\n",
       "      <td>ECLI:NL:OGHACMB:2020:78</td>\n",
       "      <td>Het is een feit van algemene bekendheid dat co...</td>\n",
       "    </tr>\n",
       "    <tr>\n",
       "      <th>1</th>\n",
       "      <td>ECLI:NL:OGHACMB:2020:82</td>\n",
       "      <td>Het is een feit van algemene bekendheid dat co...</td>\n",
       "    </tr>\n",
       "    <tr>\n",
       "      <th>2</th>\n",
       "      <td>ECLI:NL:OGEAC:2018:352</td>\n",
       "      <td>3. dat hij op 11 juli 2017 in elk geval op een...</td>\n",
       "    </tr>\n",
       "    <tr>\n",
       "      <th>3</th>\n",
       "      <td>ECLI:NL:OGEAC:2018:353</td>\n",
       "      <td>3. hij op 11 juli 2017 in elk geval op één of ...</td>\n",
       "    </tr>\n",
       "    <tr>\n",
       "      <th>4</th>\n",
       "      <td>ECLI:NL:OGHACMB:2017:257</td>\n",
       "      <td>dat hij op of omstreeks 4 maart 2016 in Aruba ...</td>\n",
       "    </tr>\n",
       "    <tr>\n",
       "      <th>...</th>\n",
       "      <td>...</td>\n",
       "      <td>...</td>\n",
       "    </tr>\n",
       "    <tr>\n",
       "      <th>2523</th>\n",
       "      <td>ECLI:NL:RBSGR:2011:BU9716</td>\n",
       "      <td>Considering the situation dragging on in Colom...</td>\n",
       "    </tr>\n",
       "    <tr>\n",
       "      <th>2524</th>\n",
       "      <td>ECLI:NL:GHSHE:2020:1730</td>\n",
       "      <td>hij op een of meerdere tijdstip(pen) in of oms...</td>\n",
       "    </tr>\n",
       "    <tr>\n",
       "      <th>2525</th>\n",
       "      <td>ECLI:NL:HR:1998:ZD1191</td>\n",
       "      <td>\"1. hij in de periode van 1 februari 1990 tot ...</td>\n",
       "    </tr>\n",
       "    <tr>\n",
       "      <th>2526</th>\n",
       "      <td>ECLI:NL:GHSHE:2021:3205</td>\n",
       "      <td>hij verdachte in of omstreeks de periode van 1...</td>\n",
       "    </tr>\n",
       "    <tr>\n",
       "      <th>2527</th>\n",
       "      <td>ECLI:NL:RBLIM:2018:3094</td>\n",
       "      <td>De rechtbank concludeert voorts dat deze cocaï...</td>\n",
       "    </tr>\n",
       "  </tbody>\n",
       "</table>\n",
       "<p>2528 rows × 2 columns</p>\n",
       "</div>"
      ],
      "text/plain": [
       "                           ecli  \\\n",
       "0       ECLI:NL:OGHACMB:2020:78   \n",
       "1       ECLI:NL:OGHACMB:2020:82   \n",
       "2        ECLI:NL:OGEAC:2018:352   \n",
       "3        ECLI:NL:OGEAC:2018:353   \n",
       "4      ECLI:NL:OGHACMB:2017:257   \n",
       "...                         ...   \n",
       "2523  ECLI:NL:RBSGR:2011:BU9716   \n",
       "2524    ECLI:NL:GHSHE:2020:1730   \n",
       "2525     ECLI:NL:HR:1998:ZD1191   \n",
       "2526    ECLI:NL:GHSHE:2021:3205   \n",
       "2527    ECLI:NL:RBLIM:2018:3094   \n",
       "\n",
       "                                                   text  \n",
       "0     Het is een feit van algemene bekendheid dat co...  \n",
       "1     Het is een feit van algemene bekendheid dat co...  \n",
       "2     3. dat hij op 11 juli 2017 in elk geval op een...  \n",
       "3     3. hij op 11 juli 2017 in elk geval op één of ...  \n",
       "4     dat hij op of omstreeks 4 maart 2016 in Aruba ...  \n",
       "...                                                 ...  \n",
       "2523  Considering the situation dragging on in Colom...  \n",
       "2524  hij op een of meerdere tijdstip(pen) in of oms...  \n",
       "2525  \"1. hij in de periode van 1 februari 1990 tot ...  \n",
       "2526  hij verdachte in of omstreeks de periode van 1...  \n",
       "2527  De rechtbank concludeert voorts dat deze cocaï...  \n",
       "\n",
       "[2528 rows x 2 columns]"
      ]
     },
     "execution_count": 12,
     "metadata": {},
     "output_type": "execute_result"
    }
   ],
   "source": [
    "rel_df = pd.DataFrame(columns=['ecli', 'text'])\n",
    "for index, row in trafficking_df.iterrows():\n",
    "    ecli = row['ecli']\n",
    "    text = ''\n",
    "    for chunk in row['relevant_chunks']:\n",
    "        text += chunk\n",
    "    rel_df = rel_df.append({'ecli': ecli, 'text': text}, ignore_index=True)\n",
    "    \n",
    "rel_df"
   ]
  },
  {
   "cell_type": "code",
   "execution_count": 13,
   "id": "a659292d",
   "metadata": {},
   "outputs": [
    {
     "data": {
      "text/plain": [
       "'Het is een feit van algemene bekendheid dat cocaïne al dan niet in combinatie met hennep met grote regelmaat op soortgelijke wijze naar Curaçao wordt getransporteerd.Aldus hebben de verdachte en de medeverdachte – op zijn minst – bewust het risico genomen dat zij naast de afgesproken hennep ook cocaïne hebben ingevoerd in Curaçao. '"
      ]
     },
     "execution_count": 13,
     "metadata": {},
     "output_type": "execute_result"
    }
   ],
   "source": [
    "rel_df.iloc[0]['text']"
   ]
  },
  {
   "cell_type": "code",
   "execution_count": null,
   "id": "0c38efcd",
   "metadata": {},
   "outputs": [],
   "source": []
  },
  {
   "cell_type": "code",
   "execution_count": null,
   "id": "8404294d",
   "metadata": {},
   "outputs": [],
   "source": []
  },
  {
   "cell_type": "code",
   "execution_count": null,
   "id": "b415a81d",
   "metadata": {},
   "outputs": [],
   "source": []
  },
  {
   "cell_type": "code",
   "execution_count": null,
   "id": "75b056c7",
   "metadata": {},
   "outputs": [],
   "source": []
  },
  {
   "cell_type": "code",
   "execution_count": null,
   "id": "0c2ee01f",
   "metadata": {},
   "outputs": [],
   "source": []
  }
 ],
 "metadata": {
  "kernelspec": {
   "display_name": "Python 3 (ipykernel)",
   "language": "python",
   "name": "python3"
  },
  "language_info": {
   "codemirror_mode": {
    "name": "ipython",
    "version": 3
   },
   "file_extension": ".py",
   "mimetype": "text/x-python",
   "name": "python",
   "nbconvert_exporter": "python",
   "pygments_lexer": "ipython3",
   "version": "3.10.1"
  }
 },
 "nbformat": 4,
 "nbformat_minor": 5
}
