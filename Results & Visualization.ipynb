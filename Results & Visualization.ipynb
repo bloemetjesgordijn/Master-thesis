{
 "cells": [
  {
   "cell_type": "code",
   "execution_count": 2,
   "id": "b6d8dd29",
   "metadata": {},
   "outputs": [],
   "source": [
    "import pandas as pd"
   ]
  },
  {
   "cell_type": "markdown",
   "id": "118f03ec",
   "metadata": {},
   "source": [
    "### Import data"
   ]
  },
  {
   "cell_type": "code",
   "execution_count": 3,
   "id": "5e759343",
   "metadata": {},
   "outputs": [
    {
     "data": {
      "text/plain": [
       "(6210, 7)"
      ]
     },
     "execution_count": 3,
     "metadata": {},
     "output_type": "execute_result"
    }
   ],
   "source": [
    "results_df = pd.read_pickle('saves/final_df.pkl')\n",
    "results_df.shape"
   ]
  },
  {
   "cell_type": "code",
   "execution_count": 6,
   "id": "a0d4df03",
   "metadata": {},
   "outputs": [
    {
     "data": {
      "text/plain": [
       "(18462, 7)"
      ]
     },
     "execution_count": 6,
     "metadata": {},
     "output_type": "execute_result"
    }
   ],
   "source": [
    "merged_df = pd.read_pickle(\"saves/merged_df.pkl\")\n",
    "merged_df.shape"
   ]
  },
  {
   "cell_type": "code",
   "execution_count": null,
   "id": "addbf44b",
   "metadata": {},
   "outputs": [],
   "source": []
  },
  {
   "cell_type": "markdown",
   "id": "95835b4e",
   "metadata": {},
   "source": [
    "### Generalize drug types"
   ]
  },
  {
   "cell_type": "code",
   "execution_count": null,
   "id": "f5200809",
   "metadata": {},
   "outputs": [],
   "source": [
    "drug_types = []\n",
    "for index, row in results_df.iterrows():\n",
    "    drug = row['drug']\n",
    "    if drug not in drug_types:\n",
    "        drug_types.append(drug)\n",
    "        \n",
    "print(drug_types)"
   ]
  },
  {
   "cell_type": "code",
   "execution_count": null,
   "id": "55e754cf",
   "metadata": {},
   "outputs": [],
   "source": [
    "drug_translation_dict = {\n",
    "    'precursor': ['bmk', 'mapa', 'n-formylamfetamine', 'methanol', 'piperonal', 'aceton', 'pmk', 'bmk.6', 'isosafrol', 'gbl', 'piperonylmethylketon', 'mierenzuur', 'apaan', 'formamide', 'benzylmethylketon', 'ethylacetaat'], \n",
    "    'heroin': ['diacetylmorfine', 'heroïne', 'heroine'],\n",
    "    'general': ['drugs', 'olie', 'harddrugs', 'cafeïne', 'lidocaïne', 'tabletten', 'kristallen', 'pillen', 'pil'],\n",
    "    'cocaine': ['cocaïne', 'crack', 'coke', 'cocaine', 'cocaïnetransport', 'cocaïnetransporten'],\n",
    "    'cannabis': ['hennep', 'hasjiesj', 'hash', 'hasj', 'wiet', 'marihuana', 'cannabis', 'weed', 'hashish'],\n",
    "    'amphetamines': ['mdma', 'xtc/mdma', 'mdma/xtc', 'mdma-kristallen', 'ecstasy', 'amfetamine-olie', 'amfetaminepasta', 'amfetaminen', 'amfetamineolie', 'mdma-poeder', 'amfetaminebase', 'xtc', '4-fa', '34-methyleendioxymethamfetamine', 'meth', 'pep', 'mdma-pillen', 'methamfetamine', 'amfetamine', 'xtc-pillen', 'mdea', 'tenamfetamine', 'xtc-tabletten', 'speed', 'metamfetamine'],\n",
    "    'opioids': ['fentanyl', 'opium', 'methadon', 'codeïne', 'fenacetine'],\n",
    "    'unidentified': ['2c-b', 'psilocine', 'oxycodon', 'psilocybine', 'morfine', 'ghb', 'crystal', 'lsd', 'coffeïne', 'paracetamol', 'ketamine', 'diamorfine', 'diazepam', 'temazepam']}\n",
    "\n",
    "\n"
   ]
  },
  {
   "cell_type": "code",
   "execution_count": null,
   "id": "8d20214f",
   "metadata": {},
   "outputs": [],
   "source": [
    "drug_translation_dict = {\n",
    "    'softdrugs': ['hennep', 'hasjiesj', 'hash', 'hasj', 'wiet', 'marihuana', 'cannabis', 'weed', 'hashish'],\n",
    "    'harddrugs': ['ketamine', 'crystal', 'lsd', 'coffeïne', 'ghb', 'psilocybine', '2c-b', 'psilocine', 'fentanyl', 'opium', 'methadon', 'codeïne', 'fenacetine', 'mdma', 'xtc/mdma', 'mdma/xtc', 'mdma-kristallen', 'ecstasy', 'amfetamine-olie', 'amfetaminepasta', 'amfetaminen', 'amfetamineolie', 'mdma-poeder', 'amfetaminebase', 'xtc', '4-fa', '34-methyleendioxymethamfetamine', 'meth', 'pep', 'mdma-pillen', 'methamfetamine', 'amfetamine', 'xtc-pillen', 'mdea', 'tenamfetamine', 'xtc-tabletten', 'speed', 'metamfetamine', 'diacetylmorfine', 'heroïne', 'heroine', 'harddrugs', 'cocaïne', 'crack', 'coke', 'cocaine', 'cocaïnetransport', 'cocaïnetransporten'],\n",
    "    'medicine': ['diamorfine', 'diazepam', 'temazepam', 'lidocaïne', 'cafeïne', 'oxycodon', 'morfine', 'paracetamol'],\n",
    "    'precursor': ['bmk', 'mapa', 'n-formylamfetamine', 'methanol', 'piperonal', 'aceton', 'pmk', 'bmk.6', 'isosafrol', 'gbl', 'piperonylmethylketon', 'mierenzuur', 'apaan', 'formamide', 'benzylmethylketon', 'ethylacetaat'], \n",
    "    'unspecified': ['drugs', 'olie', 'cafeïne', 'tabletten', 'kristallen', 'pillen', 'pil']\n",
    "}"
   ]
  },
  {
   "cell_type": "code",
   "execution_count": null,
   "id": "084abd6b",
   "metadata": {},
   "outputs": [],
   "source": [
    "general_drug_list = []\n",
    "\n",
    "for index, row in results_df.iterrows():\n",
    "    drug_type = row['drug']\n",
    "    general_type = ''\n",
    "    for key in drug_translation_dict:\n",
    "        drug_list = drug_translation_dict[key]\n",
    "        if drug_type in drug_list:\n",
    "            general_type = key\n",
    "    \n",
    "    general_drug_list.append(general_type)\n",
    "    \n",
    "results_df['general_drug_type'] = general_drug_list\n",
    "results_df"
   ]
  },
  {
   "cell_type": "code",
   "execution_count": null,
   "id": "956b444c",
   "metadata": {},
   "outputs": [],
   "source": []
  },
  {
   "cell_type": "code",
   "execution_count": null,
   "id": "baca0c55",
   "metadata": {},
   "outputs": [],
   "source": []
  },
  {
   "cell_type": "code",
   "execution_count": null,
   "id": "17fe6238",
   "metadata": {},
   "outputs": [],
   "source": []
  }
 ],
 "metadata": {
  "kernelspec": {
   "display_name": "Python 3 (ipykernel)",
   "language": "python",
   "name": "python3"
  },
  "language_info": {
   "codemirror_mode": {
    "name": "ipython",
    "version": 3
   },
   "file_extension": ".py",
   "mimetype": "text/x-python",
   "name": "python",
   "nbconvert_exporter": "python",
   "pygments_lexer": "ipython3",
   "version": "3.10.1"
  }
 },
 "nbformat": 4,
 "nbformat_minor": 5
}
