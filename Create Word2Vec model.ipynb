{
 "cells": [
  {
   "cell_type": "markdown",
   "id": "aa53cbba",
   "metadata": {},
   "source": [
    "# Create dataset"
   ]
  },
  {
   "cell_type": "markdown",
   "id": "42a6ec34",
   "metadata": {
    "heading_collapsed": true
   },
   "source": [
    "### Create"
   ]
  },
  {
   "cell_type": "code",
   "execution_count": null,
   "id": "52246f13",
   "metadata": {
    "hidden": true
   },
   "outputs": [],
   "source": [
    "import pandas as pd\n",
    "import os"
   ]
  },
  {
   "cell_type": "code",
   "execution_count": null,
   "id": "30918040",
   "metadata": {
    "hidden": true
   },
   "outputs": [],
   "source": [
    "dataPath = os.getcwd() + '/court case data/testdata/'\n",
    "caseCount = len(os.listdir(dataPath))\n",
    "data = []\n",
    "try:\n",
    "    os.remove(dataPath + \".DS_Store\")\n",
    "except:\n",
    "    print(\"No file DS_Store\")\n",
    "for filename in os.listdir(dataPath):\n",
    "    f = open(os.path.join(dataPath, filename), encoding='utf-8')\n",
    "    data.append([filename.replace('.txt', ''), f.read()])\n",
    "\n",
    "verdict_df = pd.DataFrame(data, columns=[\"id\", \"case text\"])\n",
    "cases_df = pd.read_csv('./court case data/testdata.csv')\n",
    "merged_df = cases_df.join(verdict_df.set_index('id'), on='id', how='left')\n",
    "\n",
    "merged_df[\"verdict_date\"] = pd.to_datetime(merged_df[\"verdict_date\"])\n",
    "merged_df[\"publication_date\"] = pd.to_datetime(merged_df[\"publication_date\"])"
   ]
  },
  {
   "cell_type": "code",
   "execution_count": null,
   "id": "32c44085",
   "metadata": {
    "hidden": true
   },
   "outputs": [],
   "source": [
    "def add_inhoudsindicatie_to_case_text(df):\n",
    "    for index, row in df.iterrows():\n",
    "        fulltext = row['case text'] + row['inhoudsindicatie']\n",
    "        df.at[index,'case text']= fulltext\n",
    "    return df\n",
    "\n",
    "merged_df = add_inhoudsindicatie_to_case_text(merged_df)"
   ]
  },
  {
   "cell_type": "code",
   "execution_count": null,
   "id": "61cd8b88",
   "metadata": {
    "hidden": true
   },
   "outputs": [],
   "source": [
    "merged_df.to_pickle(\"merged_df.pkl\")"
   ]
  },
  {
   "cell_type": "code",
   "execution_count": null,
   "id": "ea7fd820",
   "metadata": {
    "hidden": true
   },
   "outputs": [],
   "source": [
    "merged_df"
   ]
  },
  {
   "cell_type": "markdown",
   "id": "684884e9",
   "metadata": {
    "heading_collapsed": true
   },
   "source": [
    "### Load"
   ]
  },
  {
   "cell_type": "code",
   "execution_count": 1,
   "id": "21ea0980",
   "metadata": {
    "hidden": true
   },
   "outputs": [],
   "source": [
    "import pandas as pd\n",
    "import os"
   ]
  },
  {
   "cell_type": "code",
   "execution_count": 2,
   "id": "d56be6e7",
   "metadata": {
    "hidden": true
   },
   "outputs": [
    {
     "data": {
      "text/html": [
       "<div>\n",
       "<style scoped>\n",
       "    .dataframe tbody tr th:only-of-type {\n",
       "        vertical-align: middle;\n",
       "    }\n",
       "\n",
       "    .dataframe tbody tr th {\n",
       "        vertical-align: top;\n",
       "    }\n",
       "\n",
       "    .dataframe thead th {\n",
       "        text-align: right;\n",
       "    }\n",
       "</style>\n",
       "<table border=\"1\" class=\"dataframe\">\n",
       "  <thead>\n",
       "    <tr style=\"text-align: right;\">\n",
       "      <th></th>\n",
       "      <th>id</th>\n",
       "      <th>verdict_date</th>\n",
       "      <th>publication_date</th>\n",
       "      <th>verdict_type</th>\n",
       "      <th>jurisdiction_type</th>\n",
       "      <th>inhoudsindicatie</th>\n",
       "      <th>case text</th>\n",
       "    </tr>\n",
       "  </thead>\n",
       "  <tbody>\n",
       "    <tr>\n",
       "      <th>0</th>\n",
       "      <td>ECLI-NL-RBNNE-2021-5018</td>\n",
       "      <td>2021-01-10</td>\n",
       "      <td>2021-11-23</td>\n",
       "      <td>uitspraak</td>\n",
       "      <td>['Strafrecht']</td>\n",
       "      <td>Productie synthetische drugs, medeplegen, prod...</td>\n",
       "      <td>\\n\\nRECHTBANK NOORD-NEDERLAND\\nAfdeling strafr...</td>\n",
       "    </tr>\n",
       "    <tr>\n",
       "      <th>1</th>\n",
       "      <td>ECLI-NL-RBZUT-2003-AH9598</td>\n",
       "      <td>2003-03-06</td>\n",
       "      <td>2003-09-07</td>\n",
       "      <td>uitspraak</td>\n",
       "      <td>['Strafrecht']</td>\n",
       "      <td>Leveren grondstoffen synthetische drugs en sto...</td>\n",
       "      <td>\\n\\nRECHTBANK ZUTPHEN\\nMeervoudige economische...</td>\n",
       "    </tr>\n",
       "    <tr>\n",
       "      <th>2</th>\n",
       "      <td>ECLI-NL-RBZWB-2020-2646</td>\n",
       "      <td>2020-06-23</td>\n",
       "      <td>2020-06-23</td>\n",
       "      <td>uitspraak</td>\n",
       "      <td>['Strafrecht']</td>\n",
       "      <td>plegen van voorbereidingshandelingen ten behoe...</td>\n",
       "      <td>\\n\\nRECHTBANK ZEELAND-WEST-BRABANT\\n\\nStrafrec...</td>\n",
       "    </tr>\n",
       "    <tr>\n",
       "      <th>3</th>\n",
       "      <td>ECLI-NL-GHAMS-2019-1601</td>\n",
       "      <td>2019-08-05</td>\n",
       "      <td>2019-07-26</td>\n",
       "      <td>uitspraak</td>\n",
       "      <td>['Strafrecht']</td>\n",
       "      <td>medeplegen witwassen - medeplegen voorhanden h...</td>\n",
       "      <td>\\n\\nafdeling strafrecht\\nparketnummer: 23-0017...</td>\n",
       "    </tr>\n",
       "    <tr>\n",
       "      <th>4</th>\n",
       "      <td>ECLI-NL-GHAMS-2019-1602</td>\n",
       "      <td>2019-08-05</td>\n",
       "      <td>2019-07-26</td>\n",
       "      <td>uitspraak</td>\n",
       "      <td>['Strafrecht']</td>\n",
       "      <td>medeplegen witwassen - medeplegen voorhanden h...</td>\n",
       "      <td>\\n\\nafdeling strafrecht\\nparketnummer: 23-0017...</td>\n",
       "    </tr>\n",
       "    <tr>\n",
       "      <th>...</th>\n",
       "      <td>...</td>\n",
       "      <td>...</td>\n",
       "      <td>...</td>\n",
       "      <td>...</td>\n",
       "      <td>...</td>\n",
       "      <td>...</td>\n",
       "      <td>...</td>\n",
       "    </tr>\n",
       "    <tr>\n",
       "      <th>18457</th>\n",
       "      <td>ECLI-NL-RBAMS-2013-1294</td>\n",
       "      <td>2013-01-29</td>\n",
       "      <td>2013-08-10</td>\n",
       "      <td>uitspraak</td>\n",
       "      <td>['Strafrecht']</td>\n",
       "      <td>De rechtbank acht bewezen dat er sprake is van...</td>\n",
       "      <td>\\n\\nRECHTBANK AMSTERDAM\\n\\n\\nVONNIS\\n\\n \\n\\n13...</td>\n",
       "    </tr>\n",
       "    <tr>\n",
       "      <th>18458</th>\n",
       "      <td>ECLI-NL-PHR-2020-1106</td>\n",
       "      <td>2020-11-24</td>\n",
       "      <td>2020-11-24</td>\n",
       "      <td>conclusie</td>\n",
       "      <td>['Strafrecht']</td>\n",
       "      <td>Conclusie AG. Vervolging van een politieagent ...</td>\n",
       "      <td>\\n\\nPROCUREUR-GENERAAL\\n\\n\\nBIJ DE\\n\\n\\nHOGE R...</td>\n",
       "    </tr>\n",
       "    <tr>\n",
       "      <th>18459</th>\n",
       "      <td>ECLI-NL-GHAMS-2017-2618</td>\n",
       "      <td>2017-06-29</td>\n",
       "      <td>2017-05-07</td>\n",
       "      <td>uitspraak</td>\n",
       "      <td>['Strafrecht']</td>\n",
       "      <td>Liquidatieproces Passage\\n\\n                  ...</td>\n",
       "      <td>\\n\\n\\nparketnummer: 23-001217-13\\ndatum uitspr...</td>\n",
       "    </tr>\n",
       "    <tr>\n",
       "      <th>18460</th>\n",
       "      <td>ECLI-NL-RBAMS-2013-BZ0392</td>\n",
       "      <td>2013-01-29</td>\n",
       "      <td>2013-01-02</td>\n",
       "      <td>uitspraak</td>\n",
       "      <td>['Strafrecht']</td>\n",
       "      <td>De rechtbank acht bewezen dat verdachte zich s...</td>\n",
       "      <td>\\nRECHTBANK AMSTERDAM \\nVONNIS  \\n\\n13/529144-...</td>\n",
       "    </tr>\n",
       "    <tr>\n",
       "      <th>18461</th>\n",
       "      <td>ECLI-NL-GHAMS-2007-BB2447</td>\n",
       "      <td>2007-07-13</td>\n",
       "      <td>2007-08-29</td>\n",
       "      <td>uitspraak</td>\n",
       "      <td>['Strafrecht']</td>\n",
       "      <td>Verdachte en zijn medeverdachten hebben tezame...</td>\n",
       "      <td>\\n\\narrestnummer: \\nparketnummer:\\t23-001835-0...</td>\n",
       "    </tr>\n",
       "  </tbody>\n",
       "</table>\n",
       "<p>18462 rows × 7 columns</p>\n",
       "</div>"
      ],
      "text/plain": [
       "                              id verdict_date publication_date verdict_type  \\\n",
       "0        ECLI-NL-RBNNE-2021-5018   2021-01-10       2021-11-23    uitspraak   \n",
       "1      ECLI-NL-RBZUT-2003-AH9598   2003-03-06       2003-09-07    uitspraak   \n",
       "2        ECLI-NL-RBZWB-2020-2646   2020-06-23       2020-06-23    uitspraak   \n",
       "3        ECLI-NL-GHAMS-2019-1601   2019-08-05       2019-07-26    uitspraak   \n",
       "4        ECLI-NL-GHAMS-2019-1602   2019-08-05       2019-07-26    uitspraak   \n",
       "...                          ...          ...              ...          ...   \n",
       "18457    ECLI-NL-RBAMS-2013-1294   2013-01-29       2013-08-10    uitspraak   \n",
       "18458      ECLI-NL-PHR-2020-1106   2020-11-24       2020-11-24    conclusie   \n",
       "18459    ECLI-NL-GHAMS-2017-2618   2017-06-29       2017-05-07    uitspraak   \n",
       "18460  ECLI-NL-RBAMS-2013-BZ0392   2013-01-29       2013-01-02    uitspraak   \n",
       "18461  ECLI-NL-GHAMS-2007-BB2447   2007-07-13       2007-08-29    uitspraak   \n",
       "\n",
       "      jurisdiction_type                                   inhoudsindicatie  \\\n",
       "0        ['Strafrecht']  Productie synthetische drugs, medeplegen, prod...   \n",
       "1        ['Strafrecht']  Leveren grondstoffen synthetische drugs en sto...   \n",
       "2        ['Strafrecht']  plegen van voorbereidingshandelingen ten behoe...   \n",
       "3        ['Strafrecht']  medeplegen witwassen - medeplegen voorhanden h...   \n",
       "4        ['Strafrecht']  medeplegen witwassen - medeplegen voorhanden h...   \n",
       "...                 ...                                                ...   \n",
       "18457    ['Strafrecht']  De rechtbank acht bewezen dat er sprake is van...   \n",
       "18458    ['Strafrecht']  Conclusie AG. Vervolging van een politieagent ...   \n",
       "18459    ['Strafrecht']  Liquidatieproces Passage\\n\\n                  ...   \n",
       "18460    ['Strafrecht']  De rechtbank acht bewezen dat verdachte zich s...   \n",
       "18461    ['Strafrecht']  Verdachte en zijn medeverdachten hebben tezame...   \n",
       "\n",
       "                                               case text  \n",
       "0      \\n\\nRECHTBANK NOORD-NEDERLAND\\nAfdeling strafr...  \n",
       "1      \\n\\nRECHTBANK ZUTPHEN\\nMeervoudige economische...  \n",
       "2      \\n\\nRECHTBANK ZEELAND-WEST-BRABANT\\n\\nStrafrec...  \n",
       "3      \\n\\nafdeling strafrecht\\nparketnummer: 23-0017...  \n",
       "4      \\n\\nafdeling strafrecht\\nparketnummer: 23-0017...  \n",
       "...                                                  ...  \n",
       "18457  \\n\\nRECHTBANK AMSTERDAM\\n\\n\\nVONNIS\\n\\n \\n\\n13...  \n",
       "18458  \\n\\nPROCUREUR-GENERAAL\\n\\n\\nBIJ DE\\n\\n\\nHOGE R...  \n",
       "18459  \\n\\n\\nparketnummer: 23-001217-13\\ndatum uitspr...  \n",
       "18460  \\nRECHTBANK AMSTERDAM \\nVONNIS  \\n\\n13/529144-...  \n",
       "18461  \\n\\narrestnummer: \\nparketnummer:\\t23-001835-0...  \n",
       "\n",
       "[18462 rows x 7 columns]"
      ]
     },
     "execution_count": 2,
     "metadata": {},
     "output_type": "execute_result"
    }
   ],
   "source": [
    "merged_df = pd.read_pickle(\"merged_df.pkl\")\n",
    "merged_df"
   ]
  },
  {
   "cell_type": "code",
   "execution_count": null,
   "id": "816e217c",
   "metadata": {
    "hidden": true
   },
   "outputs": [],
   "source": []
  },
  {
   "cell_type": "markdown",
   "id": "5fad1fc2",
   "metadata": {},
   "source": [
    "# Split sentences"
   ]
  },
  {
   "cell_type": "code",
   "execution_count": 3,
   "id": "4eba4bd1",
   "metadata": {},
   "outputs": [],
   "source": [
    "import re"
   ]
  },
  {
   "cell_type": "code",
   "execution_count": 4,
   "id": "5df57016",
   "metadata": {},
   "outputs": [],
   "source": [
    "def split_into_sentences(text):\n",
    "    sentences = re.split(r'(?<=[^A-Z].[.?]) +(?=[A-Z])|\\n', text)\n",
    "    sentences = [x for x in sentences if len(x) > 1]\n",
    "    return sentences"
   ]
  },
  {
   "cell_type": "code",
   "execution_count": 13,
   "id": "c71f5f64",
   "metadata": {},
   "outputs": [
    {
     "name": "stdout",
     "output_type": "stream",
     "text": [
      "Sentence count: 5301875\n",
      "Word count: 88748423\n"
     ]
    }
   ],
   "source": [
    "sentence_list_by_word = []\n",
    "sentence_list = []\n",
    "\n",
    "for i in range(len(merged_df)):\n",
    "    doc = merged_df.iloc[i]['case text']\n",
    "    sentences = split_into_sentences(doc)\n",
    "    sentence_list.append(sentences)\n",
    "    for j in sentences:\n",
    "        word_list = [x for x in j.lower().rstrip().replace('.', '').split(' ') if len(x)>0]\n",
    "        sentence_list_by_word.append(word_list)\n",
    "        \n",
    "\n",
    "\n",
    "wordlen = 0\n",
    "for i in sentence_list_by_word:\n",
    "    wordlen += len(i)\n",
    "    \n",
    "print(f\"Sentence count: {len(sentence_list_by_word)}\")\n",
    "print(f\"Word count: {wordlen}\")"
   ]
  },
  {
   "cell_type": "code",
   "execution_count": null,
   "id": "7a5fa16b",
   "metadata": {},
   "outputs": [],
   "source": []
  },
  {
   "cell_type": "markdown",
   "id": "e69b14ed",
   "metadata": {},
   "source": [
    "# Create Word2Vec model"
   ]
  },
  {
   "cell_type": "code",
   "execution_count": 10,
   "id": "6fe81e3a",
   "metadata": {},
   "outputs": [],
   "source": [
    "from gensim.models import Word2Vec\n",
    "from gensim.test.utils import common_texts"
   ]
  },
  {
   "cell_type": "code",
   "execution_count": 11,
   "id": "d059b801",
   "metadata": {},
   "outputs": [],
   "source": [
    "dutch_word2vec_model = Word2Vec(sentences=sentence_list_by_word, vector_size=100, window=5, min_count=1, workers=4)\n",
    "dutch_word2vec_model.save(\"word2vec_dutch_court_cases.model\")"
   ]
  },
  {
   "cell_type": "code",
   "execution_count": 12,
   "id": "9b94da4c",
   "metadata": {},
   "outputs": [],
   "source": [
    "dutch_word2vec_model = Word2Vec.load(\"word2vec_dutch_court_cases.model\")"
   ]
  },
  {
   "cell_type": "code",
   "execution_count": 13,
   "id": "4f62630f",
   "metadata": {},
   "outputs": [
    {
     "name": "stdout",
     "output_type": "stream",
     "text": [
      "['mdma', 'speed', 'lsd', 'heroïne', 'amfetamine', 'ketamine', 'xtc-pillen', 'mdma)', 'ghb', 'amfetaminen', 'diazepam', 'methadon', 'xtc-tabletten', 'oxazepam', 'ecstasy', '(mdma)', 'morfine', 'xtc)', 'cocaïne', 'crack', 'cafeïne', 'pillen', 'methamfetamine', 'metamfetamine', 'marihuana', 'a-pvp', 'lidocaïne', 'steroïden', 'anabole', 'pep', 'xtc/mdma', 'paracetamol', 'amfetamines', 'fenacetine', 'pillen)', 'temazepam', 'crystal', 'gbl', 'kamagra', '(xtc)', 'methylfenidaat', 'opiaten', 'inositol', 'mdma,', 'cannabis', '(amfetamine)', 'procaïne', 'weed', '(cocaïne', 'ritalin', '(speed)', '(mdma', 'harddrugs', 'amfetamine)', 'viagra', '(met)amfetamine', 'xtc-', 'versnijdingsmiddel', 'tabletten', 'cocaine', 'capsules', 'hasj', 'coke', 'oxycodon', '2c-b', 'mdma-poeder', 'xtc,', 'cocaïne;', 'xtc-pil', 'pure', 'dexamfetamine', 'valium', '5793847)', 'wiet', '‘vieze’', '34-methyleendioxymethamfetamine', 'meth', 'amfetamine;', 'pmma', 'drugs', 'xtc-pillen,', 'mdma;', 'mdma/xtc', 'speed/amfetamine', 'heroïne)', 'opium', 'sildenafil', 'hash', 'heroïne,', '(halve', 'codeïne', 'methyleendioxymethylamphemtamine', '1375000', 'lorazepam', 'heroïne;', 'amfetamine,', 'benzodiazepinen', 'heroine', 'mapa', 'pil']\n"
     ]
    }
   ],
   "source": [
    "sims = dutch_word2vec_model.wv.most_similar('xtc', topn=100)\n",
    "print([i[0] for i in sims])\n"
   ]
  },
  {
   "cell_type": "code",
   "execution_count": null,
   "id": "a896d275",
   "metadata": {},
   "outputs": [],
   "source": []
  },
  {
   "cell_type": "code",
   "execution_count": null,
   "id": "781ef38b",
   "metadata": {},
   "outputs": [],
   "source": []
  },
  {
   "cell_type": "markdown",
   "id": "ad87e84b",
   "metadata": {},
   "source": [
    "# Sandbox"
   ]
  },
  {
   "cell_type": "code",
   "execution_count": null,
   "id": "4d87a240",
   "metadata": {},
   "outputs": [],
   "source": []
  },
  {
   "cell_type": "code",
   "execution_count": null,
   "id": "1744ae59",
   "metadata": {},
   "outputs": [],
   "source": []
  },
  {
   "cell_type": "code",
   "execution_count": null,
   "id": "8199b3c9",
   "metadata": {},
   "outputs": [],
   "source": []
  },
  {
   "cell_type": "code",
   "execution_count": null,
   "id": "f403f298",
   "metadata": {},
   "outputs": [],
   "source": []
  },
  {
   "cell_type": "code",
   "execution_count": null,
   "id": "04bb8700",
   "metadata": {},
   "outputs": [],
   "source": []
  },
  {
   "cell_type": "code",
   "execution_count": null,
   "id": "29123231",
   "metadata": {},
   "outputs": [],
   "source": []
  },
  {
   "cell_type": "code",
   "execution_count": null,
   "id": "d662cd0f",
   "metadata": {},
   "outputs": [],
   "source": []
  },
  {
   "cell_type": "code",
   "execution_count": null,
   "id": "348a6623",
   "metadata": {},
   "outputs": [],
   "source": []
  },
  {
   "cell_type": "code",
   "execution_count": null,
   "id": "ca9c2ee2",
   "metadata": {},
   "outputs": [],
   "source": []
  }
 ],
 "metadata": {
  "kernelspec": {
   "display_name": "Python 3 (ipykernel)",
   "language": "python",
   "name": "python3"
  },
  "language_info": {
   "codemirror_mode": {
    "name": "ipython",
    "version": 3
   },
   "file_extension": ".py",
   "mimetype": "text/x-python",
   "name": "python",
   "nbconvert_exporter": "python",
   "pygments_lexer": "ipython3",
   "version": "3.10.1"
  }
 },
 "nbformat": 4,
 "nbformat_minor": 5
}
