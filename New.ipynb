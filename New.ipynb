{
 "cells": [
  {
   "cell_type": "markdown",
   "id": "a4ea37db",
   "metadata": {
    "heading_collapsed": true
   },
   "source": [
    "# Create Dataset"
   ]
  },
  {
   "cell_type": "markdown",
   "id": "7f19ea74",
   "metadata": {
    "heading_collapsed": true,
    "hidden": true
   },
   "source": [
    "### Create"
   ]
  },
  {
   "cell_type": "code",
   "execution_count": null,
   "id": "0f93a055",
   "metadata": {
    "hidden": true
   },
   "outputs": [],
   "source": [
    "import pandas as pd\n",
    "import os"
   ]
  },
  {
   "cell_type": "code",
   "execution_count": null,
   "id": "f429a253",
   "metadata": {
    "hidden": true
   },
   "outputs": [],
   "source": [
    "dataPath = os.getcwd() + '/court case data/testdata/'\n",
    "caseCount = len(os.listdir(dataPath))\n",
    "data = []\n",
    "try:\n",
    "    os.remove(dataPath + \".DS_Store\")\n",
    "except:\n",
    "    print(\"No file DS_Store\")\n",
    "for filename in os.listdir(dataPath):\n",
    "    f = open(os.path.join(dataPath, filename), encoding='utf-8')\n",
    "    data.append([filename.replace('.txt', ''), f.read()])\n",
    "\n",
    "verdict_df = pd.DataFrame(data, columns=[\"id\", \"case text\"])\n",
    "cases_df = pd.read_csv('./court case data/testdata.csv')\n",
    "merged_df = cases_df.join(verdict_df.set_index('id'), on='id', how='left')\n",
    "\n",
    "merged_df[\"verdict_date\"] = pd.to_datetime(merged_df[\"verdict_date\"])\n",
    "merged_df[\"publication_date\"] = pd.to_datetime(merged_df[\"publication_date\"])"
   ]
  },
  {
   "cell_type": "code",
   "execution_count": null,
   "id": "48d9e0bf",
   "metadata": {
    "hidden": true
   },
   "outputs": [],
   "source": [
    "def add_inhoudsindicatie_to_case_text(df):\n",
    "    for index, row in df.iterrows():\n",
    "        fulltext = row['case text'] + row['inhoudsindicatie']\n",
    "        df.at[index,'case text']= fulltext\n",
    "    return df\n",
    "\n",
    "merged_df = add_inhoudsindicatie_to_case_text(merged_df)"
   ]
  },
  {
   "cell_type": "code",
   "execution_count": null,
   "id": "34be2196",
   "metadata": {
    "hidden": true
   },
   "outputs": [],
   "source": [
    "merged_df.to_pickle(\"merged_df.pkl\")"
   ]
  },
  {
   "cell_type": "code",
   "execution_count": null,
   "id": "da90b8e3",
   "metadata": {
    "hidden": true
   },
   "outputs": [],
   "source": [
    "merged_df"
   ]
  },
  {
   "cell_type": "markdown",
   "id": "2a0b57c6",
   "metadata": {
    "heading_collapsed": true,
    "hidden": true
   },
   "source": [
    "### Load"
   ]
  },
  {
   "cell_type": "code",
   "execution_count": 42,
   "id": "c06bd39f",
   "metadata": {
    "hidden": true
   },
   "outputs": [],
   "source": [
    "import pandas as pd\n",
    "import os"
   ]
  },
  {
   "cell_type": "code",
   "execution_count": 43,
   "id": "b10a171e",
   "metadata": {
    "hidden": true
   },
   "outputs": [
    {
     "data": {
      "text/html": [
       "<div>\n",
       "<style scoped>\n",
       "    .dataframe tbody tr th:only-of-type {\n",
       "        vertical-align: middle;\n",
       "    }\n",
       "\n",
       "    .dataframe tbody tr th {\n",
       "        vertical-align: top;\n",
       "    }\n",
       "\n",
       "    .dataframe thead th {\n",
       "        text-align: right;\n",
       "    }\n",
       "</style>\n",
       "<table border=\"1\" class=\"dataframe\">\n",
       "  <thead>\n",
       "    <tr style=\"text-align: right;\">\n",
       "      <th></th>\n",
       "      <th>id</th>\n",
       "      <th>verdict_date</th>\n",
       "      <th>publication_date</th>\n",
       "      <th>verdict_type</th>\n",
       "      <th>jurisdiction_type</th>\n",
       "      <th>inhoudsindicatie</th>\n",
       "      <th>case text</th>\n",
       "    </tr>\n",
       "  </thead>\n",
       "  <tbody>\n",
       "    <tr>\n",
       "      <th>0</th>\n",
       "      <td>ECLI-NL-RBNNE-2021-5018</td>\n",
       "      <td>2021-01-10</td>\n",
       "      <td>2021-11-23</td>\n",
       "      <td>uitspraak</td>\n",
       "      <td>['Strafrecht']</td>\n",
       "      <td>Productie synthetische drugs, medeplegen, prod...</td>\n",
       "      <td>\\n\\nRECHTBANK NOORD-NEDERLAND\\nAfdeling strafr...</td>\n",
       "    </tr>\n",
       "    <tr>\n",
       "      <th>1</th>\n",
       "      <td>ECLI-NL-RBZUT-2003-AH9598</td>\n",
       "      <td>2003-03-06</td>\n",
       "      <td>2003-09-07</td>\n",
       "      <td>uitspraak</td>\n",
       "      <td>['Strafrecht']</td>\n",
       "      <td>Leveren grondstoffen synthetische drugs en sto...</td>\n",
       "      <td>\\n\\nRECHTBANK ZUTPHEN\\nMeervoudige economische...</td>\n",
       "    </tr>\n",
       "    <tr>\n",
       "      <th>2</th>\n",
       "      <td>ECLI-NL-RBZWB-2020-2646</td>\n",
       "      <td>2020-06-23</td>\n",
       "      <td>2020-06-23</td>\n",
       "      <td>uitspraak</td>\n",
       "      <td>['Strafrecht']</td>\n",
       "      <td>plegen van voorbereidingshandelingen ten behoe...</td>\n",
       "      <td>\\n\\nRECHTBANK ZEELAND-WEST-BRABANT\\n\\nStrafrec...</td>\n",
       "    </tr>\n",
       "    <tr>\n",
       "      <th>3</th>\n",
       "      <td>ECLI-NL-GHAMS-2019-1601</td>\n",
       "      <td>2019-08-05</td>\n",
       "      <td>2019-07-26</td>\n",
       "      <td>uitspraak</td>\n",
       "      <td>['Strafrecht']</td>\n",
       "      <td>medeplegen witwassen - medeplegen voorhanden h...</td>\n",
       "      <td>\\n\\nafdeling strafrecht\\nparketnummer: 23-0017...</td>\n",
       "    </tr>\n",
       "    <tr>\n",
       "      <th>4</th>\n",
       "      <td>ECLI-NL-GHAMS-2019-1602</td>\n",
       "      <td>2019-08-05</td>\n",
       "      <td>2019-07-26</td>\n",
       "      <td>uitspraak</td>\n",
       "      <td>['Strafrecht']</td>\n",
       "      <td>medeplegen witwassen - medeplegen voorhanden h...</td>\n",
       "      <td>\\n\\nafdeling strafrecht\\nparketnummer: 23-0017...</td>\n",
       "    </tr>\n",
       "    <tr>\n",
       "      <th>...</th>\n",
       "      <td>...</td>\n",
       "      <td>...</td>\n",
       "      <td>...</td>\n",
       "      <td>...</td>\n",
       "      <td>...</td>\n",
       "      <td>...</td>\n",
       "      <td>...</td>\n",
       "    </tr>\n",
       "    <tr>\n",
       "      <th>18457</th>\n",
       "      <td>ECLI-NL-RBAMS-2013-1294</td>\n",
       "      <td>2013-01-29</td>\n",
       "      <td>2013-08-10</td>\n",
       "      <td>uitspraak</td>\n",
       "      <td>['Strafrecht']</td>\n",
       "      <td>De rechtbank acht bewezen dat er sprake is van...</td>\n",
       "      <td>\\n\\nRECHTBANK AMSTERDAM\\n\\n\\nVONNIS\\n\\n \\n\\n13...</td>\n",
       "    </tr>\n",
       "    <tr>\n",
       "      <th>18458</th>\n",
       "      <td>ECLI-NL-PHR-2020-1106</td>\n",
       "      <td>2020-11-24</td>\n",
       "      <td>2020-11-24</td>\n",
       "      <td>conclusie</td>\n",
       "      <td>['Strafrecht']</td>\n",
       "      <td>Conclusie AG. Vervolging van een politieagent ...</td>\n",
       "      <td>\\n\\nPROCUREUR-GENERAAL\\n\\n\\nBIJ DE\\n\\n\\nHOGE R...</td>\n",
       "    </tr>\n",
       "    <tr>\n",
       "      <th>18459</th>\n",
       "      <td>ECLI-NL-GHAMS-2017-2618</td>\n",
       "      <td>2017-06-29</td>\n",
       "      <td>2017-05-07</td>\n",
       "      <td>uitspraak</td>\n",
       "      <td>['Strafrecht']</td>\n",
       "      <td>Liquidatieproces Passage\\n\\n                  ...</td>\n",
       "      <td>\\n\\n\\nparketnummer: 23-001217-13\\ndatum uitspr...</td>\n",
       "    </tr>\n",
       "    <tr>\n",
       "      <th>18460</th>\n",
       "      <td>ECLI-NL-RBAMS-2013-BZ0392</td>\n",
       "      <td>2013-01-29</td>\n",
       "      <td>2013-01-02</td>\n",
       "      <td>uitspraak</td>\n",
       "      <td>['Strafrecht']</td>\n",
       "      <td>De rechtbank acht bewezen dat verdachte zich s...</td>\n",
       "      <td>\\nRECHTBANK AMSTERDAM \\nVONNIS  \\n\\n13/529144-...</td>\n",
       "    </tr>\n",
       "    <tr>\n",
       "      <th>18461</th>\n",
       "      <td>ECLI-NL-GHAMS-2007-BB2447</td>\n",
       "      <td>2007-07-13</td>\n",
       "      <td>2007-08-29</td>\n",
       "      <td>uitspraak</td>\n",
       "      <td>['Strafrecht']</td>\n",
       "      <td>Verdachte en zijn medeverdachten hebben tezame...</td>\n",
       "      <td>\\n\\narrestnummer: \\nparketnummer:\\t23-001835-0...</td>\n",
       "    </tr>\n",
       "  </tbody>\n",
       "</table>\n",
       "<p>18462 rows × 7 columns</p>\n",
       "</div>"
      ],
      "text/plain": [
       "                              id verdict_date publication_date verdict_type  \\\n",
       "0        ECLI-NL-RBNNE-2021-5018   2021-01-10       2021-11-23    uitspraak   \n",
       "1      ECLI-NL-RBZUT-2003-AH9598   2003-03-06       2003-09-07    uitspraak   \n",
       "2        ECLI-NL-RBZWB-2020-2646   2020-06-23       2020-06-23    uitspraak   \n",
       "3        ECLI-NL-GHAMS-2019-1601   2019-08-05       2019-07-26    uitspraak   \n",
       "4        ECLI-NL-GHAMS-2019-1602   2019-08-05       2019-07-26    uitspraak   \n",
       "...                          ...          ...              ...          ...   \n",
       "18457    ECLI-NL-RBAMS-2013-1294   2013-01-29       2013-08-10    uitspraak   \n",
       "18458      ECLI-NL-PHR-2020-1106   2020-11-24       2020-11-24    conclusie   \n",
       "18459    ECLI-NL-GHAMS-2017-2618   2017-06-29       2017-05-07    uitspraak   \n",
       "18460  ECLI-NL-RBAMS-2013-BZ0392   2013-01-29       2013-01-02    uitspraak   \n",
       "18461  ECLI-NL-GHAMS-2007-BB2447   2007-07-13       2007-08-29    uitspraak   \n",
       "\n",
       "      jurisdiction_type                                   inhoudsindicatie  \\\n",
       "0        ['Strafrecht']  Productie synthetische drugs, medeplegen, prod...   \n",
       "1        ['Strafrecht']  Leveren grondstoffen synthetische drugs en sto...   \n",
       "2        ['Strafrecht']  plegen van voorbereidingshandelingen ten behoe...   \n",
       "3        ['Strafrecht']  medeplegen witwassen - medeplegen voorhanden h...   \n",
       "4        ['Strafrecht']  medeplegen witwassen - medeplegen voorhanden h...   \n",
       "...                 ...                                                ...   \n",
       "18457    ['Strafrecht']  De rechtbank acht bewezen dat er sprake is van...   \n",
       "18458    ['Strafrecht']  Conclusie AG. Vervolging van een politieagent ...   \n",
       "18459    ['Strafrecht']  Liquidatieproces Passage\\n\\n                  ...   \n",
       "18460    ['Strafrecht']  De rechtbank acht bewezen dat verdachte zich s...   \n",
       "18461    ['Strafrecht']  Verdachte en zijn medeverdachten hebben tezame...   \n",
       "\n",
       "                                               case text  \n",
       "0      \\n\\nRECHTBANK NOORD-NEDERLAND\\nAfdeling strafr...  \n",
       "1      \\n\\nRECHTBANK ZUTPHEN\\nMeervoudige economische...  \n",
       "2      \\n\\nRECHTBANK ZEELAND-WEST-BRABANT\\n\\nStrafrec...  \n",
       "3      \\n\\nafdeling strafrecht\\nparketnummer: 23-0017...  \n",
       "4      \\n\\nafdeling strafrecht\\nparketnummer: 23-0017...  \n",
       "...                                                  ...  \n",
       "18457  \\n\\nRECHTBANK AMSTERDAM\\n\\n\\nVONNIS\\n\\n \\n\\n13...  \n",
       "18458  \\n\\nPROCUREUR-GENERAAL\\n\\n\\nBIJ DE\\n\\n\\nHOGE R...  \n",
       "18459  \\n\\n\\nparketnummer: 23-001217-13\\ndatum uitspr...  \n",
       "18460  \\nRECHTBANK AMSTERDAM \\nVONNIS  \\n\\n13/529144-...  \n",
       "18461  \\n\\narrestnummer: \\nparketnummer:\\t23-001835-0...  \n",
       "\n",
       "[18462 rows x 7 columns]"
      ]
     },
     "execution_count": 43,
     "metadata": {},
     "output_type": "execute_result"
    }
   ],
   "source": [
    "merged_df = pd.read_pickle(\"merged_df.pkl\")\n",
    "merged_df"
   ]
  },
  {
   "cell_type": "code",
   "execution_count": null,
   "id": "1e5e440d",
   "metadata": {
    "hidden": true
   },
   "outputs": [],
   "source": []
  },
  {
   "cell_type": "markdown",
   "id": "48fad1c8",
   "metadata": {
    "heading_collapsed": true
   },
   "source": [
    "# Word2Vec"
   ]
  },
  {
   "cell_type": "markdown",
   "id": "dfa12ada",
   "metadata": {
    "heading_collapsed": true,
    "hidden": true
   },
   "source": [
    "### Load model"
   ]
  },
  {
   "cell_type": "code",
   "execution_count": 3,
   "id": "187efb48",
   "metadata": {
    "hidden": true
   },
   "outputs": [],
   "source": [
    "from gensim.models import Word2Vec\n",
    "dutch_word2vec_model = Word2Vec.load(\"word2vec_dutch_court_cases.model\")"
   ]
  },
  {
   "cell_type": "code",
   "execution_count": null,
   "id": "a44ef1f2",
   "metadata": {
    "hidden": true
   },
   "outputs": [],
   "source": [
    "sims = dutch_word2vec_model.wv.most_similar('xtc', topn=100)\n",
    "print([i[0] for i in sims])"
   ]
  },
  {
   "cell_type": "markdown",
   "id": "2741e4c0",
   "metadata": {
    "heading_collapsed": true,
    "hidden": true
   },
   "source": [
    "## Create lists"
   ]
  },
  {
   "cell_type": "code",
   "execution_count": 5,
   "id": "0cd1cc9d",
   "metadata": {
    "hidden": true
   },
   "outputs": [],
   "source": [
    "def create_word2vec_relevant_words(words, matches):\n",
    "    word2vec_list = []\n",
    "    for word in words:\n",
    "        results = dutch_word2vec_model.wv.most_similar(word, topn=100)\n",
    "        for i in results:\n",
    "            word2vec_list.append(i[0])\n",
    "            \n",
    "    word2vec_list = list(set([i for i in word2vec_list if word2vec_list.count(i)>matches]))\n",
    "    return word2vec_list"
   ]
  },
  {
   "cell_type": "markdown",
   "id": "d0450c5d",
   "metadata": {
    "heading_collapsed": true,
    "hidden": true
   },
   "source": [
    "### Drugs"
   ]
  },
  {
   "cell_type": "code",
   "execution_count": 9,
   "id": "c049d099",
   "metadata": {
    "hidden": true
   },
   "outputs": [
    {
     "name": "stdout",
     "output_type": "stream",
     "text": [
      "80\n",
      "['amfetamine', 'mdma;', 'hasjiesj', '(mdma)', 'xtc-tabletten', 'opium', 'harddrugs', 'methamfetamine', 'fenacetine', 'ecstasy', 'pil', 'cocaïne;', 'methadon', 'paracetamol', 'weed', 'morfine', 'hash', 'mdma-pillen', 'heroine', 'hasj', 'kristallen', '34-methyleendioxymethamfetamine', 'mdma-hcl', 'hennep', 'crystal', 'cocaïne', 'heroïne', 'inositol', 'marihuana', 'temazepam', '(hard)drugs', 'pillen)', 'coke', 'mdma-poeder', 'pillen', 'lidocaïne', 'gbl', 'mdma', 'mdma-kristallen', 'hashish', 'xtc-pillen', 'speed', 'cafeïne', 'ketamine', 'mdma)', 'amfetaminepasta', 'amfetaminesulfaat', 'xtc', 'pep', 'xtc/mdma', 'wiet', 'methanol', 'amfetaminen', 'coffeïne', 'ghb', 'amfetaminebase', 'metamfetamine', 'cocaïne?', 'tabletten', 'heroïne;', 'manitol', 'mdma/xtc', 'amfetamineolie', '2c-b', 'amfetamine;', 'apaan', 'cocaine', 'drugs', 'diazepam', 'lsd', 'mapa', '(xtc)', 'meth', 'amfetamine)', 'n-formylamfetamine', 'crack', 'olie', 'speed/amfetamine', '(met)amfetamine', 'cannabis']\n"
     ]
    }
   ],
   "source": [
    "list_of_drugs = ['xtc', 'mdma', 'cocaine', 'wiet', 'speed', 'bmk', 'pmk']\n",
    "word2vec_drug_list = create_word2vec_relevant_words(list_of_drugs, 2)\n",
    "\n",
    "print(len(word2vec_drug_list))\n",
    "print(word2vec_drug_list)"
   ]
  },
  {
   "cell_type": "markdown",
   "id": "aaa04e8f",
   "metadata": {
    "hidden": true
   },
   "source": [
    "Add custom drugs list"
   ]
  },
  {
   "cell_type": "code",
   "execution_count": 11,
   "id": "234d90e2",
   "metadata": {
    "hidden": true
   },
   "outputs": [
    {
     "name": "stdout",
     "output_type": "stream",
     "text": [
      "120\n"
     ]
    }
   ],
   "source": [
    "my_file = open(\"drugs list.txt\", \"r\", encoding='utf-8')\n",
    "my_file = my_file.readlines()\n",
    "drugs_list = []\n",
    "for i in my_file:\n",
    "    drugs_list.append(i.replace('\\n', ''))\n",
    "drugs_list = list(set(drugs_list + word2vec_drug_list))\n",
    "print(len(drugs_list))"
   ]
  },
  {
   "cell_type": "markdown",
   "id": "817f59dc",
   "metadata": {
    "hidden": true
   },
   "source": [
    "Todo: add opiumwet scraper"
   ]
  },
  {
   "cell_type": "markdown",
   "id": "fead1e00",
   "metadata": {
    "heading_collapsed": true,
    "hidden": true
   },
   "source": [
    "### Smuggle words"
   ]
  },
  {
   "cell_type": "code",
   "execution_count": 13,
   "id": "f6ddf47a",
   "metadata": {
    "hidden": true
   },
   "outputs": [
    {
     "name": "stdout",
     "output_type": "stream",
     "text": [
      "38\n",
      "['verkoop', 'invoeren', 'aanvoer', 'leverantie', 'transporteren', 'produktie', 'invoer', 'terugwinnen/bewerken', 'resten)', 'levering', 'in-/uitvoer', '(invoer', 'transport', 'terugwinnen', 'hennephandel', 'cocaïnehandel', 'productie', 'handel', 'importeren', 'productie/verwerking', 'fabricage', 'uitvoer', 'export', 'aankoop', 'exporteren', 'vervaardiging', 'uithalen', 'doorvoer', 'straatverkoop', 'kweek', 'bewerking', 'import', 'ladingen', 'versnijding', 'bronland', 'smokkel', 'organisatoren', 'bewerken/verwerken']\n"
     ]
    }
   ],
   "source": [
    "list_of_smuggle_words = ['smokkel', 'invoer', 'uitvoer', 'import', 'export', 'transport']\n",
    "word2vec_smuggle_list = create_word2vec_relevant_words(list_of_smuggle_words, 3)\n",
    "\n",
    "word2vec_smuggle_list = list(set(word2vec_smuggle_list + list_of_smuggle_words ))\n",
    "print(len(word2vec_smuggle_list))\n",
    "print(word2vec_smuggle_list)"
   ]
  },
  {
   "cell_type": "code",
   "execution_count": null,
   "id": "ad77c36c",
   "metadata": {
    "hidden": true
   },
   "outputs": [],
   "source": []
  },
  {
   "cell_type": "markdown",
   "id": "e64393c6",
   "metadata": {
    "heading_collapsed": true,
    "hidden": true
   },
   "source": [
    "### Quantities"
   ]
  },
  {
   "cell_type": "code",
   "execution_count": 17,
   "id": "2f0cfd65",
   "metadata": {
    "hidden": true
   },
   "outputs": [
    {
     "name": "stdout",
     "output_type": "stream",
     "text": [
      "53\n",
      "['kilo', 'cm)', 'mdma-pillen', 'blokken', 'mg', 'bolletjes', 'km/uur', 'ton', 'db(a)', 'xtc-pillen', 'litervat', 'meter)', 'kilogram;', 'kg)', 'pakjes', 'gram;', 'ml', 'liter)', 'zakjes', 'gripzakjes', 'tabletten', 'milligram', 'wikkels', 'liter', 'gram”', 'pakketten', 'gram10', 'km', 'gr', 'bolletjes)', 'ponypacks', 'pillen', 'liter;', 'mg/l', 'kilogram)', 'm²', 'milliliter', 'gram:', '%', 'µg', 'ampullen', 'kilo;', 'mg/ml', 'kilo)', 'gram)', 'stuks', 'gram', 'ng/ml', 'mg/m2', 'planten)', 'drums', 'bollen', 'km/u']\n"
     ]
    }
   ],
   "source": [
    "list_of_quantity_words = ['tabletten', 'kilo', 'gram', 'pakketten', 'milligram']\n",
    "word2vec_quantity_list = create_word2vec_relevant_words(list_of_quantity_words, 2)\n",
    "\n",
    "word2vec_quantity_list = list(set(word2vec_quantity_list + list_of_quantity_words))\n",
    "print(len(word2vec_quantity_list))\n",
    "print(word2vec_quantity_list)"
   ]
  },
  {
   "cell_type": "markdown",
   "id": "2833c5c3",
   "metadata": {
    "heading_collapsed": true,
    "hidden": true
   },
   "source": [
    "### Countries"
   ]
  },
  {
   "cell_type": "code",
   "execution_count": 36,
   "id": "ddcdcd03",
   "metadata": {
    "hidden": true
   },
   "outputs": [
    {
     "name": "stdout",
     "output_type": "stream",
     "text": [
      "100\n",
      "['peru', 'denemarken', 'bulgarije', 'venezuela', 'spanje', 'afrika', 'thailand', 'zwitserland', 'groot-brittannië', 'singapore', 'algeciras', 'chili', 'amerika', 'portugal', 'lissabon', 'domingo', 'natal', 'sydney', 'guayaquil', 'panama', 'tanger', 'janeiro', 'brussel', 'alicante', 'karachi', 'engeland', 'kinshasa', 'bogota', '(zwitserland)', 'zweden', 'boedapest', 'nigeria', 'jamaica', 'bosnië', 'marokko', 'congo', 'rabat', 'oostenrijk', 'pakistan', 'turkije', 'dubai', 'göteborg', 'china', 'londen', 'ghana', 'slowakije', 'syrië', 'griekenland', 'noorwegen', 'roemenië', 'argentinië', 'bremen', 'belgië', 'italië', 'antwerpen', 'ecuador', 'zuid-afrika', 'oekraïne', 'curaçao', 'belgie', 'mexico', 'australië', 'brazilië', 'aires', 'servië', '[land]', 'paramaribo', 'polen', 'frankrijk', 'finland', 'caracas', 'kroatië', 'barcelona', 'sao', 'trinidad', 'lübeck', 'santa', 'frankfurt', 'berlijn', 'buenos', 'tsjechië', 'villajoyosa', 'duitsland', 'zuid-amerika', 'colombia', 'canada', 'luxemburg', 'quito', 'lima', 'hongarije', 'sevilla', 'malaga', 'europa', 'hamburg', 'iran', 'ierland', 'kenia', 'suriname', 'parijs', 'madrid']\n"
     ]
    }
   ],
   "source": [
    "list_of_countries = ['duitsland', 'colombia', 'alicante', 'belgie']\n",
    "word2vec_country_list = create_word2vec_relevant_words(list_of_countries, 1)\n",
    "\n",
    "word2vec_country_list = list(set(word2vec_country_list + list_of_countries))\n",
    "print(len(word2vec_country_list))\n",
    "print(word2vec_country_list)"
   ]
  },
  {
   "cell_type": "code",
   "execution_count": null,
   "id": "d8b2a623",
   "metadata": {
    "hidden": true
   },
   "outputs": [],
   "source": []
  },
  {
   "cell_type": "markdown",
   "id": "a39738e4",
   "metadata": {
    "heading_collapsed": true
   },
   "source": [
    "# Create SpaCy model"
   ]
  },
  {
   "cell_type": "code",
   "execution_count": 37,
   "id": "5d0c8197",
   "metadata": {
    "hidden": true
   },
   "outputs": [],
   "source": [
    "import spacy\n",
    "from spacy import displacy\n",
    "# !python -m spacy download nl_core_news_md\n",
    "nlp = spacy.load('nl_core_news_md')"
   ]
  },
  {
   "cell_type": "markdown",
   "id": "1923f8fb",
   "metadata": {
    "hidden": true
   },
   "source": [
    "The following imports a list of countries consisting of multiple words. SpaCy has trouble identifying such countries."
   ]
  },
  {
   "cell_type": "code",
   "execution_count": 38,
   "id": "0f0d6053",
   "metadata": {
    "hidden": true
   },
   "outputs": [],
   "source": [
    "my_file = open(\"countries list.txt\", \"r\", encoding='utf-8')\n",
    "my_file = my_file.readlines()\n",
    "countries_list = []\n",
    "for i in my_file:\n",
    "    countries_list.append(i.replace('\\n', ''))\n",
    "countries_list = list(set(countries_list))\n"
   ]
  },
  {
   "cell_type": "markdown",
   "id": "a84c87ea",
   "metadata": {
    "hidden": true
   },
   "source": [
    "The following imports a list of terms not to classify as countries."
   ]
  },
  {
   "cell_type": "code",
   "execution_count": 148,
   "id": "31faa9df",
   "metadata": {
    "hidden": true
   },
   "outputs": [],
   "source": [
    "countries_to_exclude = open(\"countries_to_exclude.pkl\", \"rb\")\n",
    "countries_to_exclude = pickle.load(countries_to_exclude)\n",
    "\n",
    "my_file = open(\"countries_to_exclude.txt\", \"r\", encoding='utf-8')\n",
    "my_file = my_file.readlines()\n",
    "for i in my_file:\n",
    "    countries_to_exclude.append(i.replace('\\n', ''))\n"
   ]
  },
  {
   "cell_type": "code",
   "execution_count": 40,
   "id": "18d3a6ea",
   "metadata": {
    "hidden": true
   },
   "outputs": [],
   "source": [
    "def configure_spacy_model():\n",
    "    # Create dict of drug pattern and quantity pattern\n",
    "    pattern_list = []\n",
    "\n",
    "    for i in drugs_list:\n",
    "        pattern_list.append({\"label\": \"DRUG\", \"pattern\": [{\"lower\": i.lower()}]})\n",
    "    \n",
    "    for i in word2vec_quantity_list:\n",
    "        pattern_list.append({\"label\": \"QUANTITY\", \"pattern\": [{\"IS_DIGIT\": True}, {\"LOWER\": i}]})\n",
    "        pattern_list.append({\"label\": \"QUANTITY\", \"pattern\": [{\"ENT_TYPE\": \"CARDINAL\"}, {\"LOWER\": i}]})\n",
    "    \n",
    "    for i in word2vec_country_list:\n",
    "        pattern_list.append({\"label\": \"GPE\", \"pattern\": [{\"lower\": i.replace(' ', '').lower()}]})\n",
    "        \n",
    "    for i in countries_to_exclude:\n",
    "        pattern_list.append({\"label\": \"EXCL\", \"pattern\": [{\"lower\": i.lower()}]})\n",
    "    \n",
    "    # Add drug and quantity rules to the model\n",
    "    config = {\n",
    "   \"phrase_matcher_attr\": None,\n",
    "   \"validate\": True,\n",
    "   \"overwrite_ents\": True,\n",
    "   \"ent_id_sep\": \"||\",\n",
    "    }\n",
    "    ruler = nlp.add_pipe(\"entity_ruler\", config=config)\n",
    "\n",
    "    ruler.add_patterns(pattern_list)"
   ]
  },
  {
   "cell_type": "code",
   "execution_count": 41,
   "id": "09eeb489",
   "metadata": {
    "hidden": true
   },
   "outputs": [],
   "source": [
    "configure_spacy_model()"
   ]
  },
  {
   "cell_type": "code",
   "execution_count": null,
   "id": "1e307907",
   "metadata": {
    "hidden": true
   },
   "outputs": [],
   "source": []
  },
  {
   "cell_type": "markdown",
   "id": "d95995a3",
   "metadata": {},
   "source": [
    "# Select cases & chunks"
   ]
  },
  {
   "cell_type": "markdown",
   "id": "7b9532bc",
   "metadata": {},
   "source": [
    "Current rules to select a case:\n",
    "1. Case needs to contain a smuggle word\n",
    "2. Chunk needs to contain at least 1 country that is not \"Netherlands\"\n",
    "3. Chunk needs to contain at least 1 drug"
   ]
  },
  {
   "cell_type": "markdown",
   "id": "0532e38c",
   "metadata": {
    "heading_collapsed": true
   },
   "source": [
    "### Filter cases for concerning 'Strafrecht' and containing a smuggle word."
   ]
  },
  {
   "cell_type": "code",
   "execution_count": 80,
   "id": "a774c217",
   "metadata": {
    "hidden": true
   },
   "outputs": [],
   "source": [
    "def filter_strafrecht_and_contain_smuggle_word(df):\n",
    "    print(f\"Original df contains {len(df)} cases.\")\n",
    "    return_df = pd.DataFrame()\n",
    "    for index, row in df.iterrows():\n",
    "        if any(word in row['case text'] for word in word2vec_smuggle_list) and 'Strafrecht' in row['jurisdiction_type']:\n",
    "            return_df = return_df.append(row)\n",
    "    print(f\"Returning df contains {len(return_df)} cases. Filtered {len(df) - len(return_df)}\")\n",
    "    return return_df"
   ]
  },
  {
   "cell_type": "markdown",
   "id": "db813d40",
   "metadata": {},
   "source": [
    "### Split cases in chunks and keep if complies with rules"
   ]
  },
  {
   "cell_type": "code",
   "execution_count": 128,
   "id": "7bef1327",
   "metadata": {},
   "outputs": [],
   "source": [
    "import pickle"
   ]
  },
  {
   "cell_type": "code",
   "execution_count": 129,
   "id": "70e2bd0f",
   "metadata": {},
   "outputs": [],
   "source": [
    "tenlastelegging_words = ['tenlastelegging', 'telastelegging', 'tenlasteleggingen', 'telastlegging', 'strafmotivering']\n",
    "\n",
    "def trim_by_tenlastelegging(doc):\n",
    "    trimmed_doc = doc\n",
    "    stop = False\n",
    "    for keyword in tenlastelegging_words:\n",
    "        if not stop and keyword in doc:\n",
    "            keyword_index = doc.find(keyword)\n",
    "            trimmed_doc = doc[keyword_index:]\n",
    "            stop = True\n",
    "    return trimmed_doc"
   ]
  },
  {
   "cell_type": "code",
   "execution_count": 130,
   "id": "3521c55f",
   "metadata": {},
   "outputs": [],
   "source": [
    "import re\n",
    "def split_text_in_chunks(doc):\n",
    "    chunks = re.split(r'(?<=[^A-Z].[.?]) +(?=[A-Z])|\\n', doc)\n",
    "    chunks = [x for x in chunks if len(x) > 1]\n",
    "    return chunks"
   ]
  },
  {
   "cell_type": "code",
   "execution_count": 131,
   "id": "f94d732c",
   "metadata": {},
   "outputs": [],
   "source": [
    "from geopy.geocoders import Nominatim\n",
    "geolocator = Nominatim(user_agent = \"geoapiExercises\")\n",
    "\n",
    "country_translation_dict = open(\"country_translation_dict.pkl\", \"rb\")\n",
    "country_translation_dict = pickle.load(country_translation_dict)\n",
    "\n",
    "\n",
    "def replace_locations(loc):\n",
    "    if \"gemeente\" in loc:\n",
    "        return \"nederland\"\n",
    "#     if \"verenigd koninkrijk\" in loc:\n",
    "#         return \"engeland\"\n",
    "#     if \"sovjet\" in loc:\n",
    "#         return \"rusland\"\n",
    "    else:\n",
    "        return loc\n",
    "\n",
    "def get_google_country(loc):\n",
    "    loc = replace_locations(loc.lower())\n",
    "    if loc in country_translation_dict:\n",
    "        return country_translation_dict[loc]\n",
    "    if loc in countries_to_exclude:\n",
    "        return \"None\"\n",
    "    else:\n",
    "        try:\n",
    "            location = geolocator.geocode(loc, language='en')\n",
    "            country_name = location.raw['display_name'].split(',')[-1].strip()\n",
    "            country_translation_dict[loc] = country_name\n",
    "            return country_translation_dict[loc]\n",
    "        except:\n",
    "            print(f\"{loc} is not a location.\")\n",
    "            countries_to_exclude.append(loc)\n",
    "            return \"None\"\n",
    "    "
   ]
  },
  {
   "cell_type": "code",
   "execution_count": 132,
   "id": "3684ce44",
   "metadata": {},
   "outputs": [
    {
     "data": {
      "text/plain": [
       "'Burkina Faso'"
      ]
     },
     "execution_count": 132,
     "metadata": {},
     "output_type": "execute_result"
    }
   ],
   "source": [
    "get_google_country('Ouagadougou')"
   ]
  },
  {
   "cell_type": "code",
   "execution_count": 133,
   "id": "31a76065",
   "metadata": {
    "scrolled": false
   },
   "outputs": [],
   "source": [
    "def rule_enforcer(chunks):\n",
    "    trafficking_related = []\n",
    "    countries_mentioned = []\n",
    "    for chunk in chunks:\n",
    "        \n",
    "         # Check if chunk contains a drug\n",
    "        word_list = [x for x in chunk.lower().rstrip().replace('.', '').split(' ') if len(x)>0]\n",
    "        if any(drug in word_list for drug in drugs_list):\n",
    "            \n",
    "            # SpaCy analysis to check for countries\n",
    "            ents = nlp(chunk).ents\n",
    "            if any(ent.label_ == \"GPE\" for ent in ents):\n",
    "                for ent in ents:\n",
    "                    if ent.label_ == \"GPE\":\n",
    "                        google_country = get_google_country(ent.text)\n",
    "                        if google_country != \"Netherlands\" and google_country != \"None\":\n",
    "                            trafficking_related.append(chunk)\n",
    "                            if google_country not in countries_mentioned:\n",
    "                                countries_mentioned.append(google_country)\n",
    "    \n",
    "    return trafficking_related, countries_mentioned\n",
    "         \n",
    "def filter_for_relevant_chunks(df):\n",
    "    return_df = pd.DataFrame(columns=['ecli', 'verdict_date', 'chunks', 'countries_mentioned'])\n",
    "    for index, row in df.iterrows():\n",
    "        doc = row['case text']\n",
    "        chunks = split_text_in_chunks(doc)\n",
    "        \n",
    "        enforcer_return = rule_enforcer(chunks)\n",
    "        compliant_chunks = enforcer_return[0]\n",
    "        countries_mentioned = enforcer_return[1]\n",
    "        \n",
    "        if len(compliant_chunks) > 0:\n",
    "            add = {'ecli': row['id'].replace('-', ':'), 'verdict_date': row['verdict_date'], 'chunks': compliant_chunks, 'countries_mentioned': countries_mentioned}\n",
    "            return_df = return_df.append(add, ignore_index = True)\n",
    "    return return_df\n"
   ]
  },
  {
   "cell_type": "markdown",
   "id": "a986caef",
   "metadata": {},
   "source": [
    "### Execute"
   ]
  },
  {
   "cell_type": "code",
   "execution_count": 138,
   "id": "bc8e484f",
   "metadata": {},
   "outputs": [
    {
     "name": "stdout",
     "output_type": "stream",
     "text": [
      "Original df contains 18462 cases.\n",
      "Returning df contains 13574 cases. Filtered 4888\n",
      "mmc-kleurreactietesten is not a location.\n",
      "granuleermachines is not a location.\n",
      "aangetroffen.62 is not a location.\n",
      "mdma-grondstoffen is not a location.\n",
      "mdma.99 is not a location.\n",
      "omringd.1 is not a location.\n",
      "enpseudoefedrine is not a location.\n",
      "mdma.hc1 is not a location.\n",
      "bevatten.90 is not a location.\n",
      "opgeruimd.124 is not a location.\n",
      "apparatuur.168 is not a location.\n",
      "cateringboxen is not a location.\n",
      "rijsburg is not a location.\n",
      "fluoramfetamine is not a location.\n",
      "gamma-hydroxy-boterzuur is not a location.\n",
      "gev.straf is not a location.\n",
      "797 e.v. is not a location.\n",
      "bereid/vervaardigd is not a location.\n",
      "aanwezig.18 is not a location.\n",
      "bevatten.52 is not a location.\n",
      "mdma.134 is not a location.\n",
      "drugspakketjes is not a location.\n",
      "vinkeveen/mijdrecht is not a location.\n",
      "29-jarige pool is not a location.\n",
      "amfetamine14 is not a location.\n",
      "opgehaald.157 is not a location.\n",
      "benzyl-methylketon is not a location.\n",
      "methylester is not a location.\n",
      "aangetroffen.208 is not a location.\n",
      "g6106076 is not a location.\n",
      "drugscontole is not a location.\n",
      "dat/dit is not a location.\n",
      "stallen/op is not a location.\n",
      "mefedron is not a location.\n",
      "juni/aug is not a location.\n",
      "schattenderwijze is not a location.\n",
      "nederwiet is not a location.\n",
      "blottervel is not a location.\n",
      "ramantechnologie is not a location.\n",
      "amphetamine is not a location.\n",
      "vacuümapparaat is not a location.\n",
      "zwollenaar is not a location.\n",
      "prft is not a location.\n",
      "cannabis/tetrahydrocannabinol is not a location.\n",
      "aakp8701nl is not a location.\n",
      "aakp8714nl is not a location.\n",
      "hasjiesh is not a location.\n",
      "sfeerprocesverbaal is not a location.\n",
      "nullimiet is not a location.\n",
      "werkingssferen is not a location.\n",
      "formylamfetamine is not a location.\n",
      "brasiliaan is not a location.\n",
      "kookruimte is not a location.\n",
      "droogruimte is not a location.\n",
      "aahu0467nl is not a location.\n",
      "aahu0463nl is not a location.\n",
      "aahu0464nl is not a location.\n",
      "aakn9575nl is not a location.\n",
      "aaei4528nl is not a location.\n",
      "e-4-008 is not a location.\n",
      "menthos is not a location.\n",
      "nfident is not a location.\n",
      "flakka is not a location.\n",
      "4-bromo-25-dimethoxyfenetylamine is not a location.\n",
      "4-fluoramfetamine is not a location.\n",
      "bären marke is not a location.\n",
      "methylethylaceton is not a location.\n",
      "metachloorphenylpiperazine is not a location.\n",
      "met-amfetamine is not a location.\n",
      "miljoen euro is not a location.\n",
      "roelofardensveen is not a location.\n",
      "brillenkoker is not a location.\n",
      "systeem/systemen is not a location.\n",
      "beuh is not a location.\n",
      "kopers.433hij is not a location.\n",
      "gouda/rotterdam is not a location.\n",
      "aahy5269nl is not a location.\n",
      "metamfetaminetartraat is not a location.\n",
      "benzylpiperazine is not a location.\n",
      "rijvaardigheid).29 is not a location.\n",
      "sodiumcarbonaat is not a location.\n",
      "captagonlogo is not a location.\n",
      "gewoonlijk’.263 is not a location.\n",
      "aangetroffen309 is not a location.\n",
      "maasstadlab is not a location.\n",
      "opengesneden is not a location.\n",
      "substitutievloeistof is not a location.\n",
      "beheert.2 is not a location.\n",
      "ghb-problematiek is not a location.\n",
      "parafiele is not a location.\n",
      "mdma-base/olie is not a location.\n",
      "brengen.8 is not a location.\n",
      "pseudo-efedrine is not a location.\n",
      "nfi63 is not a location.\n",
      "ex-)vriendin is not a location.\n",
      "postpakket is not a location.\n",
      "verpakkingspiepschuim is not a location.\n",
      "aaj5114nl is not a location.\n",
      "monstername is not a location.\n",
      "gcms-thc is not a location.\n",
      "metamfetaminebase is not a location.\n",
      "anti-drugs is not a location.\n",
      "facetvorm is not a location.\n",
      "kopers.354hij is not a location.\n",
      "koreniew is not a location.\n",
      "cocaïne.3 is not a location.\n",
      "nephorloge is not a location.\n",
      "gedeald/aanwezig is not a location.\n",
      "verkocht.10 is not a location.\n",
      "eenof is not a location.\n",
      "bemonsteringen is not a location.\n",
      "subsequente is not a location.\n",
      "tenamfetamine/mda is not a location.\n",
      "tenamfetamine/dma is not a location.\n",
      "aalj6074nl is not a location.\n",
      "afeveren is not a location.\n",
      "terugbelde is not a location.\n",
      "veroordeelde5 is not a location.\n",
      "kreeg.27 is not a location.\n",
      "verkopenafleveren is not a location.\n",
      "-misbruik is not a location.\n",
      "ka62.08 is not a location.\n",
      "verhoor17 is not a location.\n",
      "klemdekselvat/(gemodificeerde is not a location.\n",
      "10-12-2013 is not a location.\n",
      "schrikborrel is not a location.\n",
      "methylecgonine is not a location.\n",
      "benzoylecgonine is not a location.\n",
      "nortriptyline is not a location.\n",
      "slikkersset is not a location.\n",
      "hebben/vervoeren is not a location.\n",
      "gekocht.10 is not a location.\n",
      "beslagcode is not a location.\n",
      "bevat.14 is not a location.\n",
      "gebruikershoeveelheiden is not a location.\n",
      "drugsbenodigdheden is not a location.\n",
      "rollingstones is not a location.\n",
      "aahx6064nl is not a location.\n",
      "oudewateralthans is not a location.\n",
      "dna-sporen is not a location.\n",
      "narcoticatest is not a location.\n",
      "gestuurd.38 is not a location.\n",
      "gebruiken.64 is not a location.\n",
      "gehad.223verdachte is not a location.\n",
      "heroïnegebruik is not a location.\n",
      "gekocht.4 is not a location.\n",
      "getuige is not a location.\n",
      "afleveren/verstrekken/vervoeren/aanwezig is not a location.\n",
      "aadx3250nl is not a location.\n",
      "aadx3254nl is not a location.\n",
      "maandenaugustus is not a location.\n",
      "geboortedatum]/1983a is not a location.\n",
      "synthetishe is not a location.\n",
      "r3542511 is not a location.\n",
      "blokken/kilo is not a location.\n",
      "nederland en/aldus is not a location.\n",
      "creditcardmes is not a location.\n",
      "basecoke is not a location.\n",
      "nfi-spoedrapport is not a location.\n",
      "mdma37 is not a location.\n",
      "mdma39 is not a location.\n",
      "mdma47 is not a location.\n",
      "maasbrachten/of is not a location.\n",
      "vannederland is not a location.\n",
      "meeranderen is not a location.\n",
      "nietom is not a location.\n",
      "nn-dimethyltryptamine is not a location.\n",
      "4-broom-25-dimethoxyfenethylamine is not a location.\n",
      "ampullen+flesjes+naalden is not a location.\n",
      "aanwenden/gebruiken is not a location.\n",
      "aaiq0284nl is not a location.\n",
      "svo pl17p0-2013367108-4496776 is not a location.\n",
      "ahf/ond is not a location.\n",
      "opgenomen.(3 is not a location.\n",
      "girosz is not a location.\n",
      "ijselstreek is not a location.\n",
      "broekenbinkie is not a location.\n",
      "sildenafil is not a location.\n",
      "tranxene/clorazepaat is not a location.\n",
      "bn9299 is not a location.\n",
      "zyprexas is not a location.\n",
      "aagz5050nl is not a location.\n",
      "700- euro per week is not a location.\n",
      "heeft.6 is not a location.\n",
      "into sardenia is not a location.\n",
      "tikkies is not a location.\n",
      "bmk/amfetamine is not a location.\n",
      "aangeefster.32 is not a location.\n",
      "minicooper is not a location.\n",
      "verkocht.5 is not a location.\n",
      "opsporingshandelingen is not a location.\n",
      "encrochat is not a location.\n",
      "aaau8323 is not a location.\n",
      "nederland.17 is not a location.\n",
      "toebehoren.7 is not a location.\n",
      "bevinden9 is not a location.\n",
      "gevonden.xvii is not a location.\n",
      "betreft.xxxii is not a location.\n",
      "colombiaans is not a location.\n",
      "bedienen98 is not a location.\n",
      "doorschakelde is not a location.\n",
      "laboratoriumgoederen is not a location.\n",
      "afgerond.7 is not a location.\n",
      "aamg1807nl is not a location.\n",
      "sulfone is not a location.\n",
      "methvlamine is not a location.\n",
      "geschopt.6 is not a location.\n",
      "calciumchloride is not a location.\n",
      "bereid/bewerkt/verwerkt/verkocht/afgeleverd/verstrekt is not a location.\n",
      "grondstoffacturen is not a location.\n",
      "verstuurd.12 is not a location.\n",
      "natriumwaterstof is not a location.\n",
      "14473 kilogramgebruikelijk is not a location.\n",
      "substantie).20 is not a location.\n",
      "barendracht is not a location.\n",
      "bevinden.5 is not a location.\n",
      "paratrixie is not a location.\n",
      "speedbom is not a location.\n",
      "oplevert.6 is not a location.\n",
      "zaaksnaam is not a location.\n",
      "aanwezigheeft is not a location.\n",
      "jongersland is not a location.\n",
      "relatieproblemen; is not a location.\n",
      "telkens)(elk is not a location.\n",
      "pl0100-2020076996-1253264 is not a location.\n",
      "voorstraat-breedstraat is not a location.\n",
      "verklaard12 is not a location.\n",
      "089 kilogram is not a location.\n",
      "078 kilogram is not a location.\n",
      "piperonylmthylketon is not a location.\n",
      "koerieren is not a location.\n",
      "userld is not a location.\n",
      "woninginsluiping is not a location.\n",
      "meta-chloor-phenyl-piperazine is not a location.\n",
      "labor monchengladbach is not a location.\n",
      "aagp1104nl is not a location.\n",
      "tabletteerstof is not a location.\n",
      "hydriodic is not a location.\n",
      "/aanks954nl is not a location.\n",
      "n-acetyl-amfetamine is not a location.\n",
      "primairhij is not a location.\n",
      "hechtel-eksel alkmaar is not a location.\n",
      "voorschakelunits is not a location.\n",
      "nfi).34 is not a location.\n",
      "pl0600-2016494916-1359934 is not a location.\n"
     ]
    },
    {
     "name": "stdout",
     "output_type": "stream",
     "text": [
      "geldbiljet is not a location.\n",
      "-verslagen is not a location.\n",
      "pre-arrival is not a location.\n",
      "binnengesmokkelde is not a location.\n",
      "g2186304 is not a location.\n",
      "opiumwetdan is not a location.\n",
      "opzettelijkheeft is not a location.\n",
      "methylalcohol is not a location.\n",
      "bo4471 is not a location.\n",
      "laboratoriumrapport is not a location.\n",
      "herione is not a location.\n",
      "florida and elsewhere is not a location.\n",
      "million dollar fee is not a location.\n",
      "verwerkingspanden is not a location.\n",
      "geldtelmachines is not a location.\n",
      "afghaan is not a location.\n",
      "opgeknopt is not a location.\n",
      "darknetmarkets is not a location.\n",
      "aana1158nl is not a location.\n",
      "oranje/roze/groen/blauw is not a location.\n",
      "23-11-2017 is not a location.\n",
      "dichtgebrand is not a location.\n",
      "35-jarige rotterdammer is not a location.\n",
      "dealerperiode is not a location.\n",
      "zendingen7 is not a location.\n",
      "rechtbank roermond is not a location.\n",
      "mededader is not a location.\n",
      "hashcake is not a location.\n",
      "snowseals is not a location.\n",
      "alpha-phenylacetoacetic is not a location.\n",
      "aajd4722nl is not a location.\n",
      "l6-a is not a location.\n",
      "l23-a is not a location.\n",
      "loogoplossingen is not a location.\n",
      "nakkie is not a location.\n",
      "opiumwetzaken is not a location.\n",
      "34-methyleendioxymethylamphemtamine is not a location.\n",
      "normaliter is not a location.\n",
      "methylalkohol is not a location.\n",
      "gebruikt.12 is not a location.\n",
      "wisselcode is not a location.\n",
      "verenigd koninkrijk.2dat is not a location.\n",
      "verdachte11 wettig is not a location.\n",
      "ketamingo is not a location.\n",
      "xtcpilletjes is not a location.\n",
      "aabg077 is not a location.\n",
      "apotheker-toxicoloog is not a location.\n",
      "34-methyleendioxy-methamfetamine is not a location.\n",
      "tilatemine is not a location.\n",
      "aagd1554nl is not a location.\n",
      "getrokken.19 is not a location.\n",
      "paraformaldehyde is not a location.\n",
      "bevatten.3 is not a location.\n",
      "ripdeal is not a location.\n",
      "99-102 is not a location.\n",
      "mmc-test is not a location.\n",
      "mda/mmda is not a location.\n",
      "bolletje17 is not a location.\n",
      "geldrop halsteren is not a location.\n",
      "bevatte.8 is not a location.\n",
      "strafverhogend is not a location.\n",
      "speedgebruik is not a location.\n",
      "heroïneresten11 is not a location.\n",
      "aamx8941nl is not a location.\n",
      "aajc8562nl is not a location.\n",
      "aajc8564nl is not a location.\n",
      "mdma20 is not a location.\n",
      "aaff7024nl is not a location.\n",
      "gevangennisstraf is not a location.\n",
      "aamg9831nl/code is not a location.\n",
      "pl0100-2015288754-610591 is not a location.\n",
      "amfetaminegebruik is not a location.\n",
      "rijswijktezamen is not a location.\n",
      "omzettingsproduct is not a location.\n",
      "cocaïnemetaboliet is not a location.\n",
      "sectiebevindingen is not a location.\n",
      "betalen.3 is not a location.\n",
      "gorinchem leerdam is not a location.\n",
      "liggen.10 is not a location.\n",
      "zwegers is not a location.\n",
      "methamfetaminetartraat is not a location.\n",
      "sovjet-unie is not a location.\n",
      "cocaïne32 is not a location.\n",
      "impulsdoorbraak is not a location.\n",
      "volkskant is not a location.\n",
      "geslagenxxxv is not a location.\n",
      "aangetroffen.4 is not a location.\n",
      "copelandia is not a location.\n",
      "l6gr is not a location.\n",
      "omgekocht.4 is not a location.\n",
      "geweest.6 is not a location.\n",
      "drugstransporten.31 is not a location.\n",
      "niet-ontvankelijkheidsverweren is not a location.\n",
      "083 en is not a location.\n",
      "middelenhandel is not a location.\n",
      "mdma.25 is not a location.\n",
      "stempelen.41 is not a location.\n",
      "gehaald.9 is not a location.\n",
      "natriumhypochloriet is not a location.\n",
      "sporenlijst is not a location.\n",
      "beslaglijst is not a location.\n",
      "prullenbank is not a location.\n",
      "mdma4 is not a location.\n",
      "blauwkleurig is not a location.\n",
      "aads6214nl is not a location.\n",
      "khudobin is not a location.\n",
      "lactose).dit is not a location.\n",
      "5gram is not a location.\n",
      "hagelgeweren is not a location.\n",
      "leveringstijdstippen is not a location.\n",
      "regendraak is not a location.\n",
      "st. maarten on or about is not a location.\n",
      "amphetamines is not a location.\n",
      "hydroxyboterzuur is not a location.\n",
      "amfetamineachtigen is not a location.\n",
      "nederland(1 is not a location.\n",
      "gevuld.6 is not a location.\n",
      "vingersporen is not a location.\n",
      "tenetur-beginsel is not a location.\n",
      "koerd is not a location.\n",
      "aagg7346nl is not a location.\n",
      "maroc zwart maroc is not a location.\n",
      "bevond.5 is not a location.\n",
      "zoom wernhout is not a location.\n",
      "verdachte.119 is not a location.\n",
      "facebookgesprekken is not a location.\n",
      "wederrechterlijk is not a location.\n",
      "constuct is not a location.\n",
      "oostenijk is not a location.\n",
      "opgëiste is not a location.\n",
      "airbagmethode is not a location.\n",
      "verdachte.(6 is not a location.\n",
      "aakr2174nl is not a location.\n",
      "aadp1954nl is not a location.\n",
      "tenlaste is not a location.\n",
      "amfetaminemisbruik is not a location.\n",
      "korebrits is not a location.\n",
      "art. 10a opw is not a location.\n",
      "art. 10a lid is not a location.\n",
      "wapenbezit is not a location.\n",
      "vermled is not a location.\n",
      "phentylacetoacetoacetonitril is not a location.\n",
      "vastgezet.6 is not a location.\n",
      "n‑formylamfetamine is not a location.\n",
      "s2.2 is not a location.\n",
      "b.17b1 is not a location.\n",
      "b17.d is not a location.\n",
      "tachograafkaart is not a location.\n",
      "o-acetylpsilocine is not a location.\n",
      "pl2000-2018241152-1941639 sin is not a location.\n",
      "bevat.6 is not a location.\n",
      "eenheid amsterdam is not a location.\n",
      "vacuümallonge is not a location.\n",
      "nederland10 is not a location.\n",
      "ibn-code is not a location.\n",
      "beschikkingsmacht is not a location.\n",
      "aajc7175nl is not a location.\n",
      "aangehouden.12 is not a location.\n",
      "persmachines is not a location.\n",
      "gesealde is not a location.\n",
      "douanebeambten is not a location.\n",
      "traangasbusje is not a location.\n",
      "strafzaak is not a location.\n",
      "kocht.6 is not a location.\n",
      "drugs8 is not a location.\n",
      "aangemerkt.18 is not a location.\n",
      "34-methylenedioxy-methamphetamine is not a location.\n",
      "drugwipe-test is not a location.\n",
      "ba002.01.03.001 is not a location.\n",
      "gespoeld is not a location.\n",
      "sigaardoos is not a location.\n",
      "mengmachine is not a location.\n",
      "aahv1281nl is not a location.\n",
      "aahv1284nl is not a location.\n",
      "middelencontroles is not a location.\n",
      "wiet/hasj is not a location.\n",
      "krijgen.14 is not a location.\n",
      "innemen/aanwezig is not a location.\n",
      "hasj.4 is not a location.\n",
      "werkauto’90 is not a location.\n",
      "bl7h is not a location.\n",
      "aadk3455nl/z-6a is not a location.\n",
      "aadk3451nl/b-17h is not a location.\n",
      "aaet9564nl is not a location.\n",
      "vorenbedoelde is not a location.\n",
      "ketone is not a location.\n",
      "betrof.155 is not a location.\n",
      "aangetroffen.234 is not a location.\n",
      "misdaadgeld is not a location.\n",
      "subitem is not a location.\n",
      "florida the defendants is not a location.\n",
      "multi-middelenmisbruik is not a location.\n",
      "stal/bedrijfsruimte is not a location.\n",
      "st. maarten and are currently is not a location.\n",
      "cafeïne-anhydraat;- is not a location.\n",
      "seal-apparaat is not a location.\n",
      "gebrugge is not a location.\n",
      "methylon is not a location.\n",
      "ethylfenidaat is not a location.\n",
      "drieënegentig is not a location.\n",
      "draaimachines is not a location.\n",
      "grijs-blond is not a location.\n",
      "blzz is not a location.\n",
      "scheitrechter is not a location.\n",
      "mede-redengevend is not a location.\n",
      "niad is not a location.\n",
      "verslag27 is not a location.\n",
      "eindhove is not a location.\n",
      "toegevoegd)(tenminste is not a location.\n",
      "drugs-criminaliteit is not a location.\n",
      "d-lysergeenzuurdiethylamide is not a location.\n",
      "hoeveelheidmethamfetamine is not a location.\n",
      "betreffen.74 is not a location.\n",
      "koeriersauto is not a location.\n",
      "g6023622 is not a location.\n",
      "whatsappbericht is not a location.\n",
      "s-hertogenbosch halveren is not a location.\n",
      "bestelling.3 is not a location.\n",
      "bijgebruik is not a location.\n",
      "schipholzaken is not a location.\n",
      "hetmiddelengebruik is not a location.\n",
      "eerstvermelde is not a location.\n",
      "amfetamineolie.21 is not a location.\n",
      "b-kwaliteit.67 is not a location.\n",
      "chemproha is not a location.\n",
      "aach7362.36 is not a location.\n",
      "niet-zuivere is not a location.\n",
      "dathij is not a location.\n",
      "smokkelen.43 is not a location.\n",
      "bredaom is not a location.\n",
      "afgegeven60 is not a location.\n",
      "softdrugshandel is not a location.\n",
      "natronloog is not a location.\n",
      "verwijderingsbevel is not a location.\n",
      "bruinkleurig is not a location.\n",
      "tie-wraps is not a location.\n",
      "nfi-dent.4 is not a location.\n",
      "nederlandopzettelijk is not a location.\n",
      "medioub is not a location.\n",
      "hetvierde is not a location.\n",
      "gevastgesteld is not a location.\n",
      "christelijke gemeenschap is not a location.\n",
      "overhandigde.18 is not a location.\n",
      "aacn8240nl is not a location.\n",
      "aafe5853nl is not a location.\n",
      "art. 359a sv is not a location.\n",
      "-metamfetamine is not a location.\n",
      "fenylacetoacetamide is not a location.\n",
      "aafh5o24nl is not a location.\n",
      "broom/bromine is not a location.\n",
      "ammoniumcarbonaat is not a location.\n"
     ]
    },
    {
     "name": "stdout",
     "output_type": "stream",
     "text": [
      "2021volgt is not a location.\n",
      "ruiken.12 is not a location.\n",
      "norefedrine is not a location.\n",
      "inbeslaggenomen.4 is not a location.\n",
      "tweefasen is not a location.\n",
      "regiopolitie brabant is not a location.\n",
      "contanten.65 is not a location.\n",
      "e.v.)voorhanden is not a location.\n",
      "hydroxy is not a location.\n",
      "gestuurd.10 is not a location.\n",
      "gezeten.9 is not a location.\n",
      "onderzoek.(eindnoot is not a location.\n",
      "huiszoekingen is not a location.\n",
      "metamfetaminetatraat is not a location.\n",
      "aapp9828nl is not a location.\n",
      "herkenningsgedrag is not a location.\n",
      "ethylcocaïne is not a location.\n",
      "hydroxycocaïne is not a location.\n",
      "femoraalbloed is not a location.\n",
      "verwurging/asfyxie is not a location.\n",
      "rotterdamtezamen is not a location.\n",
      "aaei5033 is not a location.\n",
      "criminali-teit is not a location.\n",
      "negenhonderdvierenzestig is not a location.\n",
      "tetramisol is not a location.\n",
      "auto's/bestel-/vrachtauto's is not a location.\n",
      "oplosmiddel.29 is not a location.\n",
      "whatsapp-gesprekken is not a location.\n",
      "verdachte.68 is not a location.\n",
      "dossierpagina is not a location.\n",
      "vermeld.11 is not a location.\n",
      "internetmarktplaats is not a location.\n",
      "bevattende34-methyleendioxymethamfetamine is not a location.\n",
      "hashiesj is not a location.\n",
      "w.o.metamfetamine is not a location.\n",
      "ibn-code a.2.1.1.2 is not a location.\n",
      "ibn-code a.a.1.18 is not a location.\n",
      "-precursoren is not a location.\n",
      "bg7141 is not a location.\n",
      "ingevoerd.7 is not a location.\n",
      "inkoopt1 is not a location.\n",
      "geplaatst4 is not a location.\n",
      "leveren8 is not a location.\n",
      "drugsrunners is not a location.\n",
      "bc0828 is not a location.\n",
      "barbaroza is not a location.\n",
      "plankband is not a location.\n",
      "aangetroffen.1 is not a location.\n",
      "dealer-benodigdheden is not a location.\n",
      "ponypack is not a location.\n",
      "cac/cosp/wg.2/2014/crp.3 is not a location.\n",
      "gewaarmerkt is not a location.\n",
      "aafg1034nl is not a location.\n",
      "vog08 is not a location.\n",
      "zd0975 is not a location.\n",
      "acht-uurs-bevel is not a location.\n",
      "acht-uursbevel is not a location.\n",
      "benzylmethyl- is not a location.\n",
      "honderdnegenenveertig is not a location.\n",
      "aank6477nl is not a location.\n",
      "methyleendioxymethylamfetamine is not a location.\n",
      "methyleendioxyethylamfetamine is not a location.\n",
      "aamo8463nl is not a location.\n",
      "aamo8457nl is not a location.\n",
      "aamo9017nl is not a location.\n",
      "aamo8464nl is not a location.\n",
      "rotterdamopzettelijk is not a location.\n",
      "safetybags is not a location.\n",
      "betalen.4 is not a location.\n",
      "geslikt.6 is not a location.\n",
      "pincoff is not a location.\n",
      "steenkoolachtig/teerachtig is not a location.\n",
      "droogtafel is not a location.\n",
      "vidalista is not a location.\n",
      "rijenopzettelijk is not a location.\n",
      "opvoedbare is not a location.\n",
      "betreffen.12 is not a location.\n",
      "a-g wortel is not a location.\n",
      "gestald.(3 is not a location.\n",
      "nn4k is not a location.\n",
      "stuks.5 is not a location.\n",
      "enedo is not a location.\n",
      "onderzocht.8 is not a location.\n",
      "stof.4 is not a location.\n",
      "doorzoeking is not a location.\n",
      "ibn-code d.1.2.11 is not a location.\n",
      "aangetroffen.48 is not a location.\n",
      "kannekes is not a location.\n",
      "zoutzuur216 is not a location.\n",
      "-2-wegwaterverdeler is not a location.\n",
      "flevoland roofteam is not a location.\n",
      "44-jarige antilliaan is not a location.\n",
      "doetinchem groenlo is not a location.\n",
      "kopen3 is not a location.\n",
      "woonpand is not a location.\n",
      "34-methyleendioxyethylamfetamine is not a location.\n",
      "aaei4565nl is not a location.\n",
      "aangetroffen.xxv is not a location.\n",
      "gevoerd.1 is not a location.\n",
      "3-acetylmorfine is not a location.\n",
      "inbeslaggenomen.33 is not a location.\n",
      "aadp7858nl is not a location.\n",
      "gekregen.20 is not a location.\n",
      "overtreden.42 is not a location.\n",
      "kilogram.65 is not a location.\n",
      "veronderstellenderwijze is not a location.\n",
      "geeft.2 is not a location.\n",
      "enchrochat is not a location.\n",
      "drugslijn.[37 is not a location.\n",
      "strafmatigende is not a location.\n",
      "lachgastank is not a location.\n",
      "aaff0040nl is not a location.\n",
      "narcoticaonderzoek is not a location.\n",
      "drl14008 is not a location.\n",
      "temazep is not a location.\n",
      "vitablend mannitol is not a location.\n",
      "voorburg helmond is not a location.\n",
      "mdma.90 is not a location.\n",
      "maalmachines is not a location.\n",
      "tabletteerstoffen is not a location.\n",
      "arnhem aalten is not a location.\n",
      "geslikt is not a location.\n",
      "medicijnenmisbruik is not a location.\n",
      "p.45-46 is not a location.\n",
      "786845 is not a location.\n",
      "israëliër is not a location.\n",
      "niet-responderen is not a location.\n",
      "gedronken.18 is not a location.\n",
      "doventolken is not a location.\n",
      "seresta’s is not a location.\n",
      "u433452-4 is not a location.\n",
      "methandrostenolon is not a location.\n",
      "mestererolone is not a location.\n",
      "astralean is not a location.\n",
      "oxanabol is not a location.\n",
      "zevenaar rijen is not a location.\n",
      "productieperiode is not a location.\n",
      "hartfunctiestoornissen is not a location.\n",
      "natriumboorhydride.- is not a location.\n",
      "in-/vervoeren is not a location.\n",
      "zwemvest is not a location.\n",
      "ontnemingsrapportage is not a location.\n",
      "smokkelen55 is not a location.\n",
      "drugs/stoffen is not a location.\n",
      "aanwezighebben/vervoeren is not a location.\n",
      "douanemanifest is not a location.\n",
      "amfetamine-pasta is not a location.\n",
      "verkoopt.6 is not a location.\n",
      "martiniair is not a location.\n",
      "quito-bonaire-amsterdam is not a location.\n",
      "aangehouden103 is not a location.\n",
      "aangetroffen.110 is not a location.\n",
      "notitiebriefje is not a location.\n",
      "familiair-genetisch is not a location.\n",
      "klaargestaan is not a location.\n",
      "aafg2941nl is not a location.\n",
      "aafg2944nl is not a location.\n",
      "gebruiken.9 is not a location.\n",
      "rotterdammers is not a location.\n",
      "hashiesh is not a location.\n",
      "tunesiër is not a location.\n",
      "minstgenomen is not a location.\n",
      "loods barneveld is not a location.\n",
      "schattingsmethode is not a location.\n",
      "33054gram is not a location.\n",
      "wvsv aruba is not a location.\n",
      "977 e.v. is not a location.\n",
      "en/ofverwerkt is not a location.\n",
      "gebruiken65 is not a location.\n",
      "fraude-inspecteur is not a location.\n",
      "aaiq3697nl is not a location.\n",
      "m590 is not a location.\n",
      "linkerbovenarm is not a location.\n",
      "joegoslaaf is not a location.\n",
      "overgebracht.[3 is not a location.\n",
      "diacethylmorfine is not a location.\n",
      "terug.21 is not a location.\n",
      "stechplaats is not a location.\n",
      "delta-methode is not a location.\n",
      "barcaforever is not a location.\n",
      "elephantwater is not a location.\n",
      "ornerysandwich is not a location.\n",
      "-dimethoxyfenethylamine is not a location.\n",
      "5-dimetlioxyfenethylamine is not a location.\n",
      "vuurwapen- is not a location.\n",
      "3-trifluormethyl-fenylpiperazine is not a location.\n",
      "oxymetholone is not a location.\n",
      "cocaine-swap is not a location.\n",
      "bedruppeld is not a location.\n",
      "pustovarov is not a location.\n",
      "beukenheg is not a location.\n",
      "gesnoven7 is not a location.\n",
      "metoprololsuccinaat is not a location.\n",
      "clonazepam is not a location.\n",
      "cenforce is not a location.\n",
      "dicolefenac is not a location.\n",
      "lamictal is not a location.\n",
      "ofanderen is not a location.\n",
      "gebruiken.18 is not a location.\n",
      "soesttezamen is not a location.\n",
      "neunkirchen-vluyn is not a location.\n",
      "florida-tijd is not a location.\n",
      "snuifcoke is not a location.\n",
      "snuifcocaïne is not a location.\n",
      "vervoerde is not a location.\n",
      "ontnemingsrapportage3 is not a location.\n",
      "heroïne-deal is not a location.\n",
      "darknet/internet is not a location.\n",
      "24-7-2003 is not a location.\n",
      "onderzoek.2 is not a location.\n",
      "abatha is not a location.\n",
      "sint maarten/forensische is not a location.\n",
      "evidrinepillen is not a location.\n",
      "diyabakir is not a location.\n",
      "g2319773 is not a location.\n",
      "xtc(34-methyleendioxymethamfetamine is not a location.\n",
      "amsterdam4 is not a location.\n",
      "2.1219 gram.4 is not a location.\n",
      "abstinentieperiode is not a location.\n",
      "hebben.3 is not a location.\n",
      "hennepstekjes is not a location.\n",
      "bellingwedde is not a location.\n",
      "decadurabolin is not a location.\n",
      "basisdelict is not a location.\n",
      "aafm0484nl is not a location.\n",
      "aanj8710nl is not a location.\n",
      "trunarc-apparaat is not a location.\n",
      "buit/goederen is not a location.\n",
      "hoofdorp is not a location.\n",
      "303.90 is not a location.\n",
      "wenen verdrag van is not a location.\n",
      "verdachte]- is not a location.\n",
      "hong kong naar rotterdam is not a location.\n",
      "verkoop/export is not a location.\n",
      "benamaldena is not a location.\n",
      "intreedt.3 is not a location.\n",
      "weggenomen.1 is not a location.\n",
      "cannabismisbruik is not a location.\n",
      "lysergide/lsd is not a location.\n",
      "caulcedo is not a location.\n",
      "zuidland heijplaat is not a location.\n",
      "sluimertoestand is not a location.\n",
      "aswoensdag is not a location.\n",
      "poeder/chemicaliën is not a location.\n",
      "bloedcontactsporen is not a location.\n",
      "pl0100-2017066213-857613 is not a location.\n",
      "verklaard.8 is not a location.\n"
     ]
    },
    {
     "name": "stdout",
     "output_type": "stream",
     "text": [
      "kinderverkrachter is not a location.\n",
      "toebehoren.35 is not a location.\n",
      "c.01.01.001 is not a location.\n",
      "contactverboden is not a location.\n",
      "kleerkastc-017 is not a location.\n",
      "drugslaboratorium is not a location.\n",
      "s)/mengmolen is not a location.\n",
      "antwerpse is not a location.\n",
      "hr:1998:av1127 is not a location.\n",
      "softdrugsgebruik is not a location.\n",
      "art. 36e sr is not a location.\n",
      "pormis-vonnis is not a location.\n",
      "maastrichttezamen is not a location.\n",
      "nederexhaven is not a location.\n",
      "mephedrone-4-methylmethcathinone is not a location.\n",
      "hashies is not a location.\n",
      "henneptoppen is not a location.\n",
      "persoonsdossier is not a location.\n",
      "gekregen.8 is not a location.\n",
      "deliriumsyndroom is not a location.\n",
      "politie42 is not a location.\n",
      "stalkerige is not a location.\n",
      "ty-wraps is not a location.\n",
      "boliviaans is not a location.\n",
      "onregelmatigheden/afwijkingen is not a location.\n",
      "aangeefster is not a location.\n",
      "2-fenylethylamine is not a location.\n",
      "harddrugsmisbruik is not a location.\n",
      "amfetaminepasta.34 is not a location.\n",
      "bevat.36 is not a location.\n",
      "aahz1077nl is not a location.\n",
      "nitrazepam is not a location.\n",
      "alarmpistolen is not a location.\n",
      "gebruikt.6 is not a location.\n",
      "party-drug is not a location.\n",
      "relaas-proces-verbaal is not a location.\n",
      "narcistische/antisociale is not a location.\n",
      "cocaïne-transporten is not a location.\n",
      "disposakit is not a location.\n",
      "cijferslotcode is not a location.\n",
      "medebetrokkene is not a location.\n",
      "vacuümautomaat is not a location.\n",
      "kl0776 is not a location.\n",
      "aaca2913nl.48 is not a location.\n",
      "038 mg/l.7 is not a location.\n",
      "evenbedoeld is not a location.\n",
      "fijngeslagen is not a location.\n",
      "drugsorganisaties is not a location.\n",
      "een cannabistest is not a location.\n",
      "aacq9315nl is not a location.\n",
      "aangetroffen18 is not a location.\n",
      "zuidland van den berg is not a location.\n",
      "klm-boxen is not a location.\n",
      "voeren/te is not a location.\n",
      "hersenorganische is not a location.\n",
      "gegooid.11 is not a location.\n",
      "stoornes is not a location.\n",
      "n-ethyl-34-methyleendioxy-amfetamine is not a location.\n",
      "vewerkt is not a location.\n",
      "hoeveeldheden is not a location.\n",
      "australia describing is not a location.\n",
      "genomen).naar is not a location.\n",
      "eenheid rotterdam is not a location.\n",
      "dacty is not a location.\n",
      "aajd4843nl is not a location.\n",
      "karton/afval is not a location.\n",
      "aangetroffen.51 is not a location.\n",
      "enantholic is not a location.\n",
      "testobolin is not a location.\n",
      "enanthaat is not a location.\n",
      "methandiënon is not a location.\n",
      "oxandrolon is not a location.\n",
      "art. 359a wetboek van strafvordering is not a location.\n",
      "hasjiej is not a location.\n",
      "antilliaanse eilanden is not a location.\n",
      "borderlinekenmerken is not a location.\n",
      "liberiaans is not a location.\n",
      "straatsburgs is not a location.\n",
      "biafine-tubes is not a location.\n",
      "gedoeld is not a location.\n",
      "totaalruim is not a location.\n",
      "onderzocht.6 is not a location.\n",
      "aako0277nl is not a location.\n",
      "impulscontroleproblemen is not a location.\n",
      "cocaïne-afhankelijkheid is not a location.\n",
      "seroquel-pillen is not a location.\n",
      "turbomix is not a location.\n",
      "enopzettelijk is not a location.\n",
      "justitiecontactenpositief is not a location.\n",
      "verbaal-declaratief is not a location.\n",
      "weergegeven14 is not a location.\n",
      "geoogste is not a location.\n",
      "amfetamini is not a location.\n",
      "acne-achtig is not a location.\n",
      "zoologistics is not a location.\n",
      "bussumopzettelijk is not a location.\n",
      "binnengereisd is not a location.\n",
      "rondlopertabletteermachine is not a location.\n",
      "andereno is not a location.\n",
      "a-g spronken is not a location.\n",
      "gebruikt.10 is not a location.\n",
      "algerijn is not a location.\n",
      "inbeslaggenomen132133 is not a location.\n",
      "hr:2007:bb6361 is not a location.\n",
      "copingmechanismen is not a location.\n",
      "gedronken.10 is not a location.\n",
      "opzij.45 is not a location.\n",
      "auto52 is not a location.\n",
      "behandelingsintensiteit is not a location.\n",
      "bajonetsteeg is not a location.\n",
      "herkend.67 is not a location.\n",
      "narcotester is not a location.\n",
      "n-ethyl-34-methyleendioxyamfetamine is not a location.\n",
      "sadistisch-agressief is not a location.\n",
      "mengstoffen is not a location.\n",
      "cocaïne/heroïne is not a location.\n",
      "aaot6520nl is not a location.\n",
      "buprenorfine is not a location.\n",
      "flunitrazepam is not a location.\n",
      "stimulantium is not a location.\n",
      "delictperiode is not a location.\n",
      "eetlustopwekking is not a location.\n",
      "anti-hiv is not a location.\n",
      "nfi-deskundigen is not a location.\n",
      "-hoeveelheden- is not a location.\n",
      "-meth-amfetamine is not a location.\n",
      "quetiapine is not a location.\n",
      "citalopran is not a location.\n",
      "0-desmethylvenlafaxine is not a location.\n",
      "angels haarlem is not a location.\n",
      "eftelinghotel is not a location.\n",
      "drijven.4 is not a location.\n",
      "opiumwet12 is not a location.\n",
      "medeverdachte.6 is not a location.\n",
      "cannabistest is not a location.\n",
      "leeshaken is not a location.\n",
      "raamsdonkveer is not a location.\n",
      "basede is not a location.\n",
      "amsterdamin is not a location.\n",
      "geknipt/verwerkt is not a location.\n",
      "camerabeelden/observaties is not a location.\n",
      "beschermd/beschut is not a location.\n",
      "gekocht.3 is not a location.\n",
      "mma)-meldingen is not a location.\n",
      "irakezen is not a location.\n",
      "a1275 is not a location.\n",
      "nfi-rapport31 is not a location.\n",
      "testing’.11uit is not a location.\n",
      "praten”.72 is not a location.\n",
      "cokedealer is not a location.\n",
      "amfetamine74 is not a location.\n",
      "art. 420bis sr is not a location.\n",
      "afgenomen.48 is not a location.\n",
      "auto-inbraken is not a location.\n",
      "mdma-gebruik is not a location.\n",
      "keukenmengmachines is not a location.\n",
      "f.f1.2.1a is not a location.\n",
      "verenigd koninkrijk berechtte is not a location.\n",
      "monster/nfi is not a location.\n",
      "t1-formulieren is not a location.\n",
      "gadolinium is not a location.\n",
      "a1729 is not a location.\n",
      "duistland is not a location.\n",
      "honderdtwintig; is not a location.\n",
      "opzettelijkaanwezig is not a location.\n",
      "aalburg nijeveen is not a location.\n",
      "kampen3 is not a location.\n",
      "controleren.53 is not a location.\n",
      "bullchat is not a location.\n",
      "a7.2 is not a location.\n",
      "tetramisole is not a location.\n",
      "afgenomen.49 is not a location.\n",
      "nerveus is not a location.\n",
      "knipapparaat is not a location.\n",
      "nacht neumünster is not a location.\n",
      "sollte mir dann den stoff is not a location.\n",
      "kurierlohnes is not a location.\n",
      "aangetroffen.74 is not a location.\n",
      "kloontjes is not a location.\n",
      "antwoordde91 is not a location.\n",
      "pakistanen is not a location.\n",
      "aae05777nl is not a location.\n",
      "aanvvezig is not a location.\n",
      "kluisregistratie is not a location.\n",
      "bewaard.402403 is not a location.\n",
      "heinekenlosgeld is not a location.\n",
      "gekregen.91 is not a location.\n",
      "brazi-lië is not a location.\n",
      "cocaïnewereld is not a location.\n",
      "pseudo-allococaïne is not a location.\n",
      "marokko.[betrokkene is not a location.\n"
     ]
    }
   ],
   "source": [
    "relevant_df = filter_strafrecht_and_contain_smuggle_word(merged_df)\n",
    "\n",
    "country_translation_dict = open(\"country_translation_dict.pkl\", \"rb\")\n",
    "country_translation_dict = pickle.load(country_translation_dict)\n",
    "\n",
    "trafficking_df = filter_for_relevant_chunks(relevant_df)\n",
    "\n",
    "dict_file = open(\"country_translation_dict.pkl\", \"wb\")\n",
    "pickle.dump(country_translation_dict, dict_file)\n",
    "dict_file.close()\n",
    "\n",
    "exclude_list_file = open(\"countries_to_exclude.pkl\", \"wb\")\n",
    "pickle.dump(countries_to_exclude, exclude_list_file)\n",
    "exclude_list_file.close()\n",
    "\n",
    "print(f\"Lenght of the resutling trafficking df: {len(trafficking_df)}\")"
   ]
  },
  {
   "cell_type": "code",
   "execution_count": 146,
   "id": "863dce8e",
   "metadata": {},
   "outputs": [
    {
     "name": "stdout",
     "output_type": "stream",
     "text": [
      "Lenght of the resutling trafficking df: 2824\n"
     ]
    }
   ],
   "source": [
    "print(f\"Lenght of the resutling trafficking df: {len(trafficking_df)}\")"
   ]
  },
  {
   "cell_type": "markdown",
   "id": "212da1b4",
   "metadata": {},
   "source": [
    "# Rule-based NER & POS tagging model"
   ]
  },
  {
   "cell_type": "markdown",
   "id": "dffa03e9",
   "metadata": {
    "heading_collapsed": true
   },
   "source": [
    "## Tagging"
   ]
  },
  {
   "cell_type": "code",
   "execution_count": 149,
   "id": "8eca859f",
   "metadata": {
    "hidden": true
   },
   "outputs": [],
   "source": [
    "# Get linguistic distance between token a and token b. After iter 10 it is deemed a too far distance.\n",
    "def get_linguistic_distance(a, b):\n",
    "    tokens_to_consider = [b]\n",
    "    found = False\n",
    "    iters = 0\n",
    "    while not found:\n",
    "        for token in tokens_to_consider:\n",
    "            tokens_to_add = []\n",
    "            for ancestor in token.ancestors:\n",
    "                if ancestor not in tokens_to_add and ancestor not in tokens_to_consider:\n",
    "                    tokens_to_add.append(ancestor)\n",
    "            for child in token.children:\n",
    "                if child not in tokens_to_add and child not in tokens_to_consider:\n",
    "                    tokens_to_add.append(child)\n",
    "            tokens_to_consider = tokens_to_consider + tokens_to_add\n",
    "        for x in tokens_to_consider:\n",
    "            if a.orth == x.orth:\n",
    "                found = True\n",
    "        iters += 1\n",
    "        if iters == 10:\n",
    "            found = True\n",
    "    return iters"
   ]
  },
  {
   "cell_type": "code",
   "execution_count": 150,
   "id": "e3d2949a",
   "metadata": {
    "hidden": true
   },
   "outputs": [],
   "source": [
    "def get_adposition_from_loc(token):\n",
    "    for child in token.children:\n",
    "        if child.pos_ == \"ADP\" and child.dep_ == \"case\":\n",
    "            return child.text"
   ]
  },
  {
   "cell_type": "code",
   "execution_count": 151,
   "id": "68cd79bc",
   "metadata": {
    "hidden": true
   },
   "outputs": [],
   "source": [
    "def extract_chunk_info_without_log(txt):\n",
    "    result = {}\n",
    "    for token in nlp(txt):\n",
    "        if token.ent_type_ == \"DRUG\":\n",
    "            drug_info = extract_info_from_drug_without_log(token, txt)\n",
    "            result[token.text] = drug_info\n",
    "    return result\n",
    "            \n",
    "adj_list = []          \n",
    "def extract_info_from_drug_without_log(drug, txt):\n",
    "    volumes = []\n",
    "    locations = {}\n",
    "    irrelevant_locations = []\n",
    "    for token in nlp(txt):\n",
    "        \n",
    "        # Extract countries\n",
    "        if token.ent_type_ == \"GPE\":\n",
    "            dist = get_linguistic_distance(drug, token)\n",
    "            adj = get_adposition_from_loc(token)\n",
    "            locs = [token.text]\n",
    "            for loc in token.conjuncts:\n",
    "                locs.append(loc.text)\n",
    "            if adj not in locations:\n",
    "                locations[adj] = locs\n",
    "                if adj not in adj_list:\n",
    "                    adj_list.append(adj)\n",
    "            else:\n",
    "                for loc in locs:\n",
    "                    if loc not in locations[adj]:\n",
    "                        locations[adj].append(loc)\n",
    "        \n",
    "        # Extract volume\n",
    "        if token.ent_type_ == \"QUANTITY\":\n",
    "            volume = {}\n",
    "            dist = get_linguistic_distance(drug, token)\n",
    "            second_token = \"\"\n",
    "            quantity = {}\n",
    "            for ancestor in token.ancestors:\n",
    "                if ancestor.ent_type_ == \"QUANTITY\":\n",
    "                    second_token = ancestor\n",
    "            for child in token.children:\n",
    "                if child.ent_type_ == \"QUANTITY\":\n",
    "                    second_token = child\n",
    "\n",
    "            ## Decide volume and volume_type\n",
    "            if not isinstance(second_token, str):\n",
    "                if nlp(token.text)[0].ent_type_ == \"CARDINAL\":\n",
    "                    volume['volume'] = token.text\n",
    "                    volume['volume_type'] = second_token.text\n",
    "                    volume['dist'] = dist\n",
    "                elif nlp(second_token.text)[0].ent_type_ == \"CARDINAL\":\n",
    "                    volume['volume'] = second_token.text\n",
    "                    volume['volume_type'] = token.text\n",
    "                    volume['dist'] = dist\n",
    "\n",
    "                #Only append when not already in volumes\n",
    "                if volume not in volumes:\n",
    "                    volumes.append(volume)\n",
    "                \n",
    "        \n",
    "        \n",
    "            \n",
    "\n",
    "    result = {}\n",
    "    if bool(locations):\n",
    "        result['locations'] = locations\n",
    "    result[\"volume\"] = volumes\n",
    "    if len(irrelevant_locations) > 0:\n",
    "        result[\"irrelevant_locations\"] = irrelevant_locations\n",
    "    \n",
    "    return result"
   ]
  },
  {
   "cell_type": "markdown",
   "id": "c052c6f4",
   "metadata": {},
   "source": [
    "## Fusing"
   ]
  },
  {
   "cell_type": "code",
   "execution_count": 200,
   "id": "f1ae2a75",
   "metadata": {},
   "outputs": [],
   "source": [
    "def fuse_chunks(chunks): \n",
    "    # Loop through chunks\n",
    "    drug_dict = {}\n",
    "    for chunk in chunks:\n",
    "        chunk_info = extract_chunk_info_without_log(chunk)\n",
    "\n",
    "        # Loop through drugs\n",
    "        if chunk_info is not None:\n",
    "            for drug in chunk_info:\n",
    "                lowerdrug = drug.lower()\n",
    "                if lowerdrug not in drug_dict:\n",
    "                    drug_dict[lowerdrug] = {'locations': [], 'volumes': []}\n",
    "                if len(chunk_info[drug]['volume']) > 0:\n",
    "                    drug_dict[lowerdrug]['volumes'].append(chunk_info[drug]['volume'])\n",
    "                if 'locations' in chunk_info[drug]:\n",
    "                    drug_dict[lowerdrug]['locations'].append(chunk_info[drug]['locations'])\n",
    "    return drug_dict"
   ]
  },
  {
   "cell_type": "code",
   "execution_count": 201,
   "id": "8370741a",
   "metadata": {},
   "outputs": [],
   "source": [
    "def fuse_locations(fused_chunks):\n",
    "    for drug in fused_chunks:\n",
    "        adjectives = {}\n",
    "        for location_entry in fused_chunks[drug]['locations']:\n",
    "            for adjective in location_entry:\n",
    "                if adjective not in adjectives:\n",
    "                    adjectives[adjective] = []\n",
    "                for country in location_entry[adjective]:\n",
    "                    if country not in adjectives[adjective]:\n",
    "                        adjectives[adjective].append(country)\n",
    "        fused_chunks[drug]['locations'] = adjectives\n",
    "    return fused_chunks"
   ]
  },
  {
   "cell_type": "code",
   "execution_count": 202,
   "id": "19906bf2",
   "metadata": {},
   "outputs": [],
   "source": [
    "def fuse_volumes(fused_locations):\n",
    "    for drug in fused_locations:\n",
    "        final_volume = {}\n",
    "        dist = 100\n",
    "        for volumes in fused_locations[drug]['volumes']:\n",
    "            if len(volumes) > 0:\n",
    "                for volume in volumes:\n",
    "                    if 'dist' in volume:\n",
    "                        if volume['dist'] < dist:\n",
    "                            dist = volume['dist']\n",
    "                            final_volume = volume\n",
    "        fused_locations[drug]['volumes'] = final_volume\n",
    "        return fused_locations"
   ]
  },
  {
   "cell_type": "code",
   "execution_count": 160,
   "id": "05e1e8ff",
   "metadata": {},
   "outputs": [],
   "source": [
    "def translate_locations(data):\n",
    "    geolocator = Nominatim(user_agent = \"geoapiExercises\")\n",
    "    if data is not None:\n",
    "        for drug in data:\n",
    "            if 'locations' in data[drug]:\n",
    "                data[drug]['original_locations'] = data[drug]['locations'].copy()\n",
    "                for adjective in data[drug]['locations']:\n",
    "                    country_list = []\n",
    "                    locations = data[drug]['locations'][adjective]\n",
    "                    for loc in locations:\n",
    "                        if loc not in country_translation_dict and loc not in countries_to_exclude:    \n",
    "                            try:\n",
    "                                location = geolocator.geocode(loc, language='en')\n",
    "                                country_name = location.raw['display_name'].split(',')[-1]\n",
    "                                country_translation_dict[loc] = country_name\n",
    "                                if country_name not in country_list:\n",
    "                                    country_list.append(country_name)\n",
    "                            except Exception as e:\n",
    "                                print(f\"{loc} is not a location.\")\n",
    "                                countries_to_exclude.append(loc)\n",
    "                        else:\n",
    "                            if loc in country_translation_dict:\n",
    "                                if country_translation_dict[loc] not in country_list:\n",
    "                                    country_list.append(country_translation_dict[loc])\n",
    "                    data[drug]['locations'][adjective] = country_list\n",
    "    return data"
   ]
  },
  {
   "cell_type": "code",
   "execution_count": 161,
   "id": "dc2b1542",
   "metadata": {},
   "outputs": [],
   "source": [
    "def get_location_directions(data):\n",
    "    from_adjectives = ['uit', 'vanuit', 'van']\n",
    "    to_adjectives = ['naar']\n",
    "    via_adjectives = ['via']\n",
    "    if data is not None:\n",
    "        for drug in data:\n",
    "            fromlocs = []\n",
    "            tolocs = []\n",
    "            vialocs = []\n",
    "            locations = data[drug]['locations']\n",
    "            for adj in locations:\n",
    "                if adj in from_adjectives:\n",
    "                    for loc in locations[adj]:\n",
    "                        if loc not in fromlocs:\n",
    "                            fromlocs.append(loc)\n",
    "                elif adj in to_adjectives:\n",
    "                    for loc in locations[adj]:\n",
    "                        if loc not in tolocs:\n",
    "                            tolocs.append(loc)\n",
    "                elif adj in via_adjectives:\n",
    "                    for loc in locations[adj]:\n",
    "                        if loc not in vialocs:\n",
    "                            vialocs.append(loc)\n",
    "\n",
    "            data[drug]['locations'] = {'from': fromlocs, 'to': tolocs, 'via': vialocs}\n",
    "    return data"
   ]
  },
  {
   "cell_type": "markdown",
   "id": "6e9e4aef",
   "metadata": {},
   "source": [
    "## Results"
   ]
  },
  {
   "cell_type": "code",
   "execution_count": 207,
   "id": "5645e325",
   "metadata": {
    "scrolled": false
   },
   "outputs": [
    {
     "data": {
      "text/html": [
       "<div>\n",
       "<style scoped>\n",
       "    .dataframe tbody tr th:only-of-type {\n",
       "        vertical-align: middle;\n",
       "    }\n",
       "\n",
       "    .dataframe tbody tr th {\n",
       "        vertical-align: top;\n",
       "    }\n",
       "\n",
       "    .dataframe thead th {\n",
       "        text-align: right;\n",
       "    }\n",
       "</style>\n",
       "<table border=\"1\" class=\"dataframe\">\n",
       "  <thead>\n",
       "    <tr style=\"text-align: right;\">\n",
       "      <th></th>\n",
       "      <th>ecli</th>\n",
       "      <th>drug</th>\n",
       "      <th>relevant_countries</th>\n",
       "    </tr>\n",
       "  </thead>\n",
       "  <tbody>\n",
       "    <tr>\n",
       "      <th>0</th>\n",
       "      <td>ECLI:NL:RBZWB:2020:2646</td>\n",
       "      <td>bmk</td>\n",
       "      <td>[ Spain,  United Kingdom]</td>\n",
       "    </tr>\n",
       "    <tr>\n",
       "      <th>1</th>\n",
       "      <td>ECLI:NL:RBAMS:2019:4296</td>\n",
       "      <td>heroïne</td>\n",
       "      <td>[ Netherlands, Netherlands, Peru]</td>\n",
       "    </tr>\n",
       "    <tr>\n",
       "      <th>2</th>\n",
       "      <td>ECLI:NL:RBAMS:2019:4296</td>\n",
       "      <td>cocaïne</td>\n",
       "      <td>[ Netherlands, Netherlands, Peru]</td>\n",
       "    </tr>\n",
       "    <tr>\n",
       "      <th>3</th>\n",
       "      <td>ECLI:NL:RBDHA:2019:9384</td>\n",
       "      <td>drugs</td>\n",
       "      <td>[Belgium]</td>\n",
       "    </tr>\n",
       "    <tr>\n",
       "      <th>4</th>\n",
       "      <td>ECLI:NL:GHAMS:2018:2662</td>\n",
       "      <td>cocaïne</td>\n",
       "      <td>[Argentina]</td>\n",
       "    </tr>\n",
       "    <tr>\n",
       "      <th>...</th>\n",
       "      <td>...</td>\n",
       "      <td>...</td>\n",
       "      <td>...</td>\n",
       "    </tr>\n",
       "    <tr>\n",
       "      <th>5723</th>\n",
       "      <td>ECLI:NL:RBNHO:2013:10924</td>\n",
       "      <td>cocaïne</td>\n",
       "      <td>[South America,  Nepal]</td>\n",
       "    </tr>\n",
       "    <tr>\n",
       "      <th>5724</th>\n",
       "      <td>ECLI:NL:GHSHE:2021:3205</td>\n",
       "      <td>cocaïne</td>\n",
       "      <td>[ Netherlands, Belgium, Dominican Republic,  B...</td>\n",
       "    </tr>\n",
       "    <tr>\n",
       "      <th>5725</th>\n",
       "      <td>ECLI:NL:GHSHE:2021:3205</td>\n",
       "      <td>hasjiesj</td>\n",
       "      <td>[ Belgium]</td>\n",
       "    </tr>\n",
       "    <tr>\n",
       "      <th>5726</th>\n",
       "      <td>ECLI:NL:RBLIM:2018:3094</td>\n",
       "      <td>cocaïne</td>\n",
       "      <td>[Netherlands, Dominican Republic, Belgium,  Ne...</td>\n",
       "    </tr>\n",
       "    <tr>\n",
       "      <th>5727</th>\n",
       "      <td>ECLI:NL:RBLIM:2018:3094</td>\n",
       "      <td>hasjiesj</td>\n",
       "      <td>[ Belgium]</td>\n",
       "    </tr>\n",
       "  </tbody>\n",
       "</table>\n",
       "<p>5728 rows × 3 columns</p>\n",
       "</div>"
      ],
      "text/plain": [
       "                          ecli      drug  \\\n",
       "0      ECLI:NL:RBZWB:2020:2646       bmk   \n",
       "1      ECLI:NL:RBAMS:2019:4296   heroïne   \n",
       "2      ECLI:NL:RBAMS:2019:4296   cocaïne   \n",
       "3      ECLI:NL:RBDHA:2019:9384     drugs   \n",
       "4      ECLI:NL:GHAMS:2018:2662   cocaïne   \n",
       "...                        ...       ...   \n",
       "5723  ECLI:NL:RBNHO:2013:10924   cocaïne   \n",
       "5724   ECLI:NL:GHSHE:2021:3205   cocaïne   \n",
       "5725   ECLI:NL:GHSHE:2021:3205  hasjiesj   \n",
       "5726   ECLI:NL:RBLIM:2018:3094   cocaïne   \n",
       "5727   ECLI:NL:RBLIM:2018:3094  hasjiesj   \n",
       "\n",
       "                                     relevant_countries  \n",
       "0                             [ Spain,  United Kingdom]  \n",
       "1                     [ Netherlands, Netherlands, Peru]  \n",
       "2                     [ Netherlands, Netherlands, Peru]  \n",
       "3                                             [Belgium]  \n",
       "4                                           [Argentina]  \n",
       "...                                                 ...  \n",
       "5723                            [South America,  Nepal]  \n",
       "5724  [ Netherlands, Belgium, Dominican Republic,  B...  \n",
       "5725                                         [ Belgium]  \n",
       "5726  [Netherlands, Dominican Republic, Belgium,  Ne...  \n",
       "5727                                         [ Belgium]  \n",
       "\n",
       "[5728 rows x 3 columns]"
      ]
     },
     "execution_count": 207,
     "metadata": {},
     "output_type": "execute_result"
    }
   ],
   "source": [
    "final_df = pd.DataFrame(columns=['ecli', 'drug', 'relevant_countries'])    \n",
    "\n",
    "    \n",
    "                            \n",
    "for index, row in trafficking_df.iterrows():\n",
    "    id = row['ecli']\n",
    "#     print(id)\n",
    "    \n",
    "    fused_chunks = fuse_chunks(row['chunks'])\n",
    "    fused_locations = fuse_locations(fused_chunks)\n",
    "    fused_volumes = fuse_volumes(fused_locations)\n",
    "    translated_locations = translate_locations(fused_volumes)\n",
    "#     location_directions = get_location_directions(translated_locations)\n",
    "    \n",
    "#     print(location_directions)\n",
    "    if translated_locations is not None:\n",
    "        for drug in translated_locations:\n",
    "            relevant_countries = []\n",
    "            \n",
    "            curr = translated_locations[drug]\n",
    "            for adjective in curr['locations']:\n",
    "                locs = curr['locations'][adjective]\n",
    "                for loc in locs:\n",
    "                    if loc not in relevant_countries:\n",
    "                        relevant_countries.append(loc)\n",
    "            \n",
    "            \n",
    "            row = {'ecli': id, 'drug': drug, 'relevant_countries': relevant_countries}\n",
    "            final_df = final_df.append(row, ignore_index=True)\n",
    "        \n",
    "final_df"
   ]
  },
  {
   "cell_type": "code",
   "execution_count": null,
   "id": "24c6f51d",
   "metadata": {},
   "outputs": [],
   "source": [
    "dict_file = open(\"country_translation_dict.pkl\", \"wb\")\n",
    "pickle.dump(country_translation_dict, dict_file)\n",
    "dict_file.close()\n",
    "\n",
    "exclude_list_file = open(\"countries_to_exclude.pkl\", \"wb\")\n",
    "pickle.dump(countries_to_exclude, exclude_list_file)\n",
    "exclude_list_file.close()"
   ]
  },
  {
   "cell_type": "code",
   "execution_count": null,
   "id": "a75abf84",
   "metadata": {},
   "outputs": [],
   "source": []
  },
  {
   "cell_type": "code",
   "execution_count": null,
   "id": "d31126bf",
   "metadata": {},
   "outputs": [],
   "source": [
    "final_df_filtered = pd.DataFrame(columns=[\"ecli\", \"drug\", \"relevant_countries\"])\n",
    "\n",
    "for index, row in final_df.iterrows():\n",
    "    if any(loc != \"Netherlands\" for loc in row['relevant_countries']):\n",
    "        final_df_filtered = final_df_filtered.append(row)\n",
    "        "
   ]
  },
  {
   "cell_type": "code",
   "execution_count": 229,
   "id": "7c5771e8",
   "metadata": {},
   "outputs": [],
   "source": [
    "date_list = []\n",
    "for index, row in final_df_filtered.iterrows():\n",
    "    ecli = row['ecli']\n",
    "    case = merged_df[merged_df['id'] == ecli.replace(':', '-')]\n",
    "    date = case['verdict_date'].iloc[0]\n",
    "    date_list.append(date)\n",
    "    \n",
    "final_df_filtered['verdict_date'] = date_list"
   ]
  },
  {
   "cell_type": "code",
   "execution_count": 231,
   "id": "8b692760",
   "metadata": {},
   "outputs": [
    {
     "name": "stdout",
     "output_type": "stream",
     "text": [
      "{'bmk': 65, 'heroïne': 308, 'cocaïne': 1110, 'drugs': 1233, 'hennep': 334, 'hasjiesj': 123, 'diacetylmorfine': 18, 'cocaine': 69, 'hash': 41, 'hasj': 122, 'mdma': 259, '4-fa': 3, 'fentanyl': 3, 'amfetamine': 279, 'wiet': 54, 'olie': 27, 'xtc-pillen': 95, 'harddrugs': 246, 'heroine': 19, 'cocaïnetransport': 31, 'methanol': 19, 'aceton': 31, 'tenamfetamine': 29, 'xtc-tabletten': 26, 'speed': 61, 'methamfetamine': 34, 'marihuana': 67, 'tabletten': 38, 'pmk': 33, '2c-b': 9, 'metamfetamine': 27, 'isosafrol': 1, 'kristallen': 14, 'cocaïnetransporten': 44, 'pillen': 124, 'xtc': 119, 'cafeïne': 13, 'apaan': 48, '34-methyleendioxymethamfetamine': 11, 'pep': 11, 'crystal': 15, 'pil': 8, 'lsd': 27, 'cannabis': 55, 'meth': 12, 'benzylmethylketon': 27, 'piperonylmethylketon': 7, 'formamide': 28, 'coke': 31, 'coffeïne': 4, 'paracetamol': 11, 'mdea': 37, 'weed': 45, 'mierenzuur': 16, 'hashish': 48, 'ketamine': 13, 'diamorfine': 8, 'ghb': 21, 'opium': 2, 'mdma-pillen': 6, 'diazepam': 3, 'temazepam': 1, 'methadon': 4, 'amfetamineolie': 7, 'amfetaminebase': 12, 'ecstasy': 9, 'mdma-poeder': 3, 'gbl': 8, 'amfetamine-olie': 1, 'n-formylamfetamine': 6, 'mapa': 7, 'amfetaminepasta': 5, 'amfetaminen': 3, 'crack': 2, 'fenacetine': 8, 'psilocine': 1, 'xtc/mdma': 6, 'mdma/xtc': 6, 'mdma-kristallen': 1, 'morfine': 8, 'piperonal': 1, 'psilocybine': 1, 'oxycodon': 2}\n"
     ]
    }
   ],
   "source": [
    "drug_dict = {}\n",
    "for index, row in final_df_filtered.iterrows():\n",
    "    drug = row['drug']\n",
    "    if drug not in drug_dict:\n",
    "        drug_dict[drug] = 0\n",
    "    drug_dict[drug] = drug_dict[drug] + 1\n",
    "    \n",
    "print(drug_dict)"
   ]
  },
  {
   "cell_type": "code",
   "execution_count": null,
   "id": "4205e73d",
   "metadata": {},
   "outputs": [],
   "source": []
  },
  {
   "cell_type": "code",
   "execution_count": null,
   "id": "0769f9c4",
   "metadata": {},
   "outputs": [],
   "source": []
  },
  {
   "cell_type": "markdown",
   "id": "b6fc4026",
   "metadata": {},
   "source": [
    "## Visualizations"
   ]
  },
  {
   "cell_type": "code",
   "execution_count": 174,
   "id": "1214324e",
   "metadata": {},
   "outputs": [
    {
     "name": "stdout",
     "output_type": "stream",
     "text": [
      "{'Spain': [539], 'United Kingdom': [1008], 'Peru': [83], 'Belgium': [1792], 'Argentina': [78], 'Colombia': [188], 'Norway': [194], 'Jamaica': [5], 'Morocco': [251], 'Egypt': [13], 'Germany': [1484], 'France': [873], 'Suriname': [209], 'Ecuador': [112], 'South America': [232], 'United States': [460], 'Europe': [160], 'South Africa': [55], 'Uzbekistan': [4], 'Croatia': [18], 'Saudi Arabia': [7], 'Sweden': [210], 'Dominican Republic': [108], 'Turkey': [179], 'Russia': [40], 'Greece': [46], 'Kazakhstan': [2], 'Panama': [60], 'Brazil': [160], 'Portugal': [106], 'Kenya': [28], 'Italy': [336], 'Paraguay': [15], 'Somalia': [2], 'Nigeria': [17], 'Congo-Brazzaville': [2], 'Poland': [230], 'Czechia': [57], 'Afghanistan': [8], 'China': [94], 'Haiti': [14], 'Japan': [42], 'Finland': [73], 'Myanmar': [1], 'Denmark': [116], 'Belarus': [8], 'Nepal': [3], 'Philippines': [31], 'Bosnia and Herzegovina': [7], 'Dominica': [1], 'Lithuania': [14], 'Albania': [8], 'Greenland': [1], 'South Korea': [18], 'Romania': [48], 'Luxembourg': [53], 'India': [114], 'Israel': [17], 'Democratic Republic of the Congo': [22], 'Iran': [26], 'Mexico': [46], 'Australia': [147], 'Laos': [2], 'Pakistan': [67], 'Asia': [15], 'Austria': [118], 'Venezuela': [94], 'Kosovo': [6], 'Canada': [57], 'Switzerland': [90], 'Hungary': [15], 'Thailand': [29], 'The Gambia': [4], 'Chile': [38], 'Trinidad and Tobago': [14], 'Singapore': [2], 'Slovenia': [14], 'Palestinian Territory': [1], 'Iceland': [4], 'Ghana': [14], 'Ethiopia': [18], 'Algeria': [15], 'Guatemala': [4], 'Anchorage': [20], 'Bolivia': [4], 'Namibia': [3], 'Ireland': [59], 'Slovakia': [11], 'Indonesia': [14], 'Yemen': [6], 'Africa': [16], 'North Atlantic Ocean': [3], 'Liberia': [12], 'Isle of Man': [4], 'Mongolia': [1], 'Serbia': [18], 'Malaysia': [24], \"Côte d'Ivoire\": [5], 'Maldives': [3], 'Malta': [15], 'Oman': [4], 'Tonga': [1], 'Cameroon': [15], 'Bulgaria': [6], 'Armenia': [1], 'Tunisia': [1], 'Honduras': [6], 'United Arab Emirates': [12], 'Uruguay': [3], 'Cyprus': [7], 'Libya': [4], 'Ukraine': [11], 'Latvia': [4], 'Estonia': [7], 'New Zealand': [6], 'The Bahamas': [5], 'Vietnam': [1], 'Guinea': [3], 'Burkina Faso': [4], 'Zimbabwe': [3], 'Saint Vincent and the Grenadines': [3], 'North Macedonia': [2], 'Guyana': [4], 'Cape Verde': [1], 'Sudan': [4], 'Kyrgyzstan': [3], 'Bangladesh': [1], 'British Virgin Islands': [1], 'Angola': [1], 'Antigua and Barbuda': [2], 'Belize': [1], 'Qatar': [2], 'Taiwan': [3], 'Liechtenstein': [1], 'Chad': [2], 'Uganda': [2], 'Tanzania': [1], 'Madagascar': [3], 'North Korea': [1], 'Senegal': [1], 'Malawi': [1], 'Rwanda': [1], 'Syria': [1], 'Benin': [1], 'Mozambique': [2], 'Jersey': [1]}\n"
     ]
    }
   ],
   "source": [
    "vectorcounts = {}\n",
    "\n",
    "for index, row in final_df_filtered.iterrows():\n",
    "    locs = row['relevant_countries']\n",
    "    for loc in locs:\n",
    "        loc = loc.strip()\n",
    "        if loc != \"Netherlands\":\n",
    "            if loc not in vectorcounts:\n",
    "                vectorcounts[loc] = [0]\n",
    "            vectorcounts[loc][0] = vectorcounts[loc][0] + 1\n",
    "            \n",
    "print(vectorcounts)"
   ]
  },
  {
   "cell_type": "code",
   "execution_count": 181,
   "id": "cd284636",
   "metadata": {},
   "outputs": [
    {
     "data": {
      "application/vnd.plotly.v1+json": {
       "config": {
        "plotlyServerURL": "https://plot.ly"
       },
       "data": [
        {
         "coloraxis": "coloraxis",
         "geo": "geo",
         "hovertemplate": "<b>%{hovertext}</b><br><br>iso_alpha=%{location}<br>count=%{z}<extra></extra>",
         "hovertext": [
          "Afghanistan",
          "Albania",
          "Algeria",
          "Angola",
          "Argentina",
          "Australia",
          "Austria",
          "Bahrain",
          "Bangladesh",
          "Belgium",
          "Benin",
          "Bolivia",
          "Bosnia and Herzegovina",
          "Botswana",
          "Brazil",
          "Bulgaria",
          "Burkina Faso",
          "Burundi",
          "Cambodia",
          "Cameroon",
          "Canada",
          "Central African Republic",
          "Chad",
          "Chile",
          "China",
          "Colombia",
          "Comoros",
          "Congo, Dem. Rep.",
          "Congo, Rep.",
          "Costa Rica",
          "Cote d'Ivoire",
          "Croatia",
          "Cuba",
          "Czech Republic",
          "Denmark",
          "Djibouti",
          "Dominican Republic",
          "Ecuador",
          "Egypt",
          "El Salvador",
          "Equatorial Guinea",
          "Eritrea",
          "Ethiopia",
          "Finland",
          "France",
          "Gabon",
          "Gambia",
          "Germany",
          "Ghana",
          "Greece",
          "Guatemala",
          "Guinea",
          "Guinea-Bissau",
          "Haiti",
          "Honduras",
          "Hong Kong, China",
          "Hungary",
          "Iceland",
          "India",
          "Indonesia",
          "Iran",
          "Iraq",
          "Ireland",
          "Israel",
          "Italy",
          "Jamaica",
          "Japan",
          "Jordan",
          "Kenya",
          "Korea, Dem. Rep.",
          "Korea, Rep.",
          "Kuwait",
          "Lebanon",
          "Lesotho",
          "Liberia",
          "Libya",
          "Madagascar",
          "Malawi",
          "Malaysia",
          "Mali",
          "Mauritania",
          "Mauritius",
          "Mexico",
          "Mongolia",
          "Montenegro",
          "Morocco",
          "Mozambique",
          "Myanmar",
          "Namibia",
          "Nepal",
          "Netherlands",
          "New Zealand",
          "Nicaragua",
          "Niger",
          "Nigeria",
          "Norway",
          "Oman",
          "Pakistan",
          "Panama",
          "Paraguay",
          "Peru",
          "Philippines",
          "Poland",
          "Portugal",
          "Puerto Rico",
          "Reunion",
          "Romania",
          "Rwanda",
          "Sao Tome and Principe",
          "Saudi Arabia",
          "Senegal",
          "Serbia",
          "Sierra Leone",
          "Singapore",
          "Slovak Republic",
          "Slovenia",
          "Somalia",
          "South Africa",
          "Spain",
          "Sri Lanka",
          "Sudan",
          "Swaziland",
          "Sweden",
          "Switzerland",
          "Syria",
          "Taiwan",
          "Tanzania",
          "Thailand",
          "Togo",
          "Trinidad and Tobago",
          "Tunisia",
          "Turkey",
          "Uganda",
          "United Kingdom",
          "United States",
          "Uruguay",
          "Venezuela",
          "Vietnam",
          "West Bank and Gaza",
          "Yemen, Rep.",
          "Zambia",
          "Zimbabwe"
         ],
         "locations": [
          "AFG",
          "ALB",
          "DZA",
          "AGO",
          "ARG",
          "AUS",
          "AUT",
          "BHR",
          "BGD",
          "BEL",
          "BEN",
          "BOL",
          "BIH",
          "BWA",
          "BRA",
          "BGR",
          "BFA",
          "BDI",
          "KHM",
          "CMR",
          "CAN",
          "CAF",
          "TCD",
          "CHL",
          "CHN",
          "COL",
          "COM",
          "COD",
          "COG",
          "CRI",
          "CIV",
          "HRV",
          "CUB",
          "CZE",
          "DNK",
          "DJI",
          "DOM",
          "ECU",
          "EGY",
          "SLV",
          "GNQ",
          "ERI",
          "ETH",
          "FIN",
          "FRA",
          "GAB",
          "GMB",
          "DEU",
          "GHA",
          "GRC",
          "GTM",
          "GIN",
          "GNB",
          "HTI",
          "HND",
          "HKG",
          "HUN",
          "ISL",
          "IND",
          "IDN",
          "IRN",
          "IRQ",
          "IRL",
          "ISR",
          "ITA",
          "JAM",
          "JPN",
          "JOR",
          "KEN",
          "KOR",
          "KOR",
          "KWT",
          "LBN",
          "LSO",
          "LBR",
          "LBY",
          "MDG",
          "MWI",
          "MYS",
          "MLI",
          "MRT",
          "MUS",
          "MEX",
          "MNG",
          "MNE",
          "MAR",
          "MOZ",
          "MMR",
          "NAM",
          "NPL",
          "NLD",
          "NZL",
          "NIC",
          "NER",
          "NGA",
          "NOR",
          "OMN",
          "PAK",
          "PAN",
          "PRY",
          "PER",
          "PHL",
          "POL",
          "PRT",
          "PRI",
          "REU",
          "ROU",
          "RWA",
          "STP",
          "SAU",
          "SEN",
          "SRB",
          "SLE",
          "SGP",
          "SVK",
          "SVN",
          "SOM",
          "ZAF",
          "ESP",
          "LKA",
          "SDN",
          "SWZ",
          "SWE",
          "CHE",
          "SYR",
          "TWN",
          "TZA",
          "THA",
          "TGO",
          "TTO",
          "TUN",
          "TUR",
          "UGA",
          "GBR",
          "USA",
          "URY",
          "VEN",
          "VNM",
          "PSE",
          "YEM",
          "ZMB",
          "ZWE"
         ],
         "name": "",
         "type": "choropleth",
         "z": [
          8,
          8,
          15,
          1,
          78,
          147,
          118,
          null,
          1,
          1792,
          1,
          4,
          7,
          null,
          160,
          6,
          4,
          null,
          null,
          15,
          57,
          null,
          2,
          38,
          94,
          188,
          null,
          null,
          null,
          null,
          null,
          18,
          null,
          null,
          116,
          null,
          108,
          112,
          13,
          null,
          null,
          null,
          18,
          73,
          873,
          null,
          null,
          1484,
          14,
          46,
          4,
          3,
          null,
          14,
          6,
          null,
          15,
          4,
          114,
          14,
          26,
          null,
          59,
          17,
          336,
          5,
          42,
          null,
          28,
          null,
          null,
          null,
          null,
          null,
          12,
          4,
          3,
          1,
          24,
          null,
          null,
          null,
          46,
          1,
          null,
          251,
          2,
          1,
          3,
          3,
          null,
          6,
          null,
          null,
          17,
          194,
          4,
          67,
          60,
          15,
          83,
          31,
          230,
          106,
          null,
          null,
          48,
          1,
          null,
          7,
          1,
          18,
          null,
          2,
          null,
          14,
          2,
          55,
          539,
          null,
          4,
          null,
          210,
          90,
          1,
          3,
          1,
          29,
          null,
          14,
          1,
          179,
          2,
          1008,
          460,
          3,
          94,
          1,
          null,
          null,
          null,
          3
         ]
        }
       ],
       "layout": {
        "coloraxis": {
         "colorbar": {
          "title": {
           "text": "count"
          }
         },
         "colorscale": [
          [
           0,
           "#0d0887"
          ],
          [
           0.1111111111111111,
           "#46039f"
          ],
          [
           0.2222222222222222,
           "#7201a8"
          ],
          [
           0.3333333333333333,
           "#9c179e"
          ],
          [
           0.4444444444444444,
           "#bd3786"
          ],
          [
           0.5555555555555556,
           "#d8576b"
          ],
          [
           0.6666666666666666,
           "#ed7953"
          ],
          [
           0.7777777777777778,
           "#fb9f3a"
          ],
          [
           0.8888888888888888,
           "#fdca26"
          ],
          [
           1,
           "#f0f921"
          ]
         ]
        },
        "geo": {
         "center": {},
         "domain": {
          "x": [
           0,
           1
          ],
          "y": [
           0,
           1
          ]
         }
        },
        "legend": {
         "tracegroupgap": 0
        },
        "margin": {
         "t": 60
        },
        "template": {
         "data": {
          "bar": [
           {
            "error_x": {
             "color": "#2a3f5f"
            },
            "error_y": {
             "color": "#2a3f5f"
            },
            "marker": {
             "line": {
              "color": "#E5ECF6",
              "width": 0.5
             },
             "pattern": {
              "fillmode": "overlay",
              "size": 10,
              "solidity": 0.2
             }
            },
            "type": "bar"
           }
          ],
          "barpolar": [
           {
            "marker": {
             "line": {
              "color": "#E5ECF6",
              "width": 0.5
             },
             "pattern": {
              "fillmode": "overlay",
              "size": 10,
              "solidity": 0.2
             }
            },
            "type": "barpolar"
           }
          ],
          "carpet": [
           {
            "aaxis": {
             "endlinecolor": "#2a3f5f",
             "gridcolor": "white",
             "linecolor": "white",
             "minorgridcolor": "white",
             "startlinecolor": "#2a3f5f"
            },
            "baxis": {
             "endlinecolor": "#2a3f5f",
             "gridcolor": "white",
             "linecolor": "white",
             "minorgridcolor": "white",
             "startlinecolor": "#2a3f5f"
            },
            "type": "carpet"
           }
          ],
          "choropleth": [
           {
            "colorbar": {
             "outlinewidth": 0,
             "ticks": ""
            },
            "type": "choropleth"
           }
          ],
          "contour": [
           {
            "colorbar": {
             "outlinewidth": 0,
             "ticks": ""
            },
            "colorscale": [
             [
              0,
              "#0d0887"
             ],
             [
              0.1111111111111111,
              "#46039f"
             ],
             [
              0.2222222222222222,
              "#7201a8"
             ],
             [
              0.3333333333333333,
              "#9c179e"
             ],
             [
              0.4444444444444444,
              "#bd3786"
             ],
             [
              0.5555555555555556,
              "#d8576b"
             ],
             [
              0.6666666666666666,
              "#ed7953"
             ],
             [
              0.7777777777777778,
              "#fb9f3a"
             ],
             [
              0.8888888888888888,
              "#fdca26"
             ],
             [
              1,
              "#f0f921"
             ]
            ],
            "type": "contour"
           }
          ],
          "contourcarpet": [
           {
            "colorbar": {
             "outlinewidth": 0,
             "ticks": ""
            },
            "type": "contourcarpet"
           }
          ],
          "heatmap": [
           {
            "colorbar": {
             "outlinewidth": 0,
             "ticks": ""
            },
            "colorscale": [
             [
              0,
              "#0d0887"
             ],
             [
              0.1111111111111111,
              "#46039f"
             ],
             [
              0.2222222222222222,
              "#7201a8"
             ],
             [
              0.3333333333333333,
              "#9c179e"
             ],
             [
              0.4444444444444444,
              "#bd3786"
             ],
             [
              0.5555555555555556,
              "#d8576b"
             ],
             [
              0.6666666666666666,
              "#ed7953"
             ],
             [
              0.7777777777777778,
              "#fb9f3a"
             ],
             [
              0.8888888888888888,
              "#fdca26"
             ],
             [
              1,
              "#f0f921"
             ]
            ],
            "type": "heatmap"
           }
          ],
          "heatmapgl": [
           {
            "colorbar": {
             "outlinewidth": 0,
             "ticks": ""
            },
            "colorscale": [
             [
              0,
              "#0d0887"
             ],
             [
              0.1111111111111111,
              "#46039f"
             ],
             [
              0.2222222222222222,
              "#7201a8"
             ],
             [
              0.3333333333333333,
              "#9c179e"
             ],
             [
              0.4444444444444444,
              "#bd3786"
             ],
             [
              0.5555555555555556,
              "#d8576b"
             ],
             [
              0.6666666666666666,
              "#ed7953"
             ],
             [
              0.7777777777777778,
              "#fb9f3a"
             ],
             [
              0.8888888888888888,
              "#fdca26"
             ],
             [
              1,
              "#f0f921"
             ]
            ],
            "type": "heatmapgl"
           }
          ],
          "histogram": [
           {
            "marker": {
             "pattern": {
              "fillmode": "overlay",
              "size": 10,
              "solidity": 0.2
             }
            },
            "type": "histogram"
           }
          ],
          "histogram2d": [
           {
            "colorbar": {
             "outlinewidth": 0,
             "ticks": ""
            },
            "colorscale": [
             [
              0,
              "#0d0887"
             ],
             [
              0.1111111111111111,
              "#46039f"
             ],
             [
              0.2222222222222222,
              "#7201a8"
             ],
             [
              0.3333333333333333,
              "#9c179e"
             ],
             [
              0.4444444444444444,
              "#bd3786"
             ],
             [
              0.5555555555555556,
              "#d8576b"
             ],
             [
              0.6666666666666666,
              "#ed7953"
             ],
             [
              0.7777777777777778,
              "#fb9f3a"
             ],
             [
              0.8888888888888888,
              "#fdca26"
             ],
             [
              1,
              "#f0f921"
             ]
            ],
            "type": "histogram2d"
           }
          ],
          "histogram2dcontour": [
           {
            "colorbar": {
             "outlinewidth": 0,
             "ticks": ""
            },
            "colorscale": [
             [
              0,
              "#0d0887"
             ],
             [
              0.1111111111111111,
              "#46039f"
             ],
             [
              0.2222222222222222,
              "#7201a8"
             ],
             [
              0.3333333333333333,
              "#9c179e"
             ],
             [
              0.4444444444444444,
              "#bd3786"
             ],
             [
              0.5555555555555556,
              "#d8576b"
             ],
             [
              0.6666666666666666,
              "#ed7953"
             ],
             [
              0.7777777777777778,
              "#fb9f3a"
             ],
             [
              0.8888888888888888,
              "#fdca26"
             ],
             [
              1,
              "#f0f921"
             ]
            ],
            "type": "histogram2dcontour"
           }
          ],
          "mesh3d": [
           {
            "colorbar": {
             "outlinewidth": 0,
             "ticks": ""
            },
            "type": "mesh3d"
           }
          ],
          "parcoords": [
           {
            "line": {
             "colorbar": {
              "outlinewidth": 0,
              "ticks": ""
             }
            },
            "type": "parcoords"
           }
          ],
          "pie": [
           {
            "automargin": true,
            "type": "pie"
           }
          ],
          "scatter": [
           {
            "marker": {
             "colorbar": {
              "outlinewidth": 0,
              "ticks": ""
             }
            },
            "type": "scatter"
           }
          ],
          "scatter3d": [
           {
            "line": {
             "colorbar": {
              "outlinewidth": 0,
              "ticks": ""
             }
            },
            "marker": {
             "colorbar": {
              "outlinewidth": 0,
              "ticks": ""
             }
            },
            "type": "scatter3d"
           }
          ],
          "scattercarpet": [
           {
            "marker": {
             "colorbar": {
              "outlinewidth": 0,
              "ticks": ""
             }
            },
            "type": "scattercarpet"
           }
          ],
          "scattergeo": [
           {
            "marker": {
             "colorbar": {
              "outlinewidth": 0,
              "ticks": ""
             }
            },
            "type": "scattergeo"
           }
          ],
          "scattergl": [
           {
            "marker": {
             "colorbar": {
              "outlinewidth": 0,
              "ticks": ""
             }
            },
            "type": "scattergl"
           }
          ],
          "scattermapbox": [
           {
            "marker": {
             "colorbar": {
              "outlinewidth": 0,
              "ticks": ""
             }
            },
            "type": "scattermapbox"
           }
          ],
          "scatterpolar": [
           {
            "marker": {
             "colorbar": {
              "outlinewidth": 0,
              "ticks": ""
             }
            },
            "type": "scatterpolar"
           }
          ],
          "scatterpolargl": [
           {
            "marker": {
             "colorbar": {
              "outlinewidth": 0,
              "ticks": ""
             }
            },
            "type": "scatterpolargl"
           }
          ],
          "scatterternary": [
           {
            "marker": {
             "colorbar": {
              "outlinewidth": 0,
              "ticks": ""
             }
            },
            "type": "scatterternary"
           }
          ],
          "surface": [
           {
            "colorbar": {
             "outlinewidth": 0,
             "ticks": ""
            },
            "colorscale": [
             [
              0,
              "#0d0887"
             ],
             [
              0.1111111111111111,
              "#46039f"
             ],
             [
              0.2222222222222222,
              "#7201a8"
             ],
             [
              0.3333333333333333,
              "#9c179e"
             ],
             [
              0.4444444444444444,
              "#bd3786"
             ],
             [
              0.5555555555555556,
              "#d8576b"
             ],
             [
              0.6666666666666666,
              "#ed7953"
             ],
             [
              0.7777777777777778,
              "#fb9f3a"
             ],
             [
              0.8888888888888888,
              "#fdca26"
             ],
             [
              1,
              "#f0f921"
             ]
            ],
            "type": "surface"
           }
          ],
          "table": [
           {
            "cells": {
             "fill": {
              "color": "#EBF0F8"
             },
             "line": {
              "color": "white"
             }
            },
            "header": {
             "fill": {
              "color": "#C8D4E3"
             },
             "line": {
              "color": "white"
             }
            },
            "type": "table"
           }
          ]
         },
         "layout": {
          "annotationdefaults": {
           "arrowcolor": "#2a3f5f",
           "arrowhead": 0,
           "arrowwidth": 1
          },
          "autotypenumbers": "strict",
          "coloraxis": {
           "colorbar": {
            "outlinewidth": 0,
            "ticks": ""
           }
          },
          "colorscale": {
           "diverging": [
            [
             0,
             "#8e0152"
            ],
            [
             0.1,
             "#c51b7d"
            ],
            [
             0.2,
             "#de77ae"
            ],
            [
             0.3,
             "#f1b6da"
            ],
            [
             0.4,
             "#fde0ef"
            ],
            [
             0.5,
             "#f7f7f7"
            ],
            [
             0.6,
             "#e6f5d0"
            ],
            [
             0.7,
             "#b8e186"
            ],
            [
             0.8,
             "#7fbc41"
            ],
            [
             0.9,
             "#4d9221"
            ],
            [
             1,
             "#276419"
            ]
           ],
           "sequential": [
            [
             0,
             "#0d0887"
            ],
            [
             0.1111111111111111,
             "#46039f"
            ],
            [
             0.2222222222222222,
             "#7201a8"
            ],
            [
             0.3333333333333333,
             "#9c179e"
            ],
            [
             0.4444444444444444,
             "#bd3786"
            ],
            [
             0.5555555555555556,
             "#d8576b"
            ],
            [
             0.6666666666666666,
             "#ed7953"
            ],
            [
             0.7777777777777778,
             "#fb9f3a"
            ],
            [
             0.8888888888888888,
             "#fdca26"
            ],
            [
             1,
             "#f0f921"
            ]
           ],
           "sequentialminus": [
            [
             0,
             "#0d0887"
            ],
            [
             0.1111111111111111,
             "#46039f"
            ],
            [
             0.2222222222222222,
             "#7201a8"
            ],
            [
             0.3333333333333333,
             "#9c179e"
            ],
            [
             0.4444444444444444,
             "#bd3786"
            ],
            [
             0.5555555555555556,
             "#d8576b"
            ],
            [
             0.6666666666666666,
             "#ed7953"
            ],
            [
             0.7777777777777778,
             "#fb9f3a"
            ],
            [
             0.8888888888888888,
             "#fdca26"
            ],
            [
             1,
             "#f0f921"
            ]
           ]
          },
          "colorway": [
           "#636efa",
           "#EF553B",
           "#00cc96",
           "#ab63fa",
           "#FFA15A",
           "#19d3f3",
           "#FF6692",
           "#B6E880",
           "#FF97FF",
           "#FECB52"
          ],
          "font": {
           "color": "#2a3f5f"
          },
          "geo": {
           "bgcolor": "white",
           "lakecolor": "white",
           "landcolor": "#E5ECF6",
           "showlakes": true,
           "showland": true,
           "subunitcolor": "white"
          },
          "hoverlabel": {
           "align": "left"
          },
          "hovermode": "closest",
          "mapbox": {
           "style": "light"
          },
          "paper_bgcolor": "white",
          "plot_bgcolor": "#E5ECF6",
          "polar": {
           "angularaxis": {
            "gridcolor": "white",
            "linecolor": "white",
            "ticks": ""
           },
           "bgcolor": "#E5ECF6",
           "radialaxis": {
            "gridcolor": "white",
            "linecolor": "white",
            "ticks": ""
           }
          },
          "scene": {
           "xaxis": {
            "backgroundcolor": "#E5ECF6",
            "gridcolor": "white",
            "gridwidth": 2,
            "linecolor": "white",
            "showbackground": true,
            "ticks": "",
            "zerolinecolor": "white"
           },
           "yaxis": {
            "backgroundcolor": "#E5ECF6",
            "gridcolor": "white",
            "gridwidth": 2,
            "linecolor": "white",
            "showbackground": true,
            "ticks": "",
            "zerolinecolor": "white"
           },
           "zaxis": {
            "backgroundcolor": "#E5ECF6",
            "gridcolor": "white",
            "gridwidth": 2,
            "linecolor": "white",
            "showbackground": true,
            "ticks": "",
            "zerolinecolor": "white"
           }
          },
          "shapedefaults": {
           "line": {
            "color": "#2a3f5f"
           }
          },
          "ternary": {
           "aaxis": {
            "gridcolor": "white",
            "linecolor": "white",
            "ticks": ""
           },
           "baxis": {
            "gridcolor": "white",
            "linecolor": "white",
            "ticks": ""
           },
           "bgcolor": "#E5ECF6",
           "caxis": {
            "gridcolor": "white",
            "linecolor": "white",
            "ticks": ""
           }
          },
          "title": {
           "x": 0.05
          },
          "xaxis": {
           "automargin": true,
           "gridcolor": "white",
           "linecolor": "white",
           "ticks": "",
           "title": {
            "standoff": 15
           },
           "zerolinecolor": "white",
           "zerolinewidth": 2
          },
          "yaxis": {
           "automargin": true,
           "gridcolor": "white",
           "linecolor": "white",
           "ticks": "",
           "title": {
            "standoff": 15
           },
           "zerolinecolor": "white",
           "zerolinewidth": 2
          }
         }
        }
       }
      },
      "text/html": [
       "<div>                            <div id=\"aa9fb38d-f5a7-427b-949e-e7e889fb7e67\" class=\"plotly-graph-div\" style=\"height:525px; width:100%;\"></div>            <script type=\"text/javascript\">                require([\"plotly\"], function(Plotly) {                    window.PLOTLYENV=window.PLOTLYENV || {};                                    if (document.getElementById(\"aa9fb38d-f5a7-427b-949e-e7e889fb7e67\")) {                    Plotly.newPlot(                        \"aa9fb38d-f5a7-427b-949e-e7e889fb7e67\",                        [{\"coloraxis\":\"coloraxis\",\"geo\":\"geo\",\"hovertemplate\":\"<b>%{hovertext}</b><br><br>iso_alpha=%{location}<br>count=%{z}<extra></extra>\",\"hovertext\":[\"Afghanistan\",\"Albania\",\"Algeria\",\"Angola\",\"Argentina\",\"Australia\",\"Austria\",\"Bahrain\",\"Bangladesh\",\"Belgium\",\"Benin\",\"Bolivia\",\"Bosnia and Herzegovina\",\"Botswana\",\"Brazil\",\"Bulgaria\",\"Burkina Faso\",\"Burundi\",\"Cambodia\",\"Cameroon\",\"Canada\",\"Central African Republic\",\"Chad\",\"Chile\",\"China\",\"Colombia\",\"Comoros\",\"Congo, Dem. Rep.\",\"Congo, Rep.\",\"Costa Rica\",\"Cote d'Ivoire\",\"Croatia\",\"Cuba\",\"Czech Republic\",\"Denmark\",\"Djibouti\",\"Dominican Republic\",\"Ecuador\",\"Egypt\",\"El Salvador\",\"Equatorial Guinea\",\"Eritrea\",\"Ethiopia\",\"Finland\",\"France\",\"Gabon\",\"Gambia\",\"Germany\",\"Ghana\",\"Greece\",\"Guatemala\",\"Guinea\",\"Guinea-Bissau\",\"Haiti\",\"Honduras\",\"Hong Kong, China\",\"Hungary\",\"Iceland\",\"India\",\"Indonesia\",\"Iran\",\"Iraq\",\"Ireland\",\"Israel\",\"Italy\",\"Jamaica\",\"Japan\",\"Jordan\",\"Kenya\",\"Korea, Dem. Rep.\",\"Korea, Rep.\",\"Kuwait\",\"Lebanon\",\"Lesotho\",\"Liberia\",\"Libya\",\"Madagascar\",\"Malawi\",\"Malaysia\",\"Mali\",\"Mauritania\",\"Mauritius\",\"Mexico\",\"Mongolia\",\"Montenegro\",\"Morocco\",\"Mozambique\",\"Myanmar\",\"Namibia\",\"Nepal\",\"Netherlands\",\"New Zealand\",\"Nicaragua\",\"Niger\",\"Nigeria\",\"Norway\",\"Oman\",\"Pakistan\",\"Panama\",\"Paraguay\",\"Peru\",\"Philippines\",\"Poland\",\"Portugal\",\"Puerto Rico\",\"Reunion\",\"Romania\",\"Rwanda\",\"Sao Tome and Principe\",\"Saudi Arabia\",\"Senegal\",\"Serbia\",\"Sierra Leone\",\"Singapore\",\"Slovak Republic\",\"Slovenia\",\"Somalia\",\"South Africa\",\"Spain\",\"Sri Lanka\",\"Sudan\",\"Swaziland\",\"Sweden\",\"Switzerland\",\"Syria\",\"Taiwan\",\"Tanzania\",\"Thailand\",\"Togo\",\"Trinidad and Tobago\",\"Tunisia\",\"Turkey\",\"Uganda\",\"United Kingdom\",\"United States\",\"Uruguay\",\"Venezuela\",\"Vietnam\",\"West Bank and Gaza\",\"Yemen, Rep.\",\"Zambia\",\"Zimbabwe\"],\"locations\":[\"AFG\",\"ALB\",\"DZA\",\"AGO\",\"ARG\",\"AUS\",\"AUT\",\"BHR\",\"BGD\",\"BEL\",\"BEN\",\"BOL\",\"BIH\",\"BWA\",\"BRA\",\"BGR\",\"BFA\",\"BDI\",\"KHM\",\"CMR\",\"CAN\",\"CAF\",\"TCD\",\"CHL\",\"CHN\",\"COL\",\"COM\",\"COD\",\"COG\",\"CRI\",\"CIV\",\"HRV\",\"CUB\",\"CZE\",\"DNK\",\"DJI\",\"DOM\",\"ECU\",\"EGY\",\"SLV\",\"GNQ\",\"ERI\",\"ETH\",\"FIN\",\"FRA\",\"GAB\",\"GMB\",\"DEU\",\"GHA\",\"GRC\",\"GTM\",\"GIN\",\"GNB\",\"HTI\",\"HND\",\"HKG\",\"HUN\",\"ISL\",\"IND\",\"IDN\",\"IRN\",\"IRQ\",\"IRL\",\"ISR\",\"ITA\",\"JAM\",\"JPN\",\"JOR\",\"KEN\",\"KOR\",\"KOR\",\"KWT\",\"LBN\",\"LSO\",\"LBR\",\"LBY\",\"MDG\",\"MWI\",\"MYS\",\"MLI\",\"MRT\",\"MUS\",\"MEX\",\"MNG\",\"MNE\",\"MAR\",\"MOZ\",\"MMR\",\"NAM\",\"NPL\",\"NLD\",\"NZL\",\"NIC\",\"NER\",\"NGA\",\"NOR\",\"OMN\",\"PAK\",\"PAN\",\"PRY\",\"PER\",\"PHL\",\"POL\",\"PRT\",\"PRI\",\"REU\",\"ROU\",\"RWA\",\"STP\",\"SAU\",\"SEN\",\"SRB\",\"SLE\",\"SGP\",\"SVK\",\"SVN\",\"SOM\",\"ZAF\",\"ESP\",\"LKA\",\"SDN\",\"SWZ\",\"SWE\",\"CHE\",\"SYR\",\"TWN\",\"TZA\",\"THA\",\"TGO\",\"TTO\",\"TUN\",\"TUR\",\"UGA\",\"GBR\",\"USA\",\"URY\",\"VEN\",\"VNM\",\"PSE\",\"YEM\",\"ZMB\",\"ZWE\"],\"name\":\"\",\"z\":[8.0,8.0,15.0,1.0,78.0,147.0,118.0,null,1.0,1792.0,1.0,4.0,7.0,null,160.0,6.0,4.0,null,null,15.0,57.0,null,2.0,38.0,94.0,188.0,null,null,null,null,null,18.0,null,null,116.0,null,108.0,112.0,13.0,null,null,null,18.0,73.0,873.0,null,null,1484.0,14.0,46.0,4.0,3.0,null,14.0,6.0,null,15.0,4.0,114.0,14.0,26.0,null,59.0,17.0,336.0,5.0,42.0,null,28.0,null,null,null,null,null,12.0,4.0,3.0,1.0,24.0,null,null,null,46.0,1.0,null,251.0,2.0,1.0,3.0,3.0,null,6.0,null,null,17.0,194.0,4.0,67.0,60.0,15.0,83.0,31.0,230.0,106.0,null,null,48.0,1.0,null,7.0,1.0,18.0,null,2.0,null,14.0,2.0,55.0,539.0,null,4.0,null,210.0,90.0,1.0,3.0,1.0,29.0,null,14.0,1.0,179.0,2.0,1008.0,460.0,3.0,94.0,1.0,null,null,null,3.0],\"type\":\"choropleth\"}],                        {\"template\":{\"data\":{\"bar\":[{\"error_x\":{\"color\":\"#2a3f5f\"},\"error_y\":{\"color\":\"#2a3f5f\"},\"marker\":{\"line\":{\"color\":\"#E5ECF6\",\"width\":0.5},\"pattern\":{\"fillmode\":\"overlay\",\"size\":10,\"solidity\":0.2}},\"type\":\"bar\"}],\"barpolar\":[{\"marker\":{\"line\":{\"color\":\"#E5ECF6\",\"width\":0.5},\"pattern\":{\"fillmode\":\"overlay\",\"size\":10,\"solidity\":0.2}},\"type\":\"barpolar\"}],\"carpet\":[{\"aaxis\":{\"endlinecolor\":\"#2a3f5f\",\"gridcolor\":\"white\",\"linecolor\":\"white\",\"minorgridcolor\":\"white\",\"startlinecolor\":\"#2a3f5f\"},\"baxis\":{\"endlinecolor\":\"#2a3f5f\",\"gridcolor\":\"white\",\"linecolor\":\"white\",\"minorgridcolor\":\"white\",\"startlinecolor\":\"#2a3f5f\"},\"type\":\"carpet\"}],\"choropleth\":[{\"colorbar\":{\"outlinewidth\":0,\"ticks\":\"\"},\"type\":\"choropleth\"}],\"contour\":[{\"colorbar\":{\"outlinewidth\":0,\"ticks\":\"\"},\"colorscale\":[[0.0,\"#0d0887\"],[0.1111111111111111,\"#46039f\"],[0.2222222222222222,\"#7201a8\"],[0.3333333333333333,\"#9c179e\"],[0.4444444444444444,\"#bd3786\"],[0.5555555555555556,\"#d8576b\"],[0.6666666666666666,\"#ed7953\"],[0.7777777777777778,\"#fb9f3a\"],[0.8888888888888888,\"#fdca26\"],[1.0,\"#f0f921\"]],\"type\":\"contour\"}],\"contourcarpet\":[{\"colorbar\":{\"outlinewidth\":0,\"ticks\":\"\"},\"type\":\"contourcarpet\"}],\"heatmap\":[{\"colorbar\":{\"outlinewidth\":0,\"ticks\":\"\"},\"colorscale\":[[0.0,\"#0d0887\"],[0.1111111111111111,\"#46039f\"],[0.2222222222222222,\"#7201a8\"],[0.3333333333333333,\"#9c179e\"],[0.4444444444444444,\"#bd3786\"],[0.5555555555555556,\"#d8576b\"],[0.6666666666666666,\"#ed7953\"],[0.7777777777777778,\"#fb9f3a\"],[0.8888888888888888,\"#fdca26\"],[1.0,\"#f0f921\"]],\"type\":\"heatmap\"}],\"heatmapgl\":[{\"colorbar\":{\"outlinewidth\":0,\"ticks\":\"\"},\"colorscale\":[[0.0,\"#0d0887\"],[0.1111111111111111,\"#46039f\"],[0.2222222222222222,\"#7201a8\"],[0.3333333333333333,\"#9c179e\"],[0.4444444444444444,\"#bd3786\"],[0.5555555555555556,\"#d8576b\"],[0.6666666666666666,\"#ed7953\"],[0.7777777777777778,\"#fb9f3a\"],[0.8888888888888888,\"#fdca26\"],[1.0,\"#f0f921\"]],\"type\":\"heatmapgl\"}],\"histogram\":[{\"marker\":{\"pattern\":{\"fillmode\":\"overlay\",\"size\":10,\"solidity\":0.2}},\"type\":\"histogram\"}],\"histogram2d\":[{\"colorbar\":{\"outlinewidth\":0,\"ticks\":\"\"},\"colorscale\":[[0.0,\"#0d0887\"],[0.1111111111111111,\"#46039f\"],[0.2222222222222222,\"#7201a8\"],[0.3333333333333333,\"#9c179e\"],[0.4444444444444444,\"#bd3786\"],[0.5555555555555556,\"#d8576b\"],[0.6666666666666666,\"#ed7953\"],[0.7777777777777778,\"#fb9f3a\"],[0.8888888888888888,\"#fdca26\"],[1.0,\"#f0f921\"]],\"type\":\"histogram2d\"}],\"histogram2dcontour\":[{\"colorbar\":{\"outlinewidth\":0,\"ticks\":\"\"},\"colorscale\":[[0.0,\"#0d0887\"],[0.1111111111111111,\"#46039f\"],[0.2222222222222222,\"#7201a8\"],[0.3333333333333333,\"#9c179e\"],[0.4444444444444444,\"#bd3786\"],[0.5555555555555556,\"#d8576b\"],[0.6666666666666666,\"#ed7953\"],[0.7777777777777778,\"#fb9f3a\"],[0.8888888888888888,\"#fdca26\"],[1.0,\"#f0f921\"]],\"type\":\"histogram2dcontour\"}],\"mesh3d\":[{\"colorbar\":{\"outlinewidth\":0,\"ticks\":\"\"},\"type\":\"mesh3d\"}],\"parcoords\":[{\"line\":{\"colorbar\":{\"outlinewidth\":0,\"ticks\":\"\"}},\"type\":\"parcoords\"}],\"pie\":[{\"automargin\":true,\"type\":\"pie\"}],\"scatter\":[{\"marker\":{\"colorbar\":{\"outlinewidth\":0,\"ticks\":\"\"}},\"type\":\"scatter\"}],\"scatter3d\":[{\"line\":{\"colorbar\":{\"outlinewidth\":0,\"ticks\":\"\"}},\"marker\":{\"colorbar\":{\"outlinewidth\":0,\"ticks\":\"\"}},\"type\":\"scatter3d\"}],\"scattercarpet\":[{\"marker\":{\"colorbar\":{\"outlinewidth\":0,\"ticks\":\"\"}},\"type\":\"scattercarpet\"}],\"scattergeo\":[{\"marker\":{\"colorbar\":{\"outlinewidth\":0,\"ticks\":\"\"}},\"type\":\"scattergeo\"}],\"scattergl\":[{\"marker\":{\"colorbar\":{\"outlinewidth\":0,\"ticks\":\"\"}},\"type\":\"scattergl\"}],\"scattermapbox\":[{\"marker\":{\"colorbar\":{\"outlinewidth\":0,\"ticks\":\"\"}},\"type\":\"scattermapbox\"}],\"scatterpolar\":[{\"marker\":{\"colorbar\":{\"outlinewidth\":0,\"ticks\":\"\"}},\"type\":\"scatterpolar\"}],\"scatterpolargl\":[{\"marker\":{\"colorbar\":{\"outlinewidth\":0,\"ticks\":\"\"}},\"type\":\"scatterpolargl\"}],\"scatterternary\":[{\"marker\":{\"colorbar\":{\"outlinewidth\":0,\"ticks\":\"\"}},\"type\":\"scatterternary\"}],\"surface\":[{\"colorbar\":{\"outlinewidth\":0,\"ticks\":\"\"},\"colorscale\":[[0.0,\"#0d0887\"],[0.1111111111111111,\"#46039f\"],[0.2222222222222222,\"#7201a8\"],[0.3333333333333333,\"#9c179e\"],[0.4444444444444444,\"#bd3786\"],[0.5555555555555556,\"#d8576b\"],[0.6666666666666666,\"#ed7953\"],[0.7777777777777778,\"#fb9f3a\"],[0.8888888888888888,\"#fdca26\"],[1.0,\"#f0f921\"]],\"type\":\"surface\"}],\"table\":[{\"cells\":{\"fill\":{\"color\":\"#EBF0F8\"},\"line\":{\"color\":\"white\"}},\"header\":{\"fill\":{\"color\":\"#C8D4E3\"},\"line\":{\"color\":\"white\"}},\"type\":\"table\"}]},\"layout\":{\"annotationdefaults\":{\"arrowcolor\":\"#2a3f5f\",\"arrowhead\":0,\"arrowwidth\":1},\"autotypenumbers\":\"strict\",\"coloraxis\":{\"colorbar\":{\"outlinewidth\":0,\"ticks\":\"\"}},\"colorscale\":{\"diverging\":[[0,\"#8e0152\"],[0.1,\"#c51b7d\"],[0.2,\"#de77ae\"],[0.3,\"#f1b6da\"],[0.4,\"#fde0ef\"],[0.5,\"#f7f7f7\"],[0.6,\"#e6f5d0\"],[0.7,\"#b8e186\"],[0.8,\"#7fbc41\"],[0.9,\"#4d9221\"],[1,\"#276419\"]],\"sequential\":[[0.0,\"#0d0887\"],[0.1111111111111111,\"#46039f\"],[0.2222222222222222,\"#7201a8\"],[0.3333333333333333,\"#9c179e\"],[0.4444444444444444,\"#bd3786\"],[0.5555555555555556,\"#d8576b\"],[0.6666666666666666,\"#ed7953\"],[0.7777777777777778,\"#fb9f3a\"],[0.8888888888888888,\"#fdca26\"],[1.0,\"#f0f921\"]],\"sequentialminus\":[[0.0,\"#0d0887\"],[0.1111111111111111,\"#46039f\"],[0.2222222222222222,\"#7201a8\"],[0.3333333333333333,\"#9c179e\"],[0.4444444444444444,\"#bd3786\"],[0.5555555555555556,\"#d8576b\"],[0.6666666666666666,\"#ed7953\"],[0.7777777777777778,\"#fb9f3a\"],[0.8888888888888888,\"#fdca26\"],[1.0,\"#f0f921\"]]},\"colorway\":[\"#636efa\",\"#EF553B\",\"#00cc96\",\"#ab63fa\",\"#FFA15A\",\"#19d3f3\",\"#FF6692\",\"#B6E880\",\"#FF97FF\",\"#FECB52\"],\"font\":{\"color\":\"#2a3f5f\"},\"geo\":{\"bgcolor\":\"white\",\"lakecolor\":\"white\",\"landcolor\":\"#E5ECF6\",\"showlakes\":true,\"showland\":true,\"subunitcolor\":\"white\"},\"hoverlabel\":{\"align\":\"left\"},\"hovermode\":\"closest\",\"mapbox\":{\"style\":\"light\"},\"paper_bgcolor\":\"white\",\"plot_bgcolor\":\"#E5ECF6\",\"polar\":{\"angularaxis\":{\"gridcolor\":\"white\",\"linecolor\":\"white\",\"ticks\":\"\"},\"bgcolor\":\"#E5ECF6\",\"radialaxis\":{\"gridcolor\":\"white\",\"linecolor\":\"white\",\"ticks\":\"\"}},\"scene\":{\"xaxis\":{\"backgroundcolor\":\"#E5ECF6\",\"gridcolor\":\"white\",\"gridwidth\":2,\"linecolor\":\"white\",\"showbackground\":true,\"ticks\":\"\",\"zerolinecolor\":\"white\"},\"yaxis\":{\"backgroundcolor\":\"#E5ECF6\",\"gridcolor\":\"white\",\"gridwidth\":2,\"linecolor\":\"white\",\"showbackground\":true,\"ticks\":\"\",\"zerolinecolor\":\"white\"},\"zaxis\":{\"backgroundcolor\":\"#E5ECF6\",\"gridcolor\":\"white\",\"gridwidth\":2,\"linecolor\":\"white\",\"showbackground\":true,\"ticks\":\"\",\"zerolinecolor\":\"white\"}},\"shapedefaults\":{\"line\":{\"color\":\"#2a3f5f\"}},\"ternary\":{\"aaxis\":{\"gridcolor\":\"white\",\"linecolor\":\"white\",\"ticks\":\"\"},\"baxis\":{\"gridcolor\":\"white\",\"linecolor\":\"white\",\"ticks\":\"\"},\"bgcolor\":\"#E5ECF6\",\"caxis\":{\"gridcolor\":\"white\",\"linecolor\":\"white\",\"ticks\":\"\"}},\"title\":{\"x\":0.05},\"xaxis\":{\"automargin\":true,\"gridcolor\":\"white\",\"linecolor\":\"white\",\"ticks\":\"\",\"title\":{\"standoff\":15},\"zerolinecolor\":\"white\",\"zerolinewidth\":2},\"yaxis\":{\"automargin\":true,\"gridcolor\":\"white\",\"linecolor\":\"white\",\"ticks\":\"\",\"title\":{\"standoff\":15},\"zerolinecolor\":\"white\",\"zerolinewidth\":2}}},\"geo\":{\"domain\":{\"x\":[0.0,1.0],\"y\":[0.0,1.0]},\"center\":{}},\"coloraxis\":{\"colorbar\":{\"title\":{\"text\":\"count\"}},\"colorscale\":[[0.0,\"#0d0887\"],[0.1111111111111111,\"#46039f\"],[0.2222222222222222,\"#7201a8\"],[0.3333333333333333,\"#9c179e\"],[0.4444444444444444,\"#bd3786\"],[0.5555555555555556,\"#d8576b\"],[0.6666666666666666,\"#ed7953\"],[0.7777777777777778,\"#fb9f3a\"],[0.8888888888888888,\"#fdca26\"],[1.0,\"#f0f921\"]]},\"legend\":{\"tracegroupgap\":0},\"margin\":{\"t\":60}},                        {\"responsive\": true}                    ).then(function(){\n",
       "                            \n",
       "var gd = document.getElementById('aa9fb38d-f5a7-427b-949e-e7e889fb7e67');\n",
       "var x = new MutationObserver(function (mutations, observer) {{\n",
       "        var display = window.getComputedStyle(gd).display;\n",
       "        if (!display || display === 'none') {{\n",
       "            console.log([gd, 'removed!']);\n",
       "            Plotly.purge(gd);\n",
       "            observer.disconnect();\n",
       "        }}\n",
       "}});\n",
       "\n",
       "// Listen for the removal of the full notebook cells\n",
       "var notebookContainer = gd.closest('#notebook-container');\n",
       "if (notebookContainer) {{\n",
       "    x.observe(notebookContainer, {childList: true});\n",
       "}}\n",
       "\n",
       "// Listen for the clearing of the current output cell\n",
       "var outputEl = gd.closest('.output');\n",
       "if (outputEl) {{\n",
       "    x.observe(outputEl, {childList: true});\n",
       "}}\n",
       "\n",
       "                        })                };                });            </script>        </div>"
      ]
     },
     "metadata": {},
     "output_type": "display_data"
    }
   ],
   "source": [
    "import plotly.express as px\n",
    "import numpy as np\n",
    "import pandas as pd\n",
    "\n",
    "np.random.seed(12)\n",
    "gapminder = px.data.gapminder().query(\"year==2007\")\n",
    "#gapminder['counts'] = np.nan\n",
    "\n",
    "d = vectorcounts\n",
    "\n",
    "yourdata = pd.DataFrame(d).T.reset_index()\n",
    "yourdata.columns=['country', 'count']\n",
    "\n",
    "df=pd.merge(gapminder, yourdata, how='left', on='country')\n",
    "\n",
    "fig = px.choropleth(df, locations=\"iso_alpha\",\n",
    "                    color=\"count\", \n",
    "                    hover_name=\"country\", # column to add to hover information\n",
    "                    color_continuous_scale=px.colors.sequential.Plasma)\n",
    "\n",
    "fig.show()"
   ]
  },
  {
   "cell_type": "code",
   "execution_count": 180,
   "id": "524115f5",
   "metadata": {},
   "outputs": [
    {
     "name": "stdout",
     "output_type": "stream",
     "text": [
      "['afghanistan', 'kabul', 'afganistan', 'Afghanistan', 'Afganistan']\n"
     ]
    }
   ],
   "source": [
    "keys = [k for k, v in country_translation_dict.items() if v == 'Afghanistan']\n",
    "print(keys)"
   ]
  },
  {
   "cell_type": "code",
   "execution_count": 232,
   "id": "08313064",
   "metadata": {},
   "outputs": [
    {
     "data": {
      "image/png": "[encoded data removed]",
      "text/plain": [
       "<Figure size 432x288 with 1 Axes>"
      ]
     },
     "metadata": {
      "needs_background": "light"
     },
     "output_type": "display_data"
    }
   ],
   "source": [
    "import matplotlib.pyplot as plt\n",
    "import datetime\n",
    "import numpy as np\n",
    "\n",
    "x = np.array([datetime.datetime(2013, 9, 28, i, 0) for i in range(24)])\n",
    "y = np.random.randint(100, size=x.shape)\n",
    "\n",
    "plt.plot(x,y)\n",
    "plt.show()"
   ]
  },
  {
   "cell_type": "code",
   "execution_count": 238,
   "id": "d0ce0b71",
   "metadata": {},
   "outputs": [
    {
     "data": {
      "text/plain": [
       "[<matplotlib.lines.Line2D at 0x1aefa021960>]"
      ]
     },
     "execution_count": 238,
     "metadata": {},
     "output_type": "execute_result"
    },
    {
     "data": {
      "image/png": "[encoded data removed]",
      "text/plain": [
       "<Figure size 1440x720 with 1 Axes>"
      ]
     },
     "metadata": {
      "needs_background": "light"
     },
     "output_type": "display_data"
    }
   ],
   "source": [
    "plt.rcParams[\"figure.figsize\"] = (20,10)\n",
    "\n",
    "final_df_filtered_plot = final_df_filtered[\"verdict_date\"].value_counts().resample(\"1M\").sum()[150:]\n",
    "plt.plot(final_df_filtered_plot)"
   ]
  },
  {
   "cell_type": "code",
   "execution_count": null,
   "id": "1c379cd6",
   "metadata": {},
   "outputs": [],
   "source": []
  }
 ],
 "metadata": {
  "kernelspec": {
   "display_name": "Python 3 (ipykernel)",
   "language": "python",
   "name": "python3"
  },
  "language_info": {
   "codemirror_mode": {
    "name": "ipython",
    "version": 3
   },
   "file_extension": ".py",
   "mimetype": "text/x-python",
   "name": "python",
   "nbconvert_exporter": "python",
   "pygments_lexer": "ipython3",
   "version": "3.10.1"
  }
 },
 "nbformat": 4,
 "nbformat_minor": 5
}
