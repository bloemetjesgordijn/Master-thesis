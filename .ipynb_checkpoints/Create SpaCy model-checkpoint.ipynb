{
 "cells": [
  {
   "cell_type": "code",
   "execution_count": 8,
   "id": "d922d4c6",
   "metadata": {},
   "outputs": [],
   "source": [
    "import spacy\n",
    "from spacy import displacy\n",
    "import pickle"
   ]
  },
  {
   "cell_type": "markdown",
   "id": "4a6009cf",
   "metadata": {},
   "source": [
    "### Import Word2Vec model"
   ]
  },
  {
   "cell_type": "code",
   "execution_count": 2,
   "id": "126ad087",
   "metadata": {},
   "outputs": [],
   "source": [
    "from gensim.models import Word2Vec\n",
    "dutch_word2vec_model = Word2Vec.load(\"models/word2vec_dutch_court_cases.model\")"
   ]
  },
  {
   "cell_type": "code",
   "execution_count": 3,
   "id": "b40911d5",
   "metadata": {},
   "outputs": [
    {
     "name": "stdout",
     "output_type": "stream",
     "text": [
      "['mdma', 'speed', 'lsd', 'heroïne', 'amfetamine', 'ketamine', 'xtc-pillen', 'mdma)', 'ghb', 'amfetaminen', 'diazepam', 'methadon', 'xtc-tabletten', 'oxazepam', 'ecstasy', '(mdma)', 'morfine', 'xtc)', 'cocaïne', 'crack', 'cafeïne', 'pillen', 'methamfetamine', 'metamfetamine', 'marihuana', 'a-pvp', 'lidocaïne', 'steroïden', 'anabole', 'pep', 'xtc/mdma', 'paracetamol', 'amfetamines', 'fenacetine', 'pillen)', 'temazepam', 'crystal', 'gbl', 'kamagra', '(xtc)', 'methylfenidaat', 'opiaten', 'inositol', 'mdma,', 'cannabis', '(amfetamine)', 'procaïne', 'weed', '(cocaïne', 'ritalin', '(speed)', '(mdma', 'harddrugs', 'amfetamine)', 'viagra', '(met)amfetamine', 'xtc-', 'versnijdingsmiddel', 'tabletten', 'cocaine', 'capsules', 'hasj', 'coke', 'oxycodon', '2c-b', 'mdma-poeder', 'xtc,', 'cocaïne;', 'xtc-pil', 'pure', 'dexamfetamine', 'valium', '5793847)', 'wiet', '‘vieze’', '34-methyleendioxymethamfetamine', 'meth', 'amfetamine;', 'pmma', 'drugs', 'xtc-pillen,', 'mdma;', 'mdma/xtc', 'speed/amfetamine', 'heroïne)', 'opium', 'sildenafil', 'hash', 'heroïne,', '(halve', 'codeïne', 'methyleendioxymethylamphemtamine', '1375000', 'lorazepam', 'heroïne;', 'amfetamine,', 'benzodiazepinen', 'heroine', 'mapa', 'pil']\n"
     ]
    }
   ],
   "source": [
    "sims = dutch_word2vec_model.wv.most_similar('xtc', topn=100)\n",
    "print([i[0] for i in sims])"
   ]
  },
  {
   "cell_type": "markdown",
   "id": "29337a49",
   "metadata": {
    "heading_collapsed": true
   },
   "source": [
    "### Create word lists"
   ]
  },
  {
   "cell_type": "code",
   "execution_count": 4,
   "id": "a9cc1536",
   "metadata": {
    "hidden": true
   },
   "outputs": [],
   "source": [
    "def create_word2vec_relevant_words(words, matches):\n",
    "    word2vec_list = []\n",
    "    for word in words:\n",
    "        results = dutch_word2vec_model.wv.most_similar(word, topn=100)\n",
    "        for i in results:\n",
    "            word2vec_list.append(i[0])\n",
    "            \n",
    "    word2vec_list = list(set([i for i in word2vec_list if word2vec_list.count(i)>matches]))\n",
    "    return word2vec_list"
   ]
  },
  {
   "cell_type": "code",
   "execution_count": 5,
   "id": "bfc15d1f",
   "metadata": {
    "hidden": true
   },
   "outputs": [
    {
     "name": "stdout",
     "output_type": "stream",
     "text": [
      "80\n",
      "['inositol', 'amfetaminen', 'methadon', 'methamfetamine', 'mdma;', 'opium', 'pillen)', 'mdma-poeder', 'ecstasy', 'amfetaminepasta', 'crack', 'harddrugs', 'n-formylamfetamine', 'cocaïne;', 'xtc-tabletten', 'weed', 'xtc/mdma', 'cafeïne', 'mdma', 'speed/amfetamine', 'manitol', 'tabletten', 'metamfetamine', 'ghb', 'hash', 'amfetamine;', '(mdma)', 'coke', 'lsd', 'amfetaminebase', 'cocaine', 'cocaïne', '(hard)drugs', 'mdma-pillen', 'temazepam', 'pil', 'amfetamine)', 'heroïne;', 'heroine', 'methanol', 'diazepam', '(xtc)', 'kristallen', 'amfetamineolie', 'hasj', 'gbl', 'ketamine', 'pillen', '34-methyleendioxymethamfetamine', 'paracetamol', 'hasjiesj', 'olie', 'crystal', '2c-b', 'xtc', '(met)amfetamine', 'mapa', 'fenacetine', 'amfetamine', 'heroïne', 'marihuana', 'amfetaminesulfaat', 'drugs', 'hennep', 'xtc-pillen', 'speed', 'lidocaïne', 'wiet', 'coffeïne', 'morfine', 'apaan', 'pep', 'cocaïne?', 'mdma)', 'cannabis', 'mdma-kristallen', 'hashish', 'mdma-hcl', 'meth', 'mdma/xtc']\n"
     ]
    }
   ],
   "source": [
    "list_of_drugs = ['xtc', 'mdma', 'cocaine', 'wiet', 'speed', 'bmk', 'pmk']\n",
    "word2vec_drug_list = create_word2vec_relevant_words(list_of_drugs, 2)\n",
    "\n",
    "print(len(word2vec_drug_list))\n",
    "print(word2vec_drug_list)"
   ]
  },
  {
   "cell_type": "code",
   "execution_count": 9,
   "id": "b3e1f7f4",
   "metadata": {
    "hidden": true
   },
   "outputs": [
    {
     "name": "stdout",
     "output_type": "stream",
     "text": [
      "120\n"
     ]
    }
   ],
   "source": [
    "my_file = open(\"drugs list.txt\", \"r\", encoding='utf-8')\n",
    "my_file = my_file.readlines()\n",
    "drugs_list = []\n",
    "for i in my_file:\n",
    "    drugs_list.append(i.replace('\\n', ''))\n",
    "drugs_list = list(set(drugs_list + word2vec_drug_list))\n",
    "print(len(drugs_list))"
   ]
  },
  {
   "cell_type": "code",
   "execution_count": 10,
   "id": "7de0d926",
   "metadata": {
    "hidden": true
   },
   "outputs": [],
   "source": [
    "open_file = open('saves/drug_list.pkl', \"wb\")\n",
    "pickle.dump(drugs_list, open_file)\n",
    "open_file.close()"
   ]
  },
  {
   "cell_type": "code",
   "execution_count": 11,
   "id": "771435e0",
   "metadata": {
    "hidden": true
   },
   "outputs": [
    {
     "name": "stdout",
     "output_type": "stream",
     "text": [
      "38\n",
      "['aankoop', 'in-/uitvoer', 'invoer', 'organisatoren', 'terugwinnen/bewerken', 'bewerking', 'bewerken/verwerken', 'cocaïnehandel', 'fabricage', 'verkoop', 'kweek', 'leverantie', 'uitvoer', 'exporteren', 'productie', 'export', 'aanvoer', 'invoeren', 'produktie', 'terugwinnen', 'productie/verwerking', 'smokkel', 'vervaardiging', 'straatverkoop', 'transport', 'ladingen', 'importeren', 'hennephandel', 'import', 'versnijding', 'resten)', 'bronland', 'handel', '(invoer', 'doorvoer', 'uithalen', 'levering', 'transporteren']\n"
     ]
    }
   ],
   "source": [
    "list_of_smuggle_words = ['smokkel', 'invoer', 'uitvoer', 'import', 'export', 'transport']\n",
    "word2vec_smuggle_list = create_word2vec_relevant_words(list_of_smuggle_words, 3)\n",
    "\n",
    "word2vec_smuggle_list = list(set(word2vec_smuggle_list + list_of_smuggle_words ))\n",
    "print(len(word2vec_smuggle_list))\n",
    "print(word2vec_smuggle_list)"
   ]
  },
  {
   "cell_type": "code",
   "execution_count": 12,
   "id": "cc9e40dc",
   "metadata": {
    "hidden": true
   },
   "outputs": [],
   "source": [
    "open_file = open('saves/smuggle_words.pkl', \"wb\")\n",
    "pickle.dump(word2vec_smuggle_list, open_file)\n",
    "open_file.close()"
   ]
  },
  {
   "cell_type": "code",
   "execution_count": 13,
   "id": "5303dcde",
   "metadata": {
    "hidden": true
   },
   "outputs": [
    {
     "name": "stdout",
     "output_type": "stream",
     "text": [
      "53\n",
      "['drums', 'pakketten', 'cm)', 'gripzakjes', 'kilo)', 'kilo;', 'ml', 'km/uur', 'kilo', 'mg/m2', 'liter;', 'mg/ml', 'pakjes', 'pillen', 'kilogram;', 'gram10', 'stuks', 'xtc-pillen', 'blokken', 'liter)', 'kg)', 'db(a)', 'mdma-pillen', 'planten)', 'bollen', 'km', 'gram)', 'bolletjes', 'gr', 'gram”', '%', 'meter)', 'm²', 'wikkels', 'ampullen', 'gram', 'µg', 'milligram', 'milliliter', 'km/u', 'ton', 'bolletjes)', 'ng/ml', 'tabletten', 'liter', 'zakjes', 'litervat', 'mg/l', 'mg', 'ponypacks', 'gram;', 'gram:', 'kilogram)']\n"
     ]
    }
   ],
   "source": [
    "list_of_quantity_words = ['tabletten', 'kilo', 'gram', 'pakketten', 'milligram']\n",
    "word2vec_quantity_list = create_word2vec_relevant_words(list_of_quantity_words, 2)\n",
    "\n",
    "word2vec_quantity_list = list(set(word2vec_quantity_list + list_of_quantity_words))\n",
    "print(len(word2vec_quantity_list))\n",
    "print(word2vec_quantity_list)"
   ]
  },
  {
   "cell_type": "code",
   "execution_count": null,
   "id": "5bdecb18",
   "metadata": {
    "hidden": true
   },
   "outputs": [],
   "source": []
  },
  {
   "cell_type": "markdown",
   "id": "58b036a7",
   "metadata": {
    "heading_collapsed": true
   },
   "source": [
    "### Import country lists"
   ]
  },
  {
   "cell_type": "markdown",
   "id": "a709bc41",
   "metadata": {
    "hidden": true
   },
   "source": [
    "Read countries to exclude text file"
   ]
  },
  {
   "cell_type": "code",
   "execution_count": 14,
   "id": "6e110013",
   "metadata": {
    "hidden": true
   },
   "outputs": [],
   "source": [
    "my_file = open(\"saves/countries_to_exclude.txt\", \"r\")\n",
    "content = my_file.read()\n",
    "countries_to_exclude_from_txt = content.split('\\n')"
   ]
  },
  {
   "cell_type": "markdown",
   "id": "5be5192f",
   "metadata": {
    "hidden": true
   },
   "source": [
    "Read countries to exclude pickle"
   ]
  },
  {
   "cell_type": "code",
   "execution_count": 15,
   "id": "881bb569",
   "metadata": {
    "hidden": true
   },
   "outputs": [],
   "source": [
    "open_file = open('saves/countries_to_exclude.pkl', \"rb\")\n",
    "countries_to_exclude = pickle.load(open_file)\n",
    "open_file.close()"
   ]
  },
  {
   "cell_type": "markdown",
   "id": "6f7ce83d",
   "metadata": {
    "hidden": true
   },
   "source": [
    "Merge together"
   ]
  },
  {
   "cell_type": "code",
   "execution_count": 16,
   "id": "09ee0701",
   "metadata": {
    "hidden": true
   },
   "outputs": [],
   "source": [
    "for loc in countries_to_exclude_from_txt:\n",
    "    if loc not in countries_to_exclude:\n",
    "        countries_to_exclude.append(loc)"
   ]
  },
  {
   "cell_type": "code",
   "execution_count": 18,
   "id": "2022d3d8",
   "metadata": {
    "hidden": true
   },
   "outputs": [],
   "source": [
    "open_file = open('saves/country_translation_dict.pkl', \"rb\")\n",
    "country_translation_dict = pickle.load(open_file)\n",
    "open_file.close()"
   ]
  },
  {
   "cell_type": "code",
   "execution_count": 19,
   "id": "df55139c",
   "metadata": {
    "hidden": true
   },
   "outputs": [
    {
     "name": "stdout",
     "output_type": "stream",
     "text": [
      "8041 entries in countries_to_exclude\n",
      "150 countries in country_translation_dict\n"
     ]
    }
   ],
   "source": [
    "print(f\"{len(countries_to_exclude)} entries in countries_to_exclude\")\n",
    "print(f\"{len(country_translation_dict)} countries in country_translation_dict\")"
   ]
  },
  {
   "cell_type": "code",
   "execution_count": null,
   "id": "14308951",
   "metadata": {
    "hidden": true
   },
   "outputs": [],
   "source": []
  },
  {
   "cell_type": "markdown",
   "id": "f76b818c",
   "metadata": {},
   "source": [
    "### Create model"
   ]
  },
  {
   "cell_type": "code",
   "execution_count": null,
   "id": "1d949260",
   "metadata": {},
   "outputs": [],
   "source": [
    "# !python -m spacy download nl_core_news_lg\n"
   ]
  },
  {
   "cell_type": "code",
   "execution_count": 35,
   "id": "0c8c2c32",
   "metadata": {},
   "outputs": [],
   "source": [
    "nlp = spacy.load('nl_core_news_lg')"
   ]
  },
  {
   "cell_type": "code",
   "execution_count": 27,
   "id": "07f862c7",
   "metadata": {},
   "outputs": [],
   "source": [
    "# countries_to_exclude\n",
    "# country_translation_dict"
   ]
  },
  {
   "cell_type": "code",
   "execution_count": 36,
   "id": "00ede803",
   "metadata": {},
   "outputs": [
    {
     "name": "stdout",
     "output_type": "stream",
     "text": [
      "3800\n"
     ]
    }
   ],
   "source": [
    "countries_list = []\n",
    "for key in country_translation_dict:\n",
    "    for loc in country_translation_dict[key]:\n",
    "        if loc not in countries_list:\n",
    "            countries_list.append(loc)\n",
    "print(len(countries_list))"
   ]
  },
  {
   "cell_type": "code",
   "execution_count": 37,
   "id": "e2f9f43b",
   "metadata": {},
   "outputs": [],
   "source": [
    "def configure_spacy_model():\n",
    "    # Create dict of drug pattern and quantity pattern\n",
    "    pattern_list = []\n",
    "\n",
    "    for i in drugs_list:\n",
    "        pattern_list.append({\"label\": \"DRUG\", \"pattern\": [{\"lower\": i.lower()}]})\n",
    "    \n",
    "    for i in word2vec_quantity_list:\n",
    "        pattern_list.append({\"label\": \"QUANTITY\", \"pattern\": [{\"IS_DIGIT\": True}, {\"LOWER\": i}]})\n",
    "        pattern_list.append({\"label\": \"QUANTITY\", \"pattern\": [{\"ENT_TYPE\": \"CARDINAL\"}, {\"LOWER\": i}]})\n",
    "    \n",
    "    for i in countries_list:\n",
    "        pattern_list.append({\"label\": \"GPE\", \"pattern\": [{\"lower\": i.replace(' ', '').lower()}]})\n",
    "        \n",
    "    for i in countries_to_exclude:\n",
    "        pattern_list.append({\"label\": \"EXCL\", \"pattern\": [{\"lower\": i.lower()}]})\n",
    "    \n",
    "    # Add drug and quantity rules to the model\n",
    "    config = {\n",
    "   \"phrase_matcher_attr\": None,\n",
    "   \"validate\": True,\n",
    "   \"overwrite_ents\": True,\n",
    "   \"ent_id_sep\": \"||\",\n",
    "    }\n",
    "    ruler = nlp.add_pipe(\"entity_ruler\", config=config)\n",
    "\n",
    "    ruler.add_patterns(pattern_list)"
   ]
  },
  {
   "cell_type": "code",
   "execution_count": 38,
   "id": "1e6e8ae5",
   "metadata": {},
   "outputs": [],
   "source": [
    "configure_spacy_model()"
   ]
  },
  {
   "cell_type": "code",
   "execution_count": 39,
   "id": "d1811e46",
   "metadata": {},
   "outputs": [],
   "source": [
    "nlp.to_disk('models/configured_spacy_model')"
   ]
  },
  {
   "cell_type": "code",
   "execution_count": null,
   "id": "8244bcfd",
   "metadata": {},
   "outputs": [],
   "source": []
  },
  {
   "cell_type": "markdown",
   "id": "f57ee3ec",
   "metadata": {},
   "source": [
    "### Tests"
   ]
  },
  {
   "cell_type": "code",
   "execution_count": 40,
   "id": "2ea9f7b2",
   "metadata": {},
   "outputs": [],
   "source": [
    "nlp = spacy.load('models/configured_spacy_model')"
   ]
  },
  {
   "cell_type": "code",
   "execution_count": 43,
   "id": "3206f45b",
   "metadata": {},
   "outputs": [],
   "source": [
    "txt = \"De verdachte vervoerde 200 kg cocaine van Nederland naar het buitenland.\""
   ]
  },
  {
   "cell_type": "code",
   "execution_count": 44,
   "id": "c7a87204",
   "metadata": {},
   "outputs": [
    {
     "data": {
      "text/html": [
       "<span class=\"tex2jax_ignore\"><div class=\"entities\" style=\"line-height: 2.5; direction: ltr\">De verdachte vervoerde \n",
       "<mark class=\"entity\" style=\"background: #e4e7d2; padding: 0.45em 0.6em; margin: 0 0.25em; line-height: 1; border-radius: 0.35em;\">\n",
       "    200 kg\n",
       "    <span style=\"font-size: 0.8em; font-weight: bold; line-height: 1; border-radius: 0.35em; vertical-align: middle; margin-left: 0.5rem\">QUANTITY</span>\n",
       "</mark>\n",
       " \n",
       "<mark class=\"entity\" style=\"background: #ddd; padding: 0.45em 0.6em; margin: 0 0.25em; line-height: 1; border-radius: 0.35em;\">\n",
       "    cocaine\n",
       "    <span style=\"font-size: 0.8em; font-weight: bold; line-height: 1; border-radius: 0.35em; vertical-align: middle; margin-left: 0.5rem\">DRUG</span>\n",
       "</mark>\n",
       " van \n",
       "<mark class=\"entity\" style=\"background: #feca74; padding: 0.45em 0.6em; margin: 0 0.25em; line-height: 1; border-radius: 0.35em;\">\n",
       "    Nederland\n",
       "    <span style=\"font-size: 0.8em; font-weight: bold; line-height: 1; border-radius: 0.35em; vertical-align: middle; margin-left: 0.5rem\">GPE</span>\n",
       "</mark>\n",
       " naar het \n",
       "<mark class=\"entity\" style=\"background: #ddd; padding: 0.45em 0.6em; margin: 0 0.25em; line-height: 1; border-radius: 0.35em;\">\n",
       "    buitenland\n",
       "    <span style=\"font-size: 0.8em; font-weight: bold; line-height: 1; border-radius: 0.35em; vertical-align: middle; margin-left: 0.5rem\">EXCL</span>\n",
       "</mark>\n",
       ".</div></span>"
      ],
      "text/plain": [
       "<IPython.core.display.HTML object>"
      ]
     },
     "metadata": {},
     "output_type": "display_data"
    }
   ],
   "source": [
    "displacy.render(nlp(txt), style='ent')"
   ]
  },
  {
   "cell_type": "code",
   "execution_count": null,
   "id": "ef0e0971",
   "metadata": {},
   "outputs": [],
   "source": []
  }
 ],
 "metadata": {
  "kernelspec": {
   "display_name": "Python 3 (ipykernel)",
   "language": "python",
   "name": "python3"
  },
  "language_info": {
   "codemirror_mode": {
    "name": "ipython",
    "version": 3
   },
   "file_extension": ".py",
   "mimetype": "text/x-python",
   "name": "python",
   "nbconvert_exporter": "python",
   "pygments_lexer": "ipython3",
   "version": "3.10.1"
  }
 },
 "nbformat": 4,
 "nbformat_minor": 5
}
